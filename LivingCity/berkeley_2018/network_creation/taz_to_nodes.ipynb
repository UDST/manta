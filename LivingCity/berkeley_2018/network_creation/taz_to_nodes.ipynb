{
 "cells": [
  {
   "cell_type": "code",
   "execution_count": 1,
   "metadata": {
    "nbpresent": {
     "id": "70cafb46-dca6-422e-8be0-5226fbca50b3"
    }
   },
   "outputs": [
    {
     "name": "stdout",
     "output_type": "stream",
     "text": [
      "ox 0.8.2\n",
      "nx 2.1\n"
     ]
    }
   ],
   "source": [
    "import time\n",
    "import os, zipfile, requests, pandas as pd, geopandas as gpd, osmnx as ox, networkx as nx\n",
    "import ast\n",
    "import statistics\n",
    "import numpy as np\n",
    "from sklearn.neighbors import BallTree\n",
    "from shapely.geometry import Point\n",
    "import random\n",
    "import matplotlib.path as mpltPath\n",
    "import json \n",
    "\n",
    "ox.config(use_cache=True, log_console=True)\n",
    "print('ox {}\\nnx {}'.format(ox.__version__, nx.__version__))\n",
    "start_time = time.time()"
   ]
  },
  {
   "cell_type": "markdown",
   "metadata": {},
   "source": [
    "# Get all TAZs for the Bay Area and all trips from the Bay Area MTC"
   ]
  },
  {
   "cell_type": "code",
   "execution_count": 2,
   "metadata": {
    "nbpresent": {
     "id": "4354d77f-1d49-403a-b703-f344dbb699c7"
    }
   },
   "outputs": [],
   "source": [
    "taz_loc_df = pd.read_csv(\"Traffic_Analysis_Zones.csv\")\n",
    "trips_df = pd.read_csv(\"indivTripData_3.csv\")"
   ]
  },
  {
   "cell_type": "code",
   "execution_count": null,
   "metadata": {},
   "outputs": [],
   "source": [
    "trips_df.head()"
   ]
  },
  {
   "cell_type": "markdown",
   "metadata": {},
   "source": [
    "# Narrow down trips to only morning trips between 8-9am (morning peak) and also only to car trips (both driving and ridesharing)"
   ]
  },
  {
   "cell_type": "code",
   "execution_count": 4,
   "metadata": {
    "nbpresent": {
     "id": "5588c773-009c-40c4-a4be-8ec512d71d20"
    }
   },
   "outputs": [],
   "source": [
    "#get only peak morning trips and the shape\n",
    "depart_hour = 8\n",
    "morning_peak = trips_df[(trips_df.depart_hour == depart_hour)] #| (trips_df.depart_hour == 9)]\n",
    "morning_peak.shape\n",
    "\n",
    "time_string = '{}to{}'.format(depart_hour, depart_hour + 1)"
   ]
  },
  {
   "cell_type": "code",
   "execution_count": 5,
   "metadata": {
    "nbpresent": {
     "id": "c5a18b9f-0129-4cdf-b8d2-ef4376eaf53e"
    }
   },
   "outputs": [
    {
     "data": {
      "text/plain": [
       "(866375, 18)"
      ]
     },
     "execution_count": 5,
     "metadata": {},
     "output_type": "execute_result"
    }
   ],
   "source": [
    "#get full car trips from O to D (this includes ridesharing, but does not include car to another form of transit)\n",
    "morning_peak = morning_peak[morning_peak.trip_mode < 7]\n",
    "morning_peak.shape"
   ]
  },
  {
   "cell_type": "code",
   "execution_count": 6,
   "metadata": {
    "nbpresent": {
     "id": "d403d3eb-9c82-4178-9d24-d4e2cd533ef2"
    }
   },
   "outputs": [
    {
     "data": {
      "text/html": [
       "<div>\n",
       "<style scoped>\n",
       "    .dataframe tbody tr th:only-of-type {\n",
       "        vertical-align: middle;\n",
       "    }\n",
       "\n",
       "    .dataframe tbody tr th {\n",
       "        vertical-align: top;\n",
       "    }\n",
       "\n",
       "    .dataframe thead th {\n",
       "        text-align: right;\n",
       "    }\n",
       "</style>\n",
       "<table border=\"1\" class=\"dataframe\">\n",
       "  <thead>\n",
       "    <tr style=\"text-align: right;\">\n",
       "      <th></th>\n",
       "      <th>hh_id</th>\n",
       "      <th>person_id</th>\n",
       "      <th>person_num</th>\n",
       "      <th>tour_id</th>\n",
       "      <th>stop_id</th>\n",
       "      <th>inbound</th>\n",
       "      <th>tour_purpose</th>\n",
       "      <th>orig_purpose</th>\n",
       "      <th>dest_purpose</th>\n",
       "      <th>orig_taz</th>\n",
       "      <th>orig_walk_segment</th>\n",
       "      <th>dest_taz</th>\n",
       "      <th>dest_walk_segment</th>\n",
       "      <th>parking_taz</th>\n",
       "      <th>depart_hour</th>\n",
       "      <th>trip_mode</th>\n",
       "      <th>tour_mode</th>\n",
       "      <th>tour_category</th>\n",
       "    </tr>\n",
       "  </thead>\n",
       "  <tbody>\n",
       "    <tr>\n",
       "      <th>6</th>\n",
       "      <td>1213144</td>\n",
       "      <td>2741557</td>\n",
       "      <td>1</td>\n",
       "      <td>0</td>\n",
       "      <td>1</td>\n",
       "      <td>0</td>\n",
       "      <td>work_med</td>\n",
       "      <td>escort</td>\n",
       "      <td>work</td>\n",
       "      <td>11</td>\n",
       "      <td>1</td>\n",
       "      <td>16</td>\n",
       "      <td>1</td>\n",
       "      <td>0</td>\n",
       "      <td>8</td>\n",
       "      <td>3</td>\n",
       "      <td>3</td>\n",
       "      <td>MANDATORY</td>\n",
       "    </tr>\n",
       "    <tr>\n",
       "      <th>61</th>\n",
       "      <td>730660</td>\n",
       "      <td>1422398</td>\n",
       "      <td>1</td>\n",
       "      <td>0</td>\n",
       "      <td>0</td>\n",
       "      <td>0</td>\n",
       "      <td>work_med</td>\n",
       "      <td>Home</td>\n",
       "      <td>work</td>\n",
       "      <td>1</td>\n",
       "      <td>1</td>\n",
       "      <td>22</td>\n",
       "      <td>1</td>\n",
       "      <td>0</td>\n",
       "      <td>8</td>\n",
       "      <td>1</td>\n",
       "      <td>3</td>\n",
       "      <td>MANDATORY</td>\n",
       "    </tr>\n",
       "    <tr>\n",
       "      <th>62</th>\n",
       "      <td>730660</td>\n",
       "      <td>1422398</td>\n",
       "      <td>1</td>\n",
       "      <td>0</td>\n",
       "      <td>1</td>\n",
       "      <td>0</td>\n",
       "      <td>work_med</td>\n",
       "      <td>work</td>\n",
       "      <td>work</td>\n",
       "      <td>22</td>\n",
       "      <td>1</td>\n",
       "      <td>16</td>\n",
       "      <td>1</td>\n",
       "      <td>0</td>\n",
       "      <td>8</td>\n",
       "      <td>1</td>\n",
       "      <td>3</td>\n",
       "      <td>MANDATORY</td>\n",
       "    </tr>\n",
       "    <tr>\n",
       "      <th>64</th>\n",
       "      <td>225308</td>\n",
       "      <td>300174</td>\n",
       "      <td>1</td>\n",
       "      <td>0</td>\n",
       "      <td>-1</td>\n",
       "      <td>0</td>\n",
       "      <td>university</td>\n",
       "      <td>Home</td>\n",
       "      <td>university</td>\n",
       "      <td>1</td>\n",
       "      <td>1</td>\n",
       "      <td>12</td>\n",
       "      <td>1</td>\n",
       "      <td>0</td>\n",
       "      <td>8</td>\n",
       "      <td>1</td>\n",
       "      <td>1</td>\n",
       "      <td>MANDATORY</td>\n",
       "    </tr>\n",
       "    <tr>\n",
       "      <th>65</th>\n",
       "      <td>225308</td>\n",
       "      <td>300174</td>\n",
       "      <td>1</td>\n",
       "      <td>0</td>\n",
       "      <td>-1</td>\n",
       "      <td>1</td>\n",
       "      <td>university</td>\n",
       "      <td>university</td>\n",
       "      <td>Home</td>\n",
       "      <td>12</td>\n",
       "      <td>1</td>\n",
       "      <td>1</td>\n",
       "      <td>1</td>\n",
       "      <td>0</td>\n",
       "      <td>8</td>\n",
       "      <td>1</td>\n",
       "      <td>1</td>\n",
       "      <td>MANDATORY</td>\n",
       "    </tr>\n",
       "  </tbody>\n",
       "</table>\n",
       "</div>"
      ],
      "text/plain": [
       "      hh_id  person_id  person_num  tour_id  stop_id  inbound tour_purpose  \\\n",
       "6   1213144    2741557           1        0        1        0     work_med   \n",
       "61   730660    1422398           1        0        0        0     work_med   \n",
       "62   730660    1422398           1        0        1        0     work_med   \n",
       "64   225308     300174           1        0       -1        0   university   \n",
       "65   225308     300174           1        0       -1        1   university   \n",
       "\n",
       "   orig_purpose dest_purpose  orig_taz  orig_walk_segment  dest_taz  \\\n",
       "6        escort         work        11                  1        16   \n",
       "61         Home         work         1                  1        22   \n",
       "62         work         work        22                  1        16   \n",
       "64         Home   university         1                  1        12   \n",
       "65   university         Home        12                  1         1   \n",
       "\n",
       "    dest_walk_segment  parking_taz  depart_hour  trip_mode  tour_mode  \\\n",
       "6                   1            0            8          3          3   \n",
       "61                  1            0            8          1          3   \n",
       "62                  1            0            8          1          3   \n",
       "64                  1            0            8          1          1   \n",
       "65                  1            0            8          1          1   \n",
       "\n",
       "   tour_category  \n",
       "6      MANDATORY  \n",
       "61     MANDATORY  \n",
       "62     MANDATORY  \n",
       "64     MANDATORY  \n",
       "65     MANDATORY  "
      ]
     },
     "execution_count": 6,
     "metadata": {},
     "output_type": "execute_result"
    }
   ],
   "source": [
    "morning_peak.head()"
   ]
  },
  {
   "cell_type": "markdown",
   "metadata": {},
   "source": [
    "# Create functions to find the nodes that are within the polygons of each TAZ"
   ]
  },
  {
   "cell_type": "code",
   "execution_count": 7,
   "metadata": {},
   "outputs": [],
   "source": [
    "def find_in_nodes(row, points, nodes_df):\n",
    "    ### return the indices of points in nodes_df that are contained in row['geometry']\n",
    "    if row['geometry'].type == 'MultiPolygon':\n",
    "        return []\n",
    "    else:\n",
    "        path = mpltPath.Path(list(zip(*row['geometry'].exterior.coords.xy)))\n",
    "        in_index = path.contains_points(points)\n",
    "        return nodes_df['osmid'].loc[in_index].tolist()\n",
    "\n",
    "\n",
    "def taz_nodes():\n",
    "    ### Find corresponding nodes for each TAZ\n",
    "    ### Input 1: TAZ polyline\n",
    "    taz_gdf = gpd.read_file(\"Travel_Analysis_Zones.shp\")\n",
    "    #taz_gdf = gpd.read_file(\"san_francisco_taz.json\")\n",
    "    taz_gdf = taz_gdf.to_crs({'init': 'epsg:4326'})\n",
    "\n",
    "    ### Input 2: OSM nodes coordinate\n",
    "    nodes_df = pd.read_csv('../new_tertiary/nodes.csv') ### `nodes.csv` from OSMNX\n",
    "    points = nodes_df[['x', 'y']].values ### x, y are the coordinates of the nodes\n",
    "    taz_gdf['in_nodes'] = taz_gdf.apply(lambda row: find_in_nodes(row, points, nodes_df), axis=1)\n",
    "    taz_nodes_dict = {row['TAZ1454']:row['in_nodes'] for index, row in taz_gdf.iterrows()}\n",
    "    \n",
    "    return taz_nodes_dict\n",
    "    ### [{'taz': 1, 'in_nodes': '[...]''}, ...]\n",
    "    #with open('taz_nodes.json', 'w') as outfile:\n",
    "    #    json.dump(taz_nodes_dict, outfile, indent=2)"
   ]
  },
  {
   "cell_type": "code",
   "execution_count": 8,
   "metadata": {},
   "outputs": [],
   "source": [
    "taz_nodes_dict = taz_nodes()"
   ]
  },
  {
   "cell_type": "markdown",
   "metadata": {},
   "source": [
    "# Count the number of TAZs that do not have any nodes in its network (for informational purposes/sanity check)"
   ]
  },
  {
   "cell_type": "code",
   "execution_count": 9,
   "metadata": {},
   "outputs": [
    {
     "name": "stdout",
     "output_type": "stream",
     "text": [
      "91\n"
     ]
    }
   ],
   "source": [
    "#number of TAZ that do not have any nodes in its network\n",
    "count = 0\n",
    "for key, value in taz_nodes_dict.items():\n",
    "    if len(taz_nodes_dict[key]) == 0:\n",
    "        count += 1\n",
    "print(count)"
   ]
  },
  {
   "cell_type": "markdown",
   "metadata": {},
   "source": [
    "# Create functions to (a) generate a dataframe containing all OD from TAZ to TAZ, and then (b) randomly assign each O to a particular node in the TAZ and each D to a particular node in the TAZ"
   ]
  },
  {
   "cell_type": "code",
   "execution_count": 10,
   "metadata": {},
   "outputs": [],
   "source": [
    "#create dataframe of each person with origin TAZ and destination TAZ\n",
    "def create_od_df(trips_df):\n",
    "    orig_dest_df = pd.DataFrame(columns=['orig', 'dest'])\n",
    "    orig_dest_df['orig'] = morning_peak['orig_taz']\n",
    "    orig_dest_df['dest'] = morning_peak['dest_taz']\n",
    "    orig_dest_df['person_id'] = morning_peak['person_id']\n",
    "    orig_dest_df['person_num'] = morning_peak['person_num']\n",
    "    return orig_dest_df\n",
    "\n",
    "def assign_node_to_od(od_df, taz_nodes_dict, assign='random'):\n",
    "    origs = []\n",
    "    dests = []\n",
    "    bad_list = []\n",
    "    for i, row in enumerate(od_df.itertuples(), 0):\n",
    "        len_network_o = len(taz_nodes_dict[row.orig])\n",
    "        len_network_d = len(taz_nodes_dict[row.dest])\n",
    "        if len_network_o == 0 or len_network_d == 0:\n",
    "            bad_list += [i,]\n",
    "        else:\n",
    "            if assign == 'random':\n",
    "                node_o = random.choice(taz_nodes_dict[row.orig])\n",
    "                node_d = random.choice(taz_nodes_dict[row.dest])\n",
    "                #print(node_o)\n",
    "                #print(node_d)\n",
    "        \n",
    "                origs += [node_o,]\n",
    "                dests += [node_d,]\n",
    "                \n",
    "    print(\"number of OD taz with zero nodes = {}\".format(len(bad_list)))\n",
    "    return origs, dests, bad_list"
   ]
  },
  {
   "cell_type": "code",
   "execution_count": 11,
   "metadata": {},
   "outputs": [
    {
     "data": {
      "text/html": [
       "<div>\n",
       "<style scoped>\n",
       "    .dataframe tbody tr th:only-of-type {\n",
       "        vertical-align: middle;\n",
       "    }\n",
       "\n",
       "    .dataframe tbody tr th {\n",
       "        vertical-align: top;\n",
       "    }\n",
       "\n",
       "    .dataframe thead th {\n",
       "        text-align: right;\n",
       "    }\n",
       "</style>\n",
       "<table border=\"1\" class=\"dataframe\">\n",
       "  <thead>\n",
       "    <tr style=\"text-align: right;\">\n",
       "      <th></th>\n",
       "      <th>orig</th>\n",
       "      <th>dest</th>\n",
       "      <th>person_id</th>\n",
       "      <th>person_num</th>\n",
       "    </tr>\n",
       "  </thead>\n",
       "  <tbody>\n",
       "    <tr>\n",
       "      <th>6</th>\n",
       "      <td>11</td>\n",
       "      <td>16</td>\n",
       "      <td>2741557</td>\n",
       "      <td>1</td>\n",
       "    </tr>\n",
       "    <tr>\n",
       "      <th>61</th>\n",
       "      <td>1</td>\n",
       "      <td>22</td>\n",
       "      <td>1422398</td>\n",
       "      <td>1</td>\n",
       "    </tr>\n",
       "    <tr>\n",
       "      <th>62</th>\n",
       "      <td>22</td>\n",
       "      <td>16</td>\n",
       "      <td>1422398</td>\n",
       "      <td>1</td>\n",
       "    </tr>\n",
       "    <tr>\n",
       "      <th>64</th>\n",
       "      <td>1</td>\n",
       "      <td>12</td>\n",
       "      <td>300174</td>\n",
       "      <td>1</td>\n",
       "    </tr>\n",
       "    <tr>\n",
       "      <th>65</th>\n",
       "      <td>12</td>\n",
       "      <td>1</td>\n",
       "      <td>300174</td>\n",
       "      <td>1</td>\n",
       "    </tr>\n",
       "  </tbody>\n",
       "</table>\n",
       "</div>"
      ],
      "text/plain": [
       "    orig  dest  person_id  person_num\n",
       "6     11    16    2741557           1\n",
       "61     1    22    1422398           1\n",
       "62    22    16    1422398           1\n",
       "64     1    12     300174           1\n",
       "65    12     1     300174           1"
      ]
     },
     "execution_count": 11,
     "metadata": {},
     "output_type": "execute_result"
    }
   ],
   "source": [
    "morning_peak_od_df = create_od_df(morning_peak)\n",
    "morning_peak_od_df.head()"
   ]
  },
  {
   "cell_type": "code",
   "execution_count": 12,
   "metadata": {},
   "outputs": [
    {
     "data": {
      "text/html": [
       "<div>\n",
       "<style scoped>\n",
       "    .dataframe tbody tr th:only-of-type {\n",
       "        vertical-align: middle;\n",
       "    }\n",
       "\n",
       "    .dataframe tbody tr th {\n",
       "        vertical-align: top;\n",
       "    }\n",
       "\n",
       "    .dataframe thead th {\n",
       "        text-align: right;\n",
       "    }\n",
       "</style>\n",
       "<table border=\"1\" class=\"dataframe\">\n",
       "  <thead>\n",
       "    <tr style=\"text-align: right;\">\n",
       "      <th></th>\n",
       "      <th>orig</th>\n",
       "      <th>dest</th>\n",
       "      <th>person_id</th>\n",
       "      <th>person_num</th>\n",
       "    </tr>\n",
       "  </thead>\n",
       "  <tbody>\n",
       "    <tr>\n",
       "      <th>6</th>\n",
       "      <td>11</td>\n",
       "      <td>16</td>\n",
       "      <td>2741557</td>\n",
       "      <td>1</td>\n",
       "    </tr>\n",
       "    <tr>\n",
       "      <th>61</th>\n",
       "      <td>1</td>\n",
       "      <td>22</td>\n",
       "      <td>1422398</td>\n",
       "      <td>1</td>\n",
       "    </tr>\n",
       "    <tr>\n",
       "      <th>62</th>\n",
       "      <td>22</td>\n",
       "      <td>16</td>\n",
       "      <td>1422398</td>\n",
       "      <td>1</td>\n",
       "    </tr>\n",
       "    <tr>\n",
       "      <th>64</th>\n",
       "      <td>1</td>\n",
       "      <td>12</td>\n",
       "      <td>300174</td>\n",
       "      <td>1</td>\n",
       "    </tr>\n",
       "    <tr>\n",
       "      <th>65</th>\n",
       "      <td>12</td>\n",
       "      <td>1</td>\n",
       "      <td>300174</td>\n",
       "      <td>1</td>\n",
       "    </tr>\n",
       "  </tbody>\n",
       "</table>\n",
       "</div>"
      ],
      "text/plain": [
       "    orig  dest  person_id  person_num\n",
       "6     11    16    2741557           1\n",
       "61     1    22    1422398           1\n",
       "62    22    16    1422398           1\n",
       "64     1    12     300174           1\n",
       "65    12     1     300174           1"
      ]
     },
     "execution_count": 12,
     "metadata": {},
     "output_type": "execute_result"
    }
   ],
   "source": [
    "new_df = morning_peak_od_df.copy()\n",
    "new_df.head()"
   ]
  },
  {
   "cell_type": "code",
   "execution_count": 13,
   "metadata": {},
   "outputs": [
    {
     "name": "stdout",
     "output_type": "stream",
     "text": [
      "number of OD taz with zero nodes = 73465\n",
      "time taken = 2.2611031532287598\n"
     ]
    }
   ],
   "source": [
    "#create dataframe that contains ODs from randomly assigned node in O taz to randomly assigned node in D taz\n",
    "start = time.time()\n",
    "origs, dests, bad_list = assign_node_to_od(new_df, taz_nodes_dict, 'random')\n",
    "end = time.time()\n",
    "print(\"time taken = {}\".format(end - start))"
   ]
  },
  {
   "cell_type": "code",
   "execution_count": 32,
   "metadata": {},
   "outputs": [
    {
     "name": "stdout",
     "output_type": "stream",
     "text": [
      "73465\n"
     ]
    }
   ],
   "source": [
    "print(len(bad_list))"
   ]
  },
  {
   "cell_type": "code",
   "execution_count": 33,
   "metadata": {},
   "outputs": [],
   "source": [
    "final_df = morning_peak_od_df.drop(morning_peak_od_df.index[bad_list])\n"
   ]
  },
  {
   "cell_type": "markdown",
   "metadata": {},
   "source": [
    "# Make final dataframe that is in the SAMPN, PERNO, orig, dest format of OD for the traffic microsimulator"
   ]
  },
  {
   "cell_type": "code",
   "execution_count": 34,
   "metadata": {},
   "outputs": [],
   "source": [
    "#create a new dataframe with person id, person num, orig OSMID, and dest OSMID\n",
    "def make_final_df(origs, dests, morning_peak):\n",
    "    #osmid_o = [x['osmid'] for x in origs]\n",
    "    #osmid_d = [x['osmid'] for x in dests]\n",
    "    final_df = pd.DataFrame(columns=['SAMPN', 'PERNO','orig', 'dest'])\n",
    "    final_df['SAMPN'] = morning_peak['person_id']\n",
    "    final_df['PERNO'] = morning_peak['person_num']\n",
    "    final_df['orig'] = origs\n",
    "    final_df['dest'] = dests\n",
    "\n",
    "    return final_df\n",
    "\n",
    "final_od_file_df = make_final_df(origs, dests, final_df)"
   ]
  },
  {
   "cell_type": "code",
   "execution_count": 37,
   "metadata": {},
   "outputs": [
    {
     "data": {
      "text/plain": [
       "(792910, 4)"
      ]
     },
     "execution_count": 37,
     "metadata": {},
     "output_type": "execute_result"
    }
   ],
   "source": [
    "final_od_file_df.shape"
   ]
  },
  {
   "cell_type": "markdown",
   "metadata": {},
   "source": [
    "# Save the OD file as od_demand.csv to be used in the traffic microsimulator, cb-cities, and static traffic assignment"
   ]
  },
  {
   "cell_type": "code",
   "execution_count": 35,
   "metadata": {},
   "outputs": [],
   "source": [
    "#save to csv\n",
    "final_od_file_df.to_csv('../new_tertiary/od_demand.csv', index=False, encoding='utf-8')"
   ]
  },
  {
   "cell_type": "markdown",
   "metadata": {},
   "source": [
    "# UNUSED STUFF #"
   ]
  },
  {
   "cell_type": "markdown",
   "metadata": {},
   "source": [
    "# Check the osmid in nodes.csv and compare to the osmids of origins and destinations in the final_df dataframe to see which ones are there and which ones are not"
   ]
  },
  {
   "cell_type": "code",
   "execution_count": 20,
   "metadata": {},
   "outputs": [],
   "source": [
    "nodes_df = pd.read_csv(\"../nodes.csv\")"
   ]
  },
  {
   "cell_type": "code",
   "execution_count": 31,
   "metadata": {},
   "outputs": [
    {
     "name": "stdout",
     "output_type": "stream",
     "text": [
      "# of origin nodes in OD file not in nodes file = 34489\n",
      "# of dest nodes in OD file not in nodes file = 32103\n"
     ]
    }
   ],
   "source": [
    "count_vals_orig = final_df.orig.isin(nodes_df.osmid).astype(int)\n",
    "print(\"# of origin nodes in OD file not in nodes file = {}\".format(count_vals_orig.sum()))\n",
    "\n",
    "count_vals_dest = final_df.dest.isin(nodes_df.osmid).astype(int)\n",
    "print(\"# of dest nodes in OD file not in nodes file = {}\".format(count_vals_dest.sum()))\n",
    "            \n",
    "#print(\"orig count not in nodes file = {}\".format(orig_count))\n",
    "#print(\"dest count not in nodes file = {}\".format(dest_count))\n",
    "#print(\"total count not in nodes file = {}\".format(orig_count + dest_count))\n",
    "\n",
    "            "
   ]
  },
  {
   "cell_type": "code",
   "execution_count": 295,
   "metadata": {},
   "outputs": [
    {
     "ename": "KeyboardInterrupt",
     "evalue": "",
     "output_type": "error",
     "traceback": [
      "\u001b[0;31m---------------------------------------------------------------------------\u001b[0m",
      "\u001b[0;31mKeyboardInterrupt\u001b[0m                         Traceback (most recent call last)",
      "\u001b[0;32m<ipython-input-295-2e0105a8013b>\u001b[0m in \u001b[0;36m<module>\u001b[0;34m()\u001b[0m\n\u001b[1;32m      1\u001b[0m \u001b[0mcount\u001b[0m \u001b[0;34m=\u001b[0m \u001b[0;36m0\u001b[0m\u001b[0;34m\u001b[0m\u001b[0m\n\u001b[0;32m----> 2\u001b[0;31m \u001b[0;32mfor\u001b[0m \u001b[0midx\u001b[0m\u001b[0;34m,\u001b[0m \u001b[0mrow\u001b[0m \u001b[0;32min\u001b[0m \u001b[0mfinal_od_file_df\u001b[0m\u001b[0;34m.\u001b[0m\u001b[0miterrows\u001b[0m\u001b[0;34m(\u001b[0m\u001b[0;34m)\u001b[0m\u001b[0;34m:\u001b[0m\u001b[0;34m\u001b[0m\u001b[0m\n\u001b[0m\u001b[1;32m      3\u001b[0m     \u001b[0;32mif\u001b[0m \u001b[0mrow\u001b[0m\u001b[0;34m[\u001b[0m\u001b[0;34m'orig'\u001b[0m\u001b[0;34m]\u001b[0m \u001b[0;34m==\u001b[0m \u001b[0mrow\u001b[0m\u001b[0;34m[\u001b[0m\u001b[0;34m'dest'\u001b[0m\u001b[0;34m]\u001b[0m\u001b[0;34m:\u001b[0m\u001b[0;34m\u001b[0m\u001b[0m\n\u001b[1;32m      4\u001b[0m         \u001b[0;31m#print(row['orig'], row['dest'])\u001b[0m\u001b[0;34m\u001b[0m\u001b[0;34m\u001b[0m\u001b[0m\n\u001b[1;32m      5\u001b[0m         \u001b[0mcount\u001b[0m \u001b[0;34m+=\u001b[0m \u001b[0;36m1\u001b[0m\u001b[0;34m\u001b[0m\u001b[0m\n",
      "\u001b[0;32m/anaconda3/envs/gis/lib/python3.6/site-packages/pandas/core/frame.py\u001b[0m in \u001b[0;36miterrows\u001b[0;34m(self)\u001b[0m\n\u001b[1;32m    773\u001b[0m         \u001b[0mklass\u001b[0m \u001b[0;34m=\u001b[0m \u001b[0mself\u001b[0m\u001b[0;34m.\u001b[0m\u001b[0m_constructor_sliced\u001b[0m\u001b[0;34m\u001b[0m\u001b[0m\n\u001b[1;32m    774\u001b[0m         \u001b[0;32mfor\u001b[0m \u001b[0mk\u001b[0m\u001b[0;34m,\u001b[0m \u001b[0mv\u001b[0m \u001b[0;32min\u001b[0m \u001b[0mzip\u001b[0m\u001b[0;34m(\u001b[0m\u001b[0mself\u001b[0m\u001b[0;34m.\u001b[0m\u001b[0mindex\u001b[0m\u001b[0;34m,\u001b[0m \u001b[0mself\u001b[0m\u001b[0;34m.\u001b[0m\u001b[0mvalues\u001b[0m\u001b[0;34m)\u001b[0m\u001b[0;34m:\u001b[0m\u001b[0;34m\u001b[0m\u001b[0m\n\u001b[0;32m--> 775\u001b[0;31m             \u001b[0ms\u001b[0m \u001b[0;34m=\u001b[0m \u001b[0mklass\u001b[0m\u001b[0;34m(\u001b[0m\u001b[0mv\u001b[0m\u001b[0;34m,\u001b[0m \u001b[0mindex\u001b[0m\u001b[0;34m=\u001b[0m\u001b[0mcolumns\u001b[0m\u001b[0;34m,\u001b[0m \u001b[0mname\u001b[0m\u001b[0;34m=\u001b[0m\u001b[0mk\u001b[0m\u001b[0;34m)\u001b[0m\u001b[0;34m\u001b[0m\u001b[0m\n\u001b[0m\u001b[1;32m    776\u001b[0m             \u001b[0;32myield\u001b[0m \u001b[0mk\u001b[0m\u001b[0;34m,\u001b[0m \u001b[0ms\u001b[0m\u001b[0;34m\u001b[0m\u001b[0m\n\u001b[1;32m    777\u001b[0m \u001b[0;34m\u001b[0m\u001b[0m\n",
      "\u001b[0;32m/anaconda3/envs/gis/lib/python3.6/site-packages/pandas/core/series.py\u001b[0m in \u001b[0;36m__init__\u001b[0;34m(self, data, index, dtype, name, copy, fastpath)\u001b[0m\n\u001b[1;32m    273\u001b[0m             \u001b[0;32melse\u001b[0m\u001b[0;34m:\u001b[0m\u001b[0;34m\u001b[0m\u001b[0m\n\u001b[1;32m    274\u001b[0m                 data = _sanitize_array(data, index, dtype, copy,\n\u001b[0;32m--> 275\u001b[0;31m                                        raise_cast_failure=True)\n\u001b[0m\u001b[1;32m    276\u001b[0m \u001b[0;34m\u001b[0m\u001b[0m\n\u001b[1;32m    277\u001b[0m                 \u001b[0mdata\u001b[0m \u001b[0;34m=\u001b[0m \u001b[0mSingleBlockManager\u001b[0m\u001b[0;34m(\u001b[0m\u001b[0mdata\u001b[0m\u001b[0;34m,\u001b[0m \u001b[0mindex\u001b[0m\u001b[0;34m,\u001b[0m \u001b[0mfastpath\u001b[0m\u001b[0;34m=\u001b[0m\u001b[0;32mTrue\u001b[0m\u001b[0;34m)\u001b[0m\u001b[0;34m\u001b[0m\u001b[0m\n",
      "\u001b[0;32m/anaconda3/envs/gis/lib/python3.6/site-packages/pandas/core/series.py\u001b[0m in \u001b[0;36m_sanitize_array\u001b[0;34m(data, index, dtype, copy, raise_cast_failure)\u001b[0m\n\u001b[1;32m   4085\u001b[0m             \u001b[0;32melse\u001b[0m\u001b[0;34m:\u001b[0m\u001b[0;34m\u001b[0m\u001b[0m\n\u001b[1;32m   4086\u001b[0m                 \u001b[0msubarr\u001b[0m \u001b[0;34m=\u001b[0m \u001b[0m_try_cast\u001b[0m\u001b[0;34m(\u001b[0m\u001b[0mdata\u001b[0m\u001b[0;34m,\u001b[0m \u001b[0;32mTrue\u001b[0m\u001b[0;34m)\u001b[0m\u001b[0;34m\u001b[0m\u001b[0m\n\u001b[0;32m-> 4087\u001b[0;31m         \u001b[0;32melif\u001b[0m \u001b[0misinstance\u001b[0m\u001b[0;34m(\u001b[0m\u001b[0mdata\u001b[0m\u001b[0;34m,\u001b[0m \u001b[0mIndex\u001b[0m\u001b[0;34m)\u001b[0m\u001b[0;34m:\u001b[0m\u001b[0;34m\u001b[0m\u001b[0m\n\u001b[0m\u001b[1;32m   4088\u001b[0m             \u001b[0;31m# don't coerce Index types\u001b[0m\u001b[0;34m\u001b[0m\u001b[0;34m\u001b[0m\u001b[0m\n\u001b[1;32m   4089\u001b[0m             \u001b[0;31m# e.g. indexes can have different conversions (so don't fast path\u001b[0m\u001b[0;34m\u001b[0m\u001b[0;34m\u001b[0m\u001b[0m\n",
      "\u001b[0;31mKeyboardInterrupt\u001b[0m: "
     ]
    }
   ],
   "source": [
    "count = 0\n",
    "for idx, row in final_od_file_df.iterrows():\n",
    "    if row['orig'] == row['dest']:\n",
    "        #print(row['orig'], row['dest'])\n",
    "        count += 1\n",
    "        \n",
    "        \n",
    "print(\"# of OD pairs with same src and dest = {}\".format(count))"
   ]
  },
  {
   "cell_type": "code",
   "execution_count": 13,
   "metadata": {},
   "outputs": [],
   "source": [
    "#create dataframe of each person with origin TAZ and destination TAZ\n",
    "def create_od_df(trips_df):\n",
    "    orig_dest_df = pd.DataFrame(columns=['orig', 'dest'])\n",
    "    orig_dest_df['orig'] = morning_peak['orig_taz']\n",
    "    orig_dest_df['dest'] = morning_peak['dest_taz']\n",
    "    return orig_dest_df\n",
    "\n",
    "def assign_node_to_od(od_df, taz_street_network, assign='random'):\n",
    "    new_df = od_df.copy()\n",
    "    origs = []\n",
    "    dests = []\n",
    "    for index, row in od_df.iterrows():\n",
    "        #get the lengths of the networks so that we can randomly choose a number in those ranges\n",
    "        len_network_o = len(taz_graph_list[row['orig']].nodes())\n",
    "        len_network_d = len(taz_graph_list[row['dest']].nodes())\n",
    "        \n",
    "        if assign == 'random':\n",
    "            #get the randomly chosen value within the length range\n",
    "            rand_val_o = randint(0, len_network_o - 1)\n",
    "            rand_val_d = randint(0, len_network_d - 1)\n",
    "        \n",
    "        #make the network nodes of origin and destination taz lists\n",
    "        list_of_taz_nodes_o = list(taz_graph_list[row['orig']].nodes())\n",
    "        list_of_taz_nodes_d = list(taz_graph_list[row['dest']].nodes())\n",
    "        #print(list_of_taz_nodes_o)\n",
    "        \n",
    "        #get the OSMID of the nodes from the above lists based on the random value as the index\n",
    "        taz_graph_node_index_o = list_of_taz_nodes_o[rand_val_o]\n",
    "        taz_graph_node_index_d = list_of_taz_nodes_d[rand_val_d]\n",
    "        #print(taz_graph_node_index_o)\n",
    "        \n",
    "        #set the new nodes as that person's O and D\n",
    "        node_o = taz_graph_list[row['orig']].node[taz_graph_node_index_o]\n",
    "        #print(node_o)\n",
    "        node_d = taz_graph_list[row['dest']].node[taz_graph_node_index_d]\n",
    "        #print(node_d)\n",
    "        \n",
    "        origs += [node_o,]\n",
    "        dests += [node_d,]\n",
    "        \n",
    "    return origs, dests"
   ]
  },
  {
   "cell_type": "code",
   "execution_count": 10,
   "metadata": {
    "scrolled": true
   },
   "outputs": [
    {
     "name": "stdout",
     "output_type": "stream",
     "text": [
      "An error occurred.\n",
      "An error occurred.\n",
      "An error occurred.\n",
      "An error occurred.\n",
      "An error occurred.\n",
      "total time = 3260.290658712387\n"
     ]
    }
   ],
   "source": [
    "#make each TAZ a graph with its street netowrks\n",
    "taz_graph_list = []\n",
    "taz_num = 0\n",
    "start = time.time()\n",
    "for x in taz['geometry']:\n",
    "    polygon_hull = x.convex_hull\n",
    "    polygon_hull_proj, crs = ox.project_geometry(polygon_hull)\n",
    "    polygon_hull_proj_buff = polygon_hull_proj.buffer(200) #200 meters\n",
    "    polygon_hull_buff, crs = ox.project_geometry(polygon_hull_proj_buff, crs=crs, to_latlong=True)\n",
    "    try:\n",
    "        G = ox.graph_from_polygon(polygon_hull_buff, network_type='drive', simplify=True) \n",
    "    except: \n",
    "        print('An error occurred.')\n",
    "    #latlng_geom, _ = ox.project_geometry(taz['geometry'].iloc[0], crs={'init':'epsg:28992'}, to_latlong=True)\n",
    "    #print(\"taz num = {}\".format(taz_num))\n",
    "    #print(\"num nodes = {}\".format(len(G.nodes())))\n",
    "    taz_graph_list += [G,]\n",
    "    taz_num += 1\n",
    "end_time = time.time()\n",
    "print(\"total time = {}\".format(abs(end_time - start_time)))\n",
    "#ox.plot_graph(G)"
   ]
  },
  {
   "cell_type": "code",
   "execution_count": 11,
   "metadata": {
    "scrolled": true
   },
   "outputs": [
    {
     "data": {
      "image/png": "[encoded data removed]",
      "text/plain": [
       "<Figure size 466.757x432 with 1 Axes>"
      ]
     },
     "metadata": {},
     "output_type": "display_data"
    },
    {
     "data": {
      "text/plain": [
       "(<Figure size 466.757x432 with 1 Axes>,\n",
       " <matplotlib.axes._subplots.AxesSubplot at 0x1a83ca7320>)"
      ]
     },
     "execution_count": 11,
     "metadata": {},
     "output_type": "execute_result"
    }
   ],
   "source": [
    "ox.plot_graph(taz_graph_list[400])"
   ]
  },
  {
   "cell_type": "code",
   "execution_count": 12,
   "metadata": {
    "scrolled": true
   },
   "outputs": [
    {
     "data": {
      "text/plain": [
       "{'y': 37.7525004, 'x': -122.4407899, 'osmid': 65303936}"
      ]
     },
     "execution_count": 12,
     "metadata": {},
     "output_type": "execute_result"
    }
   ],
   "source": [
    "taz_graph_list[400].node[65303936]"
   ]
  },
  {
   "cell_type": "markdown",
   "metadata": {},
   "source": [
    "# Trying to do the OD assignment in each taz another way"
   ]
  },
  {
   "cell_type": "code",
   "execution_count": 28,
   "metadata": {},
   "outputs": [],
   "source": [
    "#create full bay area street network\n",
    "#identify bay area counties by fips code\n",
    "bayarea = {'Alameda':'001',\n",
    "           'Contra Costa':'013',\n",
    "           'Marin':'041',\n",
    "           'Napa':'055',\n",
    "           'San Francisco':'075',\n",
    "           'San Mateo':'081',\n",
    "           'Santa Clara':'085',\n",
    "           'Solano':'095',\n",
    "           'Sonoma':'097'\n",
    "          }"
   ]
  },
  {
   "cell_type": "code",
   "execution_count": 30,
   "metadata": {},
   "outputs": [],
   "source": [
    "# shapefile of counties\n",
    "counties_shapefile_dir = 'cb_2016_us_county_500k'\n",
    "counties = gpd.read_file(\"{}.shp\".format(counties_shapefile_dir))\n",
    "len(counties)\n",
    "\n",
    "# retain only those tracts that are in the bay area counties\n",
    "mask = (counties['STATEFP'] == '06') & (counties['COUNTYFP'].isin(bayarea.values()))\n",
    "gdf_bay = counties[mask]\n",
    "len(gdf_bay)\n",
    "\n",
    "bayarea_polygon = gdf_bay.unary_union\n",
    "\n"
   ]
  },
  {
   "cell_type": "code",
   "execution_count": 31,
   "metadata": {},
   "outputs": [
    {
     "data": {
      "image/svg+xml": [
       "<svg xmlns=\"http://www.w3.org/2000/svg\" xmlns:xlink=\"http://www.w3.org/1999/xlink\" width=\"300\" height=\"300\" viewBox=\"444932.61501444626 4075236.4618961597 223091.280153503 235366.55503291823\" preserveAspectRatio=\"xMinYMin meet\"><g transform=\"matrix(1,0,0,-1,0,8385839.478825238)\"><path fill-rule=\"evenodd\" fill=\"#66cc99\" stroke=\"#555555\" stroke-width=\"1569.1103668861215\" opacity=\"0.6\" d=\"M 626936.1522869292,4083953.7417121935 L 559572.7900705348,4107623.2790332153 L 558894.3801795818,4108099.6747321403 L 498873.6061231594,4172141.7895473074 L 453812.86581527494,4290223.399034001 L 453649.8948304803,4291212.214753547 L 456642.631431264,4292296.04844019 L 468013.42864230287,4295384.017168897 L 492971.78253231803,4300404.793409404 L 552483.322649912,4301885.737113044 L 561792.5175639535,4299254.59275455 L 612251.0629290367,4266291.89307806 L 612380.265314303,4266191.703727297 L 613781.0313698837,4265102.78008557 L 622982.8243248393,4241489.903587716 L 658365.223459799,4110009.1092270534 L 659306.6153519152,4103172.9139334545 L 658873.8823213666,4092061.464765545 L 626936.1522869292,4083953.7417121935 z\" /></g></svg>"
      ],
      "text/plain": [
       "<shapely.geometry.polygon.Polygon at 0x1a88e411d0>"
      ]
     },
     "execution_count": 31,
     "metadata": {},
     "output_type": "execute_result"
    }
   ],
   "source": [
    "# get the convex hull, otherwise we'll cut out bridges over the bay\n",
    "bayarea_polygon_hull = bayarea_polygon.convex_hull\n",
    "bayarea_polygon_hull_proj, crs = ox.project_geometry(bayarea_polygon_hull)\n",
    "bayarea_polygon_hull_proj\n",
    "\n"
   ]
  },
  {
   "cell_type": "code",
   "execution_count": 32,
   "metadata": {},
   "outputs": [],
   "source": [
    "# project by a mile to get connectivities surrounding our O-Ds\n",
    "bayarea_polygon_hull_proj_buff = bayarea_polygon_hull_proj.buffer(1600) #1 mile in meters\n",
    "bayarea_polygon_hull_buff, crs = ox.project_geometry(bayarea_polygon_hull_proj_buff, crs=crs, to_latlong=True)"
   ]
  },
  {
   "cell_type": "code",
   "execution_count": 33,
   "metadata": {},
   "outputs": [],
   "source": [
    "#make overall bay area network\n",
    "G = ox.graph_from_polygon(bayarea_polygon_hull_buff, network_type='drive', simplify=False)"
   ]
  },
  {
   "cell_type": "code",
   "execution_count": 34,
   "metadata": {},
   "outputs": [],
   "source": [
    "# identify all the edge types we want to retain\n",
    "types = ['motorway', 'motorway_link', 'trunk', 'trunk_link', \n",
    "         'primary', 'primary_link', 'secondary', 'secondary_link',\n",
    "         'tertiary', 'tertiary_link', 'unclassified', 'road']\n",
    "\n",
    "\n",
    "#types = ['motorway', 'motorway_link', \n",
    "#         'primary', 'primary_link', 'secondary', 'secondary_link',\n",
    "#         'tertiary', 'tertiary_link']\n",
    "\n",
    "minor_streets = [(u, v, k) for u, v, k, d in G.edges(keys=True, data=True) if d['highway'] not in types]"
   ]
  },
  {
   "cell_type": "code",
   "execution_count": 35,
   "metadata": {},
   "outputs": [],
   "source": [
    "# remove minor streets and retain only the largest connected component subgraph\n",
    "G_ter = G\n",
    "G_ter.remove_edges_from(minor_streets)\n",
    "G_ter = ox.remove_isolated_nodes(G_ter)\n",
    "G_ter_connected = ox.get_largest_component(G_ter, strongly=True)"
   ]
  },
  {
   "cell_type": "code",
   "execution_count": 36,
   "metadata": {},
   "outputs": [],
   "source": [
    "# then simplify the graph now that we have only the edge types we want\n",
    "G_ter_simp = ox.simplify_graph(G_ter_connected, strict=True)\n",
    "#G_ter_simp = G_ter\n",
    "#G_ter_simp = G"
   ]
  },
  {
   "cell_type": "code",
   "execution_count": 81,
   "metadata": {
    "scrolled": true
   },
   "outputs": [
    {
     "data": {
      "text/plain": [
       "TAZ                                                      100011\n",
       "COUNT                                                         1\n",
       "FIRST_COUN                                                06075\n",
       "geometry      POLYGON ((-122.3974640322931 37.7936567954638,...\n",
       "Name: 0, dtype: object"
      ]
     },
     "execution_count": 81,
     "metadata": {},
     "output_type": "execute_result"
    }
   ],
   "source": [
    "taz.iloc[0]"
   ]
  },
  {
   "cell_type": "code",
   "execution_count": 108,
   "metadata": {},
   "outputs": [],
   "source": [
    "\"\"\"\n",
    "#plot lat-longs on map\n",
    "def make_point(row):\n",
    "    return Point(row.long, row.lat)\n",
    "\n",
    "# Go through every row, and make a point out of its lat and lon\n",
    "points = .apply(make_point, axis=1)\n",
    "\"\"\"\n",
    "def create_lat_long_from_graph_nodes(G):\n",
    "    G_nodes_list = list(G.nodes())\n",
    "    lat_list = []\n",
    "    long_list = []\n",
    "    osmid_list = []\n",
    "    for x in G_nodes_list:\n",
    "        lat_list += [G.nodes()[x]['x'],]\n",
    "        long_list += [G.nodes()[x]['y'],]\n",
    "        osmid_list += [x,]\n",
    "        \n",
    "    return lat_list, long_list, osmid_list\n",
    "\n",
    "lat_list, long_list, osmid_list = create_lat_long_from_graph_nodes(G_ter_simp)\n",
    "\n",
    "\n",
    "def make_df_lat_long_osmid(lat, long, osmid):\n",
    "    final_df = pd.DataFrame(columns=['osmid', 'lat','long'])\n",
    "    final_df['osmid'] = osmid\n",
    "    final_df['lat'] = lat\n",
    "    final_df['long'] = long\n",
    "    \n",
    "    return final_df\n",
    "\n",
    "nodes_df = make_df_lat_long_osmid(lat_list, long_list, osmid_list)\n",
    "    \n",
    "\n",
    "\n",
    "#G_ter_simp.nodes()[1377399032]\n"
   ]
  },
  {
   "cell_type": "code",
   "execution_count": 85,
   "metadata": {
    "scrolled": true
   },
   "outputs": [
    {
     "data": {
      "text/html": [
       "<div>\n",
       "<style scoped>\n",
       "    .dataframe tbody tr th:only-of-type {\n",
       "        vertical-align: middle;\n",
       "    }\n",
       "\n",
       "    .dataframe tbody tr th {\n",
       "        vertical-align: top;\n",
       "    }\n",
       "\n",
       "    .dataframe thead th {\n",
       "        text-align: right;\n",
       "    }\n",
       "</style>\n",
       "<table border=\"1\" class=\"dataframe\">\n",
       "  <thead>\n",
       "    <tr style=\"text-align: right;\">\n",
       "      <th></th>\n",
       "      <th>osmid</th>\n",
       "      <th>lat</th>\n",
       "      <th>long</th>\n",
       "    </tr>\n",
       "  </thead>\n",
       "  <tbody>\n",
       "    <tr>\n",
       "      <th>0</th>\n",
       "      <td>1377399032</td>\n",
       "      <td>-121.774380</td>\n",
       "      <td>37.241296</td>\n",
       "    </tr>\n",
       "    <tr>\n",
       "      <th>1</th>\n",
       "      <td>309330024</td>\n",
       "      <td>-122.354382</td>\n",
       "      <td>37.587447</td>\n",
       "    </tr>\n",
       "    <tr>\n",
       "      <th>2</th>\n",
       "      <td>247385812</td>\n",
       "      <td>-122.014411</td>\n",
       "      <td>37.334175</td>\n",
       "    </tr>\n",
       "    <tr>\n",
       "      <th>3</th>\n",
       "      <td>247385814</td>\n",
       "      <td>-122.015335</td>\n",
       "      <td>37.335105</td>\n",
       "    </tr>\n",
       "    <tr>\n",
       "      <th>4</th>\n",
       "      <td>312410568</td>\n",
       "      <td>-121.741705</td>\n",
       "      <td>37.206184</td>\n",
       "    </tr>\n",
       "  </tbody>\n",
       "</table>\n",
       "</div>"
      ],
      "text/plain": [
       "        osmid         lat       long\n",
       "0  1377399032 -121.774380  37.241296\n",
       "1   309330024 -122.354382  37.587447\n",
       "2   247385812 -122.014411  37.334175\n",
       "3   247385814 -122.015335  37.335105\n",
       "4   312410568 -121.741705  37.206184"
      ]
     },
     "execution_count": 85,
     "metadata": {},
     "output_type": "execute_result"
    }
   ],
   "source": [
    "nodes_df.head()"
   ]
  },
  {
   "cell_type": "code",
   "execution_count": 66,
   "metadata": {},
   "outputs": [
    {
     "data": {
      "text/html": [
       "<div>\n",
       "<style scoped>\n",
       "    .dataframe tbody tr th:only-of-type {\n",
       "        vertical-align: middle;\n",
       "    }\n",
       "\n",
       "    .dataframe tbody tr th {\n",
       "        vertical-align: top;\n",
       "    }\n",
       "\n",
       "    .dataframe thead th {\n",
       "        text-align: right;\n",
       "    }\n",
       "</style>\n",
       "<table border=\"1\" class=\"dataframe\">\n",
       "  <thead>\n",
       "    <tr style=\"text-align: right;\">\n",
       "      <th></th>\n",
       "      <th>osmid</th>\n",
       "      <th>lat</th>\n",
       "      <th>long</th>\n",
       "      <th>geometry</th>\n",
       "    </tr>\n",
       "  </thead>\n",
       "  <tbody>\n",
       "    <tr>\n",
       "      <th>0</th>\n",
       "      <td>1377399032</td>\n",
       "      <td>-121.774380</td>\n",
       "      <td>37.241296</td>\n",
       "      <td>POINT (37.2412963 -121.7743797)</td>\n",
       "    </tr>\n",
       "    <tr>\n",
       "      <th>1</th>\n",
       "      <td>309330024</td>\n",
       "      <td>-122.354382</td>\n",
       "      <td>37.587447</td>\n",
       "      <td>POINT (37.5874468 -122.3543825)</td>\n",
       "    </tr>\n",
       "    <tr>\n",
       "      <th>2</th>\n",
       "      <td>247385812</td>\n",
       "      <td>-122.014411</td>\n",
       "      <td>37.334175</td>\n",
       "      <td>POINT (37.3341754 -122.0144107)</td>\n",
       "    </tr>\n",
       "    <tr>\n",
       "      <th>3</th>\n",
       "      <td>247385814</td>\n",
       "      <td>-122.015335</td>\n",
       "      <td>37.335105</td>\n",
       "      <td>POINT (37.3351054 -122.0153351)</td>\n",
       "    </tr>\n",
       "    <tr>\n",
       "      <th>4</th>\n",
       "      <td>312410568</td>\n",
       "      <td>-121.741705</td>\n",
       "      <td>37.206184</td>\n",
       "      <td>POINT (37.2061842 -121.7417054)</td>\n",
       "    </tr>\n",
       "  </tbody>\n",
       "</table>\n",
       "</div>"
      ],
      "text/plain": [
       "        osmid         lat       long                         geometry\n",
       "0  1377399032 -121.774380  37.241296  POINT (37.2412963 -121.7743797)\n",
       "1   309330024 -122.354382  37.587447  POINT (37.5874468 -122.3543825)\n",
       "2   247385812 -122.014411  37.334175  POINT (37.3341754 -122.0144107)\n",
       "3   247385814 -122.015335  37.335105  POINT (37.3351054 -122.0153351)\n",
       "4   312410568 -121.741705  37.206184  POINT (37.2061842 -121.7417054)"
      ]
     },
     "execution_count": 66,
     "metadata": {},
     "output_type": "execute_result"
    }
   ],
   "source": [
    "#plot lat-longs on map\n",
    "def make_point(row):\n",
    "    return Point(row.long, row.lat)\n",
    "\n",
    "# Go through every row, and make a point out of its lat and lon\n",
    "points = nodes_df.apply(make_point, axis=1)\n",
    "\n",
    "nodes_points = gpd.GeoDataFrame(nodes_df, geometry=points)\n",
    "nodes_points.head()"
   ]
  },
  {
   "cell_type": "code",
   "execution_count": 74,
   "metadata": {},
   "outputs": [
    {
     "data": {
      "text/plain": [
       "TAZ                                                      100011\n",
       "COUNT                                                         1\n",
       "FIRST_COUN                                                06075\n",
       "geometry      POLYGON ((553049.1766163026 4183092.157697582,...\n",
       "Name: 0, dtype: object"
      ]
     },
     "execution_count": 74,
     "metadata": {},
     "output_type": "execute_result"
    }
   ],
   "source": [
    "taz.iloc[0]"
   ]
  },
  {
   "cell_type": "code",
   "execution_count": 86,
   "metadata": {},
   "outputs": [
    {
     "ename": "AttributeError",
     "evalue": "'Series' object has no attribute 'crs'",
     "output_type": "error",
     "traceback": [
      "\u001b[0;31m---------------------------------------------------------------------------\u001b[0m",
      "\u001b[0;31mAttributeError\u001b[0m                            Traceback (most recent call last)",
      "\u001b[0;32m<ipython-input-86-e8dc4520cb7c>\u001b[0m in \u001b[0;36m<module>\u001b[0;34m()\u001b[0m\n\u001b[0;32m----> 1\u001b[0;31m \u001b[0mmerged_taz_1\u001b[0m \u001b[0;34m=\u001b[0m \u001b[0mgpd\u001b[0m\u001b[0;34m.\u001b[0m\u001b[0msjoin\u001b[0m\u001b[0;34m(\u001b[0m\u001b[0mnodes_points\u001b[0m\u001b[0;34m,\u001b[0m \u001b[0mtaz\u001b[0m\u001b[0;34m.\u001b[0m\u001b[0miloc\u001b[0m\u001b[0;34m[\u001b[0m\u001b[0;36m10\u001b[0m\u001b[0;34m]\u001b[0m\u001b[0;34m,\u001b[0m \u001b[0mhow\u001b[0m\u001b[0;34m=\u001b[0m\u001b[0;34m\"left\"\u001b[0m\u001b[0;34m,\u001b[0m \u001b[0mop\u001b[0m\u001b[0;34m=\u001b[0m\u001b[0;34m\"contains\"\u001b[0m\u001b[0;34m)\u001b[0m\u001b[0;34m\u001b[0m\u001b[0m\n\u001b[0m\u001b[1;32m      2\u001b[0m \u001b[0mmerged_taz_1\u001b[0m\u001b[0;34m.\u001b[0m\u001b[0mhead\u001b[0m\u001b[0;34m(\u001b[0m\u001b[0;34m)\u001b[0m\u001b[0;34m\u001b[0m\u001b[0m\n\u001b[1;32m      3\u001b[0m \u001b[0;31m#taz.iloc[0].contains(nodes_points)\u001b[0m\u001b[0;34m\u001b[0m\u001b[0;34m\u001b[0m\u001b[0m\n",
      "\u001b[0;32m/anaconda3/envs/gis/lib/python3.6/site-packages/geopandas/tools/sjoin.py\u001b[0m in \u001b[0;36msjoin\u001b[0;34m(left_df, right_df, how, op, lsuffix, rsuffix)\u001b[0m\n\u001b[1;32m     41\u001b[0m                          (op, allowed_ops))\n\u001b[1;32m     42\u001b[0m \u001b[0;34m\u001b[0m\u001b[0m\n\u001b[0;32m---> 43\u001b[0;31m     \u001b[0;32mif\u001b[0m \u001b[0mleft_df\u001b[0m\u001b[0;34m.\u001b[0m\u001b[0mcrs\u001b[0m \u001b[0;34m!=\u001b[0m \u001b[0mright_df\u001b[0m\u001b[0;34m.\u001b[0m\u001b[0mcrs\u001b[0m\u001b[0;34m:\u001b[0m\u001b[0;34m\u001b[0m\u001b[0m\n\u001b[0m\u001b[1;32m     44\u001b[0m         \u001b[0mwarn\u001b[0m\u001b[0;34m(\u001b[0m\u001b[0;34m'CRS of frames being joined does not match!'\u001b[0m\u001b[0;34m)\u001b[0m\u001b[0;34m\u001b[0m\u001b[0m\n\u001b[1;32m     45\u001b[0m \u001b[0;34m\u001b[0m\u001b[0m\n",
      "\u001b[0;32m/anaconda3/envs/gis/lib/python3.6/site-packages/pandas/core/generic.py\u001b[0m in \u001b[0;36m__getattr__\u001b[0;34m(self, name)\u001b[0m\n\u001b[1;32m   4374\u001b[0m             \u001b[0;32mif\u001b[0m \u001b[0mself\u001b[0m\u001b[0;34m.\u001b[0m\u001b[0m_info_axis\u001b[0m\u001b[0;34m.\u001b[0m\u001b[0m_can_hold_identifiers_and_holds_name\u001b[0m\u001b[0;34m(\u001b[0m\u001b[0mname\u001b[0m\u001b[0;34m)\u001b[0m\u001b[0;34m:\u001b[0m\u001b[0;34m\u001b[0m\u001b[0m\n\u001b[1;32m   4375\u001b[0m                 \u001b[0;32mreturn\u001b[0m \u001b[0mself\u001b[0m\u001b[0;34m[\u001b[0m\u001b[0mname\u001b[0m\u001b[0;34m]\u001b[0m\u001b[0;34m\u001b[0m\u001b[0m\n\u001b[0;32m-> 4376\u001b[0;31m             \u001b[0;32mreturn\u001b[0m \u001b[0mobject\u001b[0m\u001b[0;34m.\u001b[0m\u001b[0m__getattribute__\u001b[0m\u001b[0;34m(\u001b[0m\u001b[0mself\u001b[0m\u001b[0;34m,\u001b[0m \u001b[0mname\u001b[0m\u001b[0;34m)\u001b[0m\u001b[0;34m\u001b[0m\u001b[0m\n\u001b[0m\u001b[1;32m   4377\u001b[0m \u001b[0;34m\u001b[0m\u001b[0m\n\u001b[1;32m   4378\u001b[0m     \u001b[0;32mdef\u001b[0m \u001b[0m__setattr__\u001b[0m\u001b[0;34m(\u001b[0m\u001b[0mself\u001b[0m\u001b[0;34m,\u001b[0m \u001b[0mname\u001b[0m\u001b[0;34m,\u001b[0m \u001b[0mvalue\u001b[0m\u001b[0;34m)\u001b[0m\u001b[0;34m:\u001b[0m\u001b[0;34m\u001b[0m\u001b[0m\n",
      "\u001b[0;31mAttributeError\u001b[0m: 'Series' object has no attribute 'crs'"
     ]
    }
   ],
   "source": [
    "merged_taz_1 = gpd.sjoin(nodes_points, taz.iloc[10], how=\"left\", op=\"contains\")\n",
    "merged_taz_1.head()\n",
    "#taz.iloc[0].contains(nodes_points)\n"
   ]
  },
  {
   "cell_type": "code",
   "execution_count": 175,
   "metadata": {
    "nbpresent": {
     "id": "5d802d72-49a5-42e1-8231-ecb81c6c092e"
    }
   },
   "outputs": [],
   "source": [
    "#get centroid coordinates of each TAZ (x and y)\n",
    "lats = taz.geometry.centroid.x\n",
    "longs = taz.geometry.centroid.y"
   ]
  },
  {
   "cell_type": "code",
   "execution_count": 176,
   "metadata": {
    "nbpresent": {
     "id": "3157f03e-ee6c-48ea-93a3-558be8788f91"
    }
   },
   "outputs": [
    {
     "data": {
      "image/svg+xml": [
       "<svg xmlns=\"http://www.w3.org/2000/svg\" xmlns:xlink=\"http://www.w3.org/1999/xlink\" width=\"100.0\" height=\"100.0\" viewBox=\"-122.40560413421187 37.79251687558334 0.0008800142237532782 0.0010799671238501674\" preserveAspectRatio=\"xMinYMin meet\"><g transform=\"matrix(1,0,0,-1,0,75.58611371829053)\"><path fill-rule=\"evenodd\" fill=\"#66cc99\" stroke=\"#555555\" stroke-width=\"2.1599342477003348e-05\" opacity=\"0.6\" d=\"M -122.4055641354295,37.793556843924826 L -122.40496412774054,37.79355684056331 L -122.40476411877049,37.79265686732844 L -122.4054641269839,37.7925568743657 L -122.4055641354295,37.793556843924826 z\" /></g></svg>"
      ],
      "text/plain": [
       "<shapely.geometry.polygon.Polygon at 0x1a26e339b0>"
      ]
     },
     "execution_count": 176,
     "metadata": {},
     "output_type": "execute_result"
    }
   ],
   "source": [
    "taz.iloc[10]['geometry']"
   ]
  },
  {
   "cell_type": "code",
   "execution_count": 177,
   "metadata": {
    "nbpresent": {
     "id": "611a1729-d32a-484e-bdf4-6f5c0db78cce"
    }
   },
   "outputs": [],
   "source": [
    "def make_taz_lat_long_df(tazs, lat, long):\n",
    "    new_df = pd.DataFrame(columns=['taz', 'lat','long'])\n",
    "    new_df['taz'] = tazs\n",
    "    new_df['lat'] = lats\n",
    "    new_df['long'] = longs\n",
    "    return new_df\n",
    "\n",
    "centroid_lat_long_df = make_taz_lat_long_df(tazs, lats, longs)"
   ]
  },
  {
   "cell_type": "code",
   "execution_count": 178,
   "metadata": {
    "nbpresent": {
     "id": "fab6d9a8-e7a5-46a2-ab8f-c5797905a3cf"
    }
   },
   "outputs": [
    {
     "data": {
      "text/html": [
       "<div>\n",
       "<style scoped>\n",
       "    .dataframe tbody tr th:only-of-type {\n",
       "        vertical-align: middle;\n",
       "    }\n",
       "\n",
       "    .dataframe tbody tr th {\n",
       "        vertical-align: top;\n",
       "    }\n",
       "\n",
       "    .dataframe thead th {\n",
       "        text-align: right;\n",
       "    }\n",
       "</style>\n",
       "<table border=\"1\" class=\"dataframe\">\n",
       "  <thead>\n",
       "    <tr style=\"text-align: right;\">\n",
       "      <th></th>\n",
       "      <th>taz</th>\n",
       "      <th>lat</th>\n",
       "      <th>long</th>\n",
       "      <th>geometry</th>\n",
       "    </tr>\n",
       "  </thead>\n",
       "  <tbody>\n",
       "    <tr>\n",
       "      <th>0</th>\n",
       "      <td>100011</td>\n",
       "      <td>-122.398114</td>\n",
       "      <td>37.794007</td>\n",
       "      <td>POINT (37.79400678832175 -122.398114042965)</td>\n",
       "    </tr>\n",
       "    <tr>\n",
       "      <th>1</th>\n",
       "      <td>100012</td>\n",
       "      <td>-122.399327</td>\n",
       "      <td>37.793833</td>\n",
       "      <td>POINT (37.79383262307944 -122.3993267183066)</td>\n",
       "    </tr>\n",
       "    <tr>\n",
       "      <th>2</th>\n",
       "      <td>100013</td>\n",
       "      <td>-122.400521</td>\n",
       "      <td>37.793938</td>\n",
       "      <td>POINT (37.79393775629128 -122.4005212162663)</td>\n",
       "    </tr>\n",
       "    <tr>\n",
       "      <th>3</th>\n",
       "      <td>100014</td>\n",
       "      <td>-122.400436</td>\n",
       "      <td>37.793453</td>\n",
       "      <td>POINT (37.79345342856071 -122.4004363853933)</td>\n",
       "    </tr>\n",
       "    <tr>\n",
       "      <th>4</th>\n",
       "      <td>100015</td>\n",
       "      <td>-122.401614</td>\n",
       "      <td>37.793307</td>\n",
       "      <td>POINT (37.79330682952443 -122.4016140830772)</td>\n",
       "    </tr>\n",
       "    <tr>\n",
       "      <th>5</th>\n",
       "      <td>100016</td>\n",
       "      <td>-122.401714</td>\n",
       "      <td>37.793757</td>\n",
       "      <td>POINT (37.79375681617553 -122.4017140874718)</td>\n",
       "    </tr>\n",
       "    <tr>\n",
       "      <th>6</th>\n",
       "      <td>100017</td>\n",
       "      <td>-122.402743</td>\n",
       "      <td>37.793610</td>\n",
       "      <td>POINT (37.79361034758903 -122.4027425033998)</td>\n",
       "    </tr>\n",
       "    <tr>\n",
       "      <th>7</th>\n",
       "      <td>100018</td>\n",
       "      <td>-122.402614</td>\n",
       "      <td>37.793157</td>\n",
       "      <td>POINT (37.79315683977168 -122.4026140948322)</td>\n",
       "    </tr>\n",
       "    <tr>\n",
       "      <th>8</th>\n",
       "      <td>100019</td>\n",
       "      <td>-122.403500</td>\n",
       "      <td>37.793262</td>\n",
       "      <td>POINT (37.79326225814949 -122.4034999402384)</td>\n",
       "    </tr>\n",
       "    <tr>\n",
       "      <th>9</th>\n",
       "      <td>10001A</td>\n",
       "      <td>-122.404384</td>\n",
       "      <td>37.793192</td>\n",
       "      <td>POINT (37.79319234410282 -122.4043837573567)</td>\n",
       "    </tr>\n",
       "    <tr>\n",
       "      <th>10</th>\n",
       "      <td>10001B</td>\n",
       "      <td>-122.405192</td>\n",
       "      <td>37.793068</td>\n",
       "      <td>POINT (37.79306752367837 -122.4051921271671)</td>\n",
       "    </tr>\n",
       "    <tr>\n",
       "      <th>11</th>\n",
       "      <td>10001C</td>\n",
       "      <td>-122.404566</td>\n",
       "      <td>37.792197</td>\n",
       "      <td>POINT (37.79219718547076 -122.4045658558894)</td>\n",
       "    </tr>\n",
       "    <tr>\n",
       "      <th>12</th>\n",
       "      <td>10001D</td>\n",
       "      <td>-122.403340</td>\n",
       "      <td>37.792354</td>\n",
       "      <td>POINT (37.79235353537492 -122.403339515133)</td>\n",
       "    </tr>\n",
       "    <tr>\n",
       "      <th>13</th>\n",
       "      <td>10001E</td>\n",
       "      <td>-122.402487</td>\n",
       "      <td>37.792443</td>\n",
       "      <td>POINT (37.79244251516243 -122.4024868730365)</td>\n",
       "    </tr>\n",
       "    <tr>\n",
       "      <th>14</th>\n",
       "      <td>10001F</td>\n",
       "      <td>-122.401454</td>\n",
       "      <td>37.792584</td>\n",
       "      <td>POINT (37.79258448628067 -122.4014541045352)</td>\n",
       "    </tr>\n",
       "    <tr>\n",
       "      <th>15</th>\n",
       "      <td>10001G</td>\n",
       "      <td>-122.400274</td>\n",
       "      <td>37.792729</td>\n",
       "      <td>POINT (37.79272920451766 -122.4002740334952)</td>\n",
       "    </tr>\n",
       "    <tr>\n",
       "      <th>16</th>\n",
       "      <td>10001H</td>\n",
       "      <td>-122.399077</td>\n",
       "      <td>37.792878</td>\n",
       "      <td>POINT (37.79287836243503 -122.3990767320804)</td>\n",
       "    </tr>\n",
       "    <tr>\n",
       "      <th>17</th>\n",
       "      <td>10001I</td>\n",
       "      <td>-122.397997</td>\n",
       "      <td>37.793179</td>\n",
       "      <td>POINT (37.793179035402 -122.3979973692666)</td>\n",
       "    </tr>\n",
       "    <tr>\n",
       "      <th>18</th>\n",
       "      <td>10001J</td>\n",
       "      <td>-122.399052</td>\n",
       "      <td>37.792153</td>\n",
       "      <td>POINT (37.79215276912192 -122.3990524778756)</td>\n",
       "    </tr>\n",
       "    <tr>\n",
       "      <th>19</th>\n",
       "      <td>10001K</td>\n",
       "      <td>-122.400076</td>\n",
       "      <td>37.791735</td>\n",
       "      <td>POINT (37.79173499442207 -122.4000755110053)</td>\n",
       "    </tr>\n",
       "    <tr>\n",
       "      <th>20</th>\n",
       "      <td>10001L</td>\n",
       "      <td>-122.401274</td>\n",
       "      <td>37.791629</td>\n",
       "      <td>POINT (37.79162924412917 -122.4012740386736)</td>\n",
       "    </tr>\n",
       "    <tr>\n",
       "      <th>21</th>\n",
       "      <td>10001N</td>\n",
       "      <td>-122.402716</td>\n",
       "      <td>37.791464</td>\n",
       "      <td>POINT (37.79146399982113 -122.4027156358498)</td>\n",
       "    </tr>\n",
       "    <tr>\n",
       "      <th>22</th>\n",
       "      <td>10001O</td>\n",
       "      <td>-122.404157</td>\n",
       "      <td>37.791291</td>\n",
       "      <td>POINT (37.79129052816582 -122.4041565977387)</td>\n",
       "    </tr>\n",
       "    <tr>\n",
       "      <th>23</th>\n",
       "      <td>10001P</td>\n",
       "      <td>-122.404955</td>\n",
       "      <td>37.791187</td>\n",
       "      <td>POINT (37.79118744596318 -122.4049551320789)</td>\n",
       "    </tr>\n",
       "    <tr>\n",
       "      <th>24</th>\n",
       "      <td>10001R</td>\n",
       "      <td>-122.405889</td>\n",
       "      <td>37.791057</td>\n",
       "      <td>POINT (37.79105718149027 -122.4058890334059)</td>\n",
       "    </tr>\n",
       "    <tr>\n",
       "      <th>25</th>\n",
       "      <td>10001S</td>\n",
       "      <td>-122.406142</td>\n",
       "      <td>37.792015</td>\n",
       "      <td>POINT (37.79201488586609 -122.4061422139102)</td>\n",
       "    </tr>\n",
       "    <tr>\n",
       "      <th>26</th>\n",
       "      <td>10001U</td>\n",
       "      <td>-122.407643</td>\n",
       "      <td>37.791829</td>\n",
       "      <td>POINT (37.79182916873766 -122.4076426729287)</td>\n",
       "    </tr>\n",
       "    <tr>\n",
       "      <th>27</th>\n",
       "      <td>10001V</td>\n",
       "      <td>-122.407439</td>\n",
       "      <td>37.790863</td>\n",
       "      <td>POINT (37.7908628634114 -122.4074386433692)</td>\n",
       "    </tr>\n",
       "    <tr>\n",
       "      <th>28</th>\n",
       "      <td>100021</td>\n",
       "      <td>-122.408834</td>\n",
       "      <td>37.789792</td>\n",
       "      <td>POINT (37.78979164658858 -122.4088344583566)</td>\n",
       "    </tr>\n",
       "    <tr>\n",
       "      <th>29</th>\n",
       "      <td>100022</td>\n",
       "      <td>-122.407227</td>\n",
       "      <td>37.789955</td>\n",
       "      <td>POINT (37.78995464378551 -122.4072271020953)</td>\n",
       "    </tr>\n",
       "    <tr>\n",
       "      <th>...</th>\n",
       "      <td>...</td>\n",
       "      <td>...</td>\n",
       "      <td>...</td>\n",
       "      <td>...</td>\n",
       "    </tr>\n",
       "    <tr>\n",
       "      <th>70</th>\n",
       "      <td>100063</td>\n",
       "      <td>-122.412256</td>\n",
       "      <td>37.777636</td>\n",
       "      <td>POINT (37.77763573781098 -122.4122557959099)</td>\n",
       "    </tr>\n",
       "    <tr>\n",
       "      <th>71</th>\n",
       "      <td>100064</td>\n",
       "      <td>-122.414195</td>\n",
       "      <td>37.776158</td>\n",
       "      <td>POINT (37.77615843538521 -122.4141948109353)</td>\n",
       "    </tr>\n",
       "    <tr>\n",
       "      <th>72</th>\n",
       "      <td>100065</td>\n",
       "      <td>-122.415713</td>\n",
       "      <td>37.777369</td>\n",
       "      <td>POINT (37.77736866651055 -122.4157134562829)</td>\n",
       "    </tr>\n",
       "    <tr>\n",
       "      <th>73</th>\n",
       "      <td>100066</td>\n",
       "      <td>-122.416189</td>\n",
       "      <td>37.774594</td>\n",
       "      <td>POINT (37.77459387222764 -122.416188718303)</td>\n",
       "    </tr>\n",
       "    <tr>\n",
       "      <th>74</th>\n",
       "      <td>100071</td>\n",
       "      <td>-122.407308</td>\n",
       "      <td>37.784005</td>\n",
       "      <td>POINT (37.78400512757078 -122.4073079594355)</td>\n",
       "    </tr>\n",
       "    <tr>\n",
       "      <th>75</th>\n",
       "      <td>100072</td>\n",
       "      <td>-122.409588</td>\n",
       "      <td>37.782345</td>\n",
       "      <td>POINT (37.78234497165855 -122.4095875607259)</td>\n",
       "    </tr>\n",
       "    <tr>\n",
       "      <th>76</th>\n",
       "      <td>100073</td>\n",
       "      <td>-122.405944</td>\n",
       "      <td>37.782615</td>\n",
       "      <td>POINT (37.78261453990963 -122.4059440526888)</td>\n",
       "    </tr>\n",
       "    <tr>\n",
       "      <th>77</th>\n",
       "      <td>100074</td>\n",
       "      <td>-122.408212</td>\n",
       "      <td>37.780864</td>\n",
       "      <td>POINT (37.78086375475068 -122.4082119263711)</td>\n",
       "    </tr>\n",
       "    <tr>\n",
       "      <th>78</th>\n",
       "      <td>100075</td>\n",
       "      <td>-122.410044</td>\n",
       "      <td>37.779372</td>\n",
       "      <td>POINT (37.77937164373785 -122.4100437200053)</td>\n",
       "    </tr>\n",
       "    <tr>\n",
       "      <th>79</th>\n",
       "      <td>100076</td>\n",
       "      <td>-122.411578</td>\n",
       "      <td>37.780656</td>\n",
       "      <td>POINT (37.78065607517308 -122.4115784134275)</td>\n",
       "    </tr>\n",
       "    <tr>\n",
       "      <th>80</th>\n",
       "      <td>100081</td>\n",
       "      <td>-122.398917</td>\n",
       "      <td>37.788263</td>\n",
       "      <td>POINT (37.78826288155251 -122.3989168178646)</td>\n",
       "    </tr>\n",
       "    <tr>\n",
       "      <th>81</th>\n",
       "      <td>100082</td>\n",
       "      <td>-122.400818</td>\n",
       "      <td>37.789177</td>\n",
       "      <td>POINT (37.78917676315213 -122.400818308105)</td>\n",
       "    </tr>\n",
       "    <tr>\n",
       "      <th>82</th>\n",
       "      <td>100083</td>\n",
       "      <td>-122.401142</td>\n",
       "      <td>37.786461</td>\n",
       "      <td>POINT (37.78646068334236 -122.4011418286951)</td>\n",
       "    </tr>\n",
       "    <tr>\n",
       "      <th>83</th>\n",
       "      <td>100084</td>\n",
       "      <td>-122.402651</td>\n",
       "      <td>37.787730</td>\n",
       "      <td>POINT (37.78773021682962 -122.4026510858672)</td>\n",
       "    </tr>\n",
       "    <tr>\n",
       "      <th>84</th>\n",
       "      <td>100085</td>\n",
       "      <td>-122.403359</td>\n",
       "      <td>37.784706</td>\n",
       "      <td>POINT (37.78470620494602 -122.4033591034008)</td>\n",
       "    </tr>\n",
       "    <tr>\n",
       "      <th>85</th>\n",
       "      <td>100086</td>\n",
       "      <td>-122.404900</td>\n",
       "      <td>37.785972</td>\n",
       "      <td>POINT (37.78597154663331 -122.4048996563658)</td>\n",
       "    </tr>\n",
       "    <tr>\n",
       "      <th>86</th>\n",
       "      <td>100087</td>\n",
       "      <td>-122.399699</td>\n",
       "      <td>37.790070</td>\n",
       "      <td>POINT (37.79006955026736 -122.3996989488737)</td>\n",
       "    </tr>\n",
       "    <tr>\n",
       "      <th>87</th>\n",
       "      <td>100091</td>\n",
       "      <td>-122.395456</td>\n",
       "      <td>37.793421</td>\n",
       "      <td>POINT (37.79342149550131 -122.3954556513222)</td>\n",
       "    </tr>\n",
       "    <tr>\n",
       "      <th>88</th>\n",
       "      <td>100092</td>\n",
       "      <td>-122.393251</td>\n",
       "      <td>37.792765</td>\n",
       "      <td>POINT (37.79276540138233 -122.3932511446634)</td>\n",
       "    </tr>\n",
       "    <tr>\n",
       "      <th>89</th>\n",
       "      <td>100093</td>\n",
       "      <td>-122.392555</td>\n",
       "      <td>37.793343</td>\n",
       "      <td>POINT (37.79334314280844 -122.3925553280622)</td>\n",
       "    </tr>\n",
       "    <tr>\n",
       "      <th>90</th>\n",
       "      <td>100094</td>\n",
       "      <td>-122.393913</td>\n",
       "      <td>37.792207</td>\n",
       "      <td>POINT (37.79220682011297 -122.3939129774762)</td>\n",
       "    </tr>\n",
       "    <tr>\n",
       "      <th>91</th>\n",
       "      <td>100095</td>\n",
       "      <td>-122.394763</td>\n",
       "      <td>37.791507</td>\n",
       "      <td>POINT (37.79150684642219 -122.3947629837632)</td>\n",
       "    </tr>\n",
       "    <tr>\n",
       "      <th>92</th>\n",
       "      <td>100096</td>\n",
       "      <td>-122.396312</td>\n",
       "      <td>37.792755</td>\n",
       "      <td>POINT (37.79275543132017 -122.396311724055)</td>\n",
       "    </tr>\n",
       "    <tr>\n",
       "      <th>93</th>\n",
       "      <td>100097</td>\n",
       "      <td>-122.397239</td>\n",
       "      <td>37.792053</td>\n",
       "      <td>POINT (37.7920529816571 -122.3972389711073)</td>\n",
       "    </tr>\n",
       "    <tr>\n",
       "      <th>94</th>\n",
       "      <td>100099</td>\n",
       "      <td>-122.396498</td>\n",
       "      <td>37.790163</td>\n",
       "      <td>POINT (37.79016261843722 -122.3964978085785)</td>\n",
       "    </tr>\n",
       "    <tr>\n",
       "      <th>95</th>\n",
       "      <td>10009A</td>\n",
       "      <td>-122.395663</td>\n",
       "      <td>37.790814</td>\n",
       "      <td>POINT (37.79081447983075 -122.3956630857451)</td>\n",
       "    </tr>\n",
       "    <tr>\n",
       "      <th>96</th>\n",
       "      <td>10009B</td>\n",
       "      <td>-122.396840</td>\n",
       "      <td>37.789148</td>\n",
       "      <td>POINT (37.78914815887155 -122.3968401874782)</td>\n",
       "    </tr>\n",
       "    <tr>\n",
       "      <th>97</th>\n",
       "      <td>10009C</td>\n",
       "      <td>-122.397619</td>\n",
       "      <td>37.789718</td>\n",
       "      <td>POINT (37.78971787489824 -122.3976188541642)</td>\n",
       "    </tr>\n",
       "    <tr>\n",
       "      <th>98</th>\n",
       "      <td>10009D</td>\n",
       "      <td>-122.398099</td>\n",
       "      <td>37.791361</td>\n",
       "      <td>POINT (37.79136130061554 -122.3980989943709)</td>\n",
       "    </tr>\n",
       "    <tr>\n",
       "      <th>99</th>\n",
       "      <td>10009E</td>\n",
       "      <td>-122.398911</td>\n",
       "      <td>37.790704</td>\n",
       "      <td>POINT (37.79070441399867 -122.3989106200994)</td>\n",
       "    </tr>\n",
       "  </tbody>\n",
       "</table>\n",
       "<p>100 rows × 4 columns</p>\n",
       "</div>"
      ],
      "text/plain": [
       "       taz         lat       long  \\\n",
       "0   100011 -122.398114  37.794007   \n",
       "1   100012 -122.399327  37.793833   \n",
       "2   100013 -122.400521  37.793938   \n",
       "3   100014 -122.400436  37.793453   \n",
       "4   100015 -122.401614  37.793307   \n",
       "5   100016 -122.401714  37.793757   \n",
       "6   100017 -122.402743  37.793610   \n",
       "7   100018 -122.402614  37.793157   \n",
       "8   100019 -122.403500  37.793262   \n",
       "9   10001A -122.404384  37.793192   \n",
       "10  10001B -122.405192  37.793068   \n",
       "11  10001C -122.404566  37.792197   \n",
       "12  10001D -122.403340  37.792354   \n",
       "13  10001E -122.402487  37.792443   \n",
       "14  10001F -122.401454  37.792584   \n",
       "15  10001G -122.400274  37.792729   \n",
       "16  10001H -122.399077  37.792878   \n",
       "17  10001I -122.397997  37.793179   \n",
       "18  10001J -122.399052  37.792153   \n",
       "19  10001K -122.400076  37.791735   \n",
       "20  10001L -122.401274  37.791629   \n",
       "21  10001N -122.402716  37.791464   \n",
       "22  10001O -122.404157  37.791291   \n",
       "23  10001P -122.404955  37.791187   \n",
       "24  10001R -122.405889  37.791057   \n",
       "25  10001S -122.406142  37.792015   \n",
       "26  10001U -122.407643  37.791829   \n",
       "27  10001V -122.407439  37.790863   \n",
       "28  100021 -122.408834  37.789792   \n",
       "29  100022 -122.407227  37.789955   \n",
       "..     ...         ...        ...   \n",
       "70  100063 -122.412256  37.777636   \n",
       "71  100064 -122.414195  37.776158   \n",
       "72  100065 -122.415713  37.777369   \n",
       "73  100066 -122.416189  37.774594   \n",
       "74  100071 -122.407308  37.784005   \n",
       "75  100072 -122.409588  37.782345   \n",
       "76  100073 -122.405944  37.782615   \n",
       "77  100074 -122.408212  37.780864   \n",
       "78  100075 -122.410044  37.779372   \n",
       "79  100076 -122.411578  37.780656   \n",
       "80  100081 -122.398917  37.788263   \n",
       "81  100082 -122.400818  37.789177   \n",
       "82  100083 -122.401142  37.786461   \n",
       "83  100084 -122.402651  37.787730   \n",
       "84  100085 -122.403359  37.784706   \n",
       "85  100086 -122.404900  37.785972   \n",
       "86  100087 -122.399699  37.790070   \n",
       "87  100091 -122.395456  37.793421   \n",
       "88  100092 -122.393251  37.792765   \n",
       "89  100093 -122.392555  37.793343   \n",
       "90  100094 -122.393913  37.792207   \n",
       "91  100095 -122.394763  37.791507   \n",
       "92  100096 -122.396312  37.792755   \n",
       "93  100097 -122.397239  37.792053   \n",
       "94  100099 -122.396498  37.790163   \n",
       "95  10009A -122.395663  37.790814   \n",
       "96  10009B -122.396840  37.789148   \n",
       "97  10009C -122.397619  37.789718   \n",
       "98  10009D -122.398099  37.791361   \n",
       "99  10009E -122.398911  37.790704   \n",
       "\n",
       "                                        geometry  \n",
       "0    POINT (37.79400678832175 -122.398114042965)  \n",
       "1   POINT (37.79383262307944 -122.3993267183066)  \n",
       "2   POINT (37.79393775629128 -122.4005212162663)  \n",
       "3   POINT (37.79345342856071 -122.4004363853933)  \n",
       "4   POINT (37.79330682952443 -122.4016140830772)  \n",
       "5   POINT (37.79375681617553 -122.4017140874718)  \n",
       "6   POINT (37.79361034758903 -122.4027425033998)  \n",
       "7   POINT (37.79315683977168 -122.4026140948322)  \n",
       "8   POINT (37.79326225814949 -122.4034999402384)  \n",
       "9   POINT (37.79319234410282 -122.4043837573567)  \n",
       "10  POINT (37.79306752367837 -122.4051921271671)  \n",
       "11  POINT (37.79219718547076 -122.4045658558894)  \n",
       "12   POINT (37.79235353537492 -122.403339515133)  \n",
       "13  POINT (37.79244251516243 -122.4024868730365)  \n",
       "14  POINT (37.79258448628067 -122.4014541045352)  \n",
       "15  POINT (37.79272920451766 -122.4002740334952)  \n",
       "16  POINT (37.79287836243503 -122.3990767320804)  \n",
       "17    POINT (37.793179035402 -122.3979973692666)  \n",
       "18  POINT (37.79215276912192 -122.3990524778756)  \n",
       "19  POINT (37.79173499442207 -122.4000755110053)  \n",
       "20  POINT (37.79162924412917 -122.4012740386736)  \n",
       "21  POINT (37.79146399982113 -122.4027156358498)  \n",
       "22  POINT (37.79129052816582 -122.4041565977387)  \n",
       "23  POINT (37.79118744596318 -122.4049551320789)  \n",
       "24  POINT (37.79105718149027 -122.4058890334059)  \n",
       "25  POINT (37.79201488586609 -122.4061422139102)  \n",
       "26  POINT (37.79182916873766 -122.4076426729287)  \n",
       "27   POINT (37.7908628634114 -122.4074386433692)  \n",
       "28  POINT (37.78979164658858 -122.4088344583566)  \n",
       "29  POINT (37.78995464378551 -122.4072271020953)  \n",
       "..                                           ...  \n",
       "70  POINT (37.77763573781098 -122.4122557959099)  \n",
       "71  POINT (37.77615843538521 -122.4141948109353)  \n",
       "72  POINT (37.77736866651055 -122.4157134562829)  \n",
       "73   POINT (37.77459387222764 -122.416188718303)  \n",
       "74  POINT (37.78400512757078 -122.4073079594355)  \n",
       "75  POINT (37.78234497165855 -122.4095875607259)  \n",
       "76  POINT (37.78261453990963 -122.4059440526888)  \n",
       "77  POINT (37.78086375475068 -122.4082119263711)  \n",
       "78  POINT (37.77937164373785 -122.4100437200053)  \n",
       "79  POINT (37.78065607517308 -122.4115784134275)  \n",
       "80  POINT (37.78826288155251 -122.3989168178646)  \n",
       "81   POINT (37.78917676315213 -122.400818308105)  \n",
       "82  POINT (37.78646068334236 -122.4011418286951)  \n",
       "83  POINT (37.78773021682962 -122.4026510858672)  \n",
       "84  POINT (37.78470620494602 -122.4033591034008)  \n",
       "85  POINT (37.78597154663331 -122.4048996563658)  \n",
       "86  POINT (37.79006955026736 -122.3996989488737)  \n",
       "87  POINT (37.79342149550131 -122.3954556513222)  \n",
       "88  POINT (37.79276540138233 -122.3932511446634)  \n",
       "89  POINT (37.79334314280844 -122.3925553280622)  \n",
       "90  POINT (37.79220682011297 -122.3939129774762)  \n",
       "91  POINT (37.79150684642219 -122.3947629837632)  \n",
       "92   POINT (37.79275543132017 -122.396311724055)  \n",
       "93   POINT (37.7920529816571 -122.3972389711073)  \n",
       "94  POINT (37.79016261843722 -122.3964978085785)  \n",
       "95  POINT (37.79081447983075 -122.3956630857451)  \n",
       "96  POINT (37.78914815887155 -122.3968401874782)  \n",
       "97  POINT (37.78971787489824 -122.3976188541642)  \n",
       "98  POINT (37.79136130061554 -122.3980989943709)  \n",
       "99  POINT (37.79070441399867 -122.3989106200994)  \n",
       "\n",
       "[100 rows x 4 columns]"
      ]
     },
     "execution_count": 178,
     "metadata": {},
     "output_type": "execute_result"
    }
   ],
   "source": [
    "#plot lat-longs on map\n",
    "def make_point(row):\n",
    "    return Point(row.long, row.lat)\n",
    "\n",
    "# Go through every row, and make a point out of its lat and lon\n",
    "points = centroid_lat_long_df.apply(make_point, axis=1)\n",
    "\n",
    "# Make a new GeoDataFrame\n",
    "# using the data from our old df\n",
    "# but also adding in the geometry we just made\n",
    "taz_centroids = gpd.GeoDataFrame(centroid_lat_long_df, geometry=points)\n",
    "\n",
    "# It doesn't come with a CRS because it's a CSV, so let's\n",
    "# say \"hey, let's use the standard shape of the earth etc\"\n",
    "taz_centroids.crs = {'init': 'epsg:4326'}\n",
    "    \n",
    "\n",
    "#look at the first few\n",
    "taz_centroids.head(n=100)"
   ]
  },
  {
   "cell_type": "code",
   "execution_count": 179,
   "metadata": {
    "nbpresent": {
     "id": "12307250-3179-4710-9ec1-d0a92859dd17"
    }
   },
   "outputs": [
    {
     "data": {
      "text/plain": [
       "(36.87615263293962,\n",
       " 38.935025429778776,\n",
       " -123.57943972389029,\n",
       " -121.39556355772304)"
      ]
     },
     "execution_count": 179,
     "metadata": {},
     "output_type": "execute_result"
    },
    {
     "data": {
      "image/png": "[encoded data removed]",
      "text/plain": [
       "<Figure size 1800x1800 with 1 Axes>"
      ]
     },
     "metadata": {
      "needs_background": "light"
     },
     "output_type": "display_data"
    }
   ],
   "source": [
    "#plot taz centroids lat-long\n",
    "ax = taz_centroids.plot(figsize=(25,25), markersize=20, color='green', alpha=0.75)\n",
    "ax.axis('on')"
   ]
  },
  {
   "cell_type": "code",
   "execution_count": 121,
   "metadata": {
    "nbpresent": {
     "id": "fd5f4aaa-c237-4183-aaed-21e2b6afcb67"
    },
    "scrolled": true
   },
   "outputs": [],
   "source": [
    "#taz_loc_df.sort_values('taz')"
   ]
  },
  {
   "cell_type": "code",
   "execution_count": 180,
   "metadata": {
    "nbpresent": {
     "id": "7264352c-1363-4bb1-911a-c2693a871a6a"
    }
   },
   "outputs": [
    {
     "data": {
      "text/plain": [
       "0       POLYGON ((-122.3974640322931 37.7936567954638,...\n",
       "1       POLYGON ((-122.3986640463337 37.79345680835092...\n",
       "2       POLYGON ((-122.3999640650276 37.79375680637731...\n",
       "3       POLYGON ((-122.4009640737312 37.79315683050976...\n",
       "4       POLYGON ((-122.4009640737312 37.79315683050976...\n",
       "5       POLYGON ((-122.4022640924444 37.79345682852881...\n",
       "6       POLYGON ((-122.4022640924444 37.79345682852881...\n",
       "7       POLYGON ((-122.4029640972087 37.79285685101635...\n",
       "8       POLYGON ((-122.4029640972087 37.79285685101635...\n",
       "9       POLYGON ((-122.4047641187705 37.79265686732844...\n",
       "10      POLYGON ((-122.4055641354295 37.79355684392483...\n",
       "11      POLYGON ((-122.4052641179977 37.79165690113692...\n",
       "12      POLYGON ((-122.4029640972087 37.79285685101635...\n",
       "13      POLYGON ((-122.4029640972087 37.79285685101635...\n",
       "14      POLYGON ((-122.4009640737312 37.79315683050976...\n",
       "15      POLYGON ((-122.3997640590638 37.79325682068881...\n",
       "16      POLYGON ((-122.3983640357851 37.79245683749739...\n",
       "17      POLYGON ((-122.3983640357851 37.79245683749739...\n",
       "18      POLYGON ((-122.3995640503996 37.79235684733833...\n",
       "19      POLYGON ((-122.4007640643125 37.79215686027378...\n",
       "20      POLYGON ((-122.4007640643125 37.79215686027378...\n",
       "21      POLYGON ((-122.402264075746 37.79105690274415,...\n",
       "22      POLYGON ((-122.4034640895234 37.79085691573083...\n",
       "23      POLYGON ((-122.4052641179977 37.79165690113692...\n",
       "24      POLYGON ((-122.405373111908 37.79061293411548,...\n",
       "25      POLYGON ((-122.4064641390115 37.79245688309516...\n",
       "26      POLYGON ((-122.4067641355867 37.79145691581678...\n",
       "27      POLYGON ((-122.4080601431334 37.79024496079413...\n",
       "28      POLYGON ((-122.4080021391342 37.78979897431861...\n",
       "29      POLYGON ((-122.4065641258157 37.79045694571396...\n",
       "                              ...                        \n",
       "4039    POLYGON ((-122.5266726305353 37.92974889954235...\n",
       "4040    POLYGON ((-122.5266726305353 37.92974889954235...\n",
       "4041    (POLYGON ((-122.6799901666352 37.9114507737835...\n",
       "4042    POLYGON ((-122.7286961444464 37.9325503015717,...\n",
       "4043    POLYGON ((-122.5444742547641 37.89875093484861...\n",
       "4044    POLYGON ((-122.5495746359824 37.90585071574378...\n",
       "4045    POLYGON ((-122.5547748933566 37.90255082904786...\n",
       "4046    POLYGON ((-122.5415741485144 37.90355077645757...\n",
       "4047    POLYGON ((-122.5348727450856 37.90205081436527...\n",
       "4048    POLYGON ((-122.5380637333988 37.8866393160579,...\n",
       "4049    POLYGON ((-122.5678766607995 37.90385080860226...\n",
       "4050    POLYGON ((-122.5437729675915 37.8790525654804,...\n",
       "4051    POLYGON ((-122.5380637333988 37.8866393160579,...\n",
       "4052    POLYGON ((-122.5437729675915 37.8790525654804,...\n",
       "4053    POLYGON ((-122.5264722462992 37.90075084382225...\n",
       "4054    (POLYGON ((-122.5216707505573 37.8837523928697...\n",
       "4055    POLYGON ((-122.5178705572123 37.88575232343419...\n",
       "4056    POLYGON ((-122.5049068691911 37.89026715982697...\n",
       "4057    POLYGON ((-122.4724682390934 37.90205067790491...\n",
       "4058    POLYGON ((-122.4803682372876 37.88885213455609...\n",
       "4059    (POLYGON ((-122.4575666270139 37.8719526052078...\n",
       "4060    POLYGON ((-122.4198648026497 37.85335404920202...\n",
       "4061    POLYGON ((-122.4734680405944 37.88315229809793...\n",
       "4062    POLYGON ((-122.4831808923525 37.85614921963022...\n",
       "4063    POLYGON ((-122.4799667831787 37.85155435733068...\n",
       "4064    POLYGON ((-122.4964252388644 37.86560995931816...\n",
       "4065    POLYGON ((-122.4986221885284 37.85887719179478...\n",
       "4066    POLYGON ((-122.5117688887182 37.8616541126711,...\n",
       "4067    POLYGON ((-122.6280829144353 37.88565244218215...\n",
       "4068    POLYGON ((-122.5529730360061 37.84155476544767...\n",
       "Name: geometry, Length: 4069, dtype: object"
      ]
     },
     "execution_count": 180,
     "metadata": {},
     "output_type": "execute_result"
    }
   ],
   "source": [
    "taz['geometry']"
   ]
  },
  {
   "cell_type": "code",
   "execution_count": 118,
   "metadata": {},
   "outputs": [
    {
     "data": {
      "text/plain": [
       "\"\\ndef parse_taz_loc_df_into_lat_long(taz):\\n    \\n    new_df = pd.DataFrame(columns=['taz','lat','long'])\\n    \\n    for x in taz:\\n        new_df = pd.DataFrame(columns=['taz','lat','long'])\\n        new_df['taz'] = x['taz']\\n        new_df['lat'] = = taz['geometry'][0].split(',')\\n    \\n        #remove 'POLYGON' from first element\\n        new_str[0] = new_str[0].split('N (')[1]\\n\\n        #get longitude for all values in polygon\\n        new_str_list = [x.split(' ') for x in new_str]\\n        #print(new_str_list)\\n\\n        #remove first element\\n        del new_str_list[0]\\n\\n        #remove last element\\n        del new_str_list[-1]\\n\\n        #get lat and long\\n        long = [float(x[1]) for x in new_str_list]\\n        lat = [float(x[2]) for x in new_str_list]\\n        #print(new_str[3].split(' '))\\n        #print(long)\\n        #print(lat)\\n        return long, lat\\n\\n\\ndef make_lat_long_df(lat, long):\\n    new_df = pd.DataFrame(columns=['lat','long'])\\n    #new_df['segment_id'] = df['PublicSegID']\\n    new_df['lat'] = lat\\n    new_df['long'] = long\\n    return new_df\\n\\n\\nlat, long = parse_taz_loc_df_into_lat_long(taz_loc_df)\\nlat_long_df = make_lat_long_df(lat, long)\\nlat_long_df\\n\""
      ]
     },
     "execution_count": 118,
     "metadata": {},
     "output_type": "execute_result"
    }
   ],
   "source": [
    "\"\"\"\n",
    "def parse_taz_loc_df_into_lat_long(taz):\n",
    "    \n",
    "    new_df = pd.DataFrame(columns=['taz','lat','long'])\n",
    "    \n",
    "    for x in taz:\n",
    "        new_df = pd.DataFrame(columns=['taz','lat','long'])\n",
    "        new_df['taz'] = x['taz']\n",
    "        new_df['lat'] = = taz['geometry'][0].split(',')\n",
    "    \n",
    "        #remove 'POLYGON' from first element\n",
    "        new_str[0] = new_str[0].split('N (')[1]\n",
    "\n",
    "        #get longitude for all values in polygon\n",
    "        new_str_list = [x.split(' ') for x in new_str]\n",
    "        #print(new_str_list)\n",
    "\n",
    "        #remove first element\n",
    "        del new_str_list[0]\n",
    "\n",
    "        #remove last element\n",
    "        del new_str_list[-1]\n",
    "\n",
    "        #get lat and long\n",
    "        long = [float(x[1]) for x in new_str_list]\n",
    "        lat = [float(x[2]) for x in new_str_list]\n",
    "        #print(new_str[3].split(' '))\n",
    "        #print(long)\n",
    "        #print(lat)\n",
    "        return long, lat\n",
    "\n",
    "\n",
    "def make_lat_long_df(lat, long):\n",
    "    new_df = pd.DataFrame(columns=['lat','long'])\n",
    "    #new_df['segment_id'] = df['PublicSegID']\n",
    "    new_df['lat'] = lat\n",
    "    new_df['long'] = long\n",
    "    return new_df\n",
    "\n",
    "\n",
    "lat, long = parse_taz_loc_df_into_lat_long(taz_loc_df)\n",
    "lat_long_df = make_lat_long_df(lat, long)\n",
    "lat_long_df\n",
    "\"\"\""
   ]
  }
 ],
 "metadata": {
  "kernelspec": {
   "display_name": "Python 3",
   "language": "python",
   "name": "python3"
  },
  "language_info": {
   "codemirror_mode": {
    "name": "ipython",
    "version": 3
   },
   "file_extension": ".py",
   "mimetype": "text/x-python",
   "name": "python",
   "nbconvert_exporter": "python",
   "pygments_lexer": "ipython3",
   "version": "3.6.6"
  }
 },
 "nbformat": 4,
 "nbformat_minor": 2
}
