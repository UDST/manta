{
 "cells": [
  {
   "cell_type": "code",
   "execution_count": 1,
   "metadata": {
    "nbpresent": {
     "id": "70cafb46-dca6-422e-8be0-5226fbca50b3"
    }
   },
   "outputs": [
    {
     "name": "stdout",
     "output_type": "stream",
     "text": [
      "ox 0.10\n",
      "nx 2.3\n"
     ]
    }
   ],
   "source": [
    "import time\n",
    "import os, zipfile, requests, pandas as pd\n",
    "import geopandas as gpd\n",
    "import osmnx as ox, networkx as nx\n",
    "import ast\n",
    "import statistics\n",
    "import numpy as np\n",
    "#from sklearn.neighbors import BallTree\n",
    "from shapely.geometry import Point\n",
    "import random\n",
    "from matplotlib import pyplot as plt\n",
    "import matplotlib.path as mpltPath\n",
    "import matplotlib.cm as cm\n",
    "import matplotlib.colors as colors\n",
    "import json \n",
    "from ast import literal_eval\n",
    "import itertools\n",
    "from collections import Counter\n",
    "import descartes\n",
    "import matplotlib\n",
    "\n",
    "\n",
    "\n",
    "print('ox {}\\nnx {}'.format(ox.__version__, nx.__version__))\n",
    "start_time = time.time()"
   ]
  },
  {
   "cell_type": "markdown",
   "metadata": {},
   "source": [
    "# Read routes file generated from microsim"
   ]
  },
  {
   "cell_type": "code",
   "execution_count": 165,
   "metadata": {
    "nbpresent": {
     "id": "4354d77f-1d49-403a-b703-f344dbb699c7"
    }
   },
   "outputs": [],
   "source": [
    "paths = pd.read_csv(\"routes.csv\", delimiter=':')"
   ]
  },
  {
   "cell_type": "code",
   "execution_count": 166,
   "metadata": {},
   "outputs": [
    {
     "data": {
      "text/html": [
       "<div>\n",
       "<style scoped>\n",
       "    .dataframe tbody tr th:only-of-type {\n",
       "        vertical-align: middle;\n",
       "    }\n",
       "\n",
       "    .dataframe tbody tr th {\n",
       "        vertical-align: top;\n",
       "    }\n",
       "\n",
       "    .dataframe thead th {\n",
       "        text-align: right;\n",
       "    }\n",
       "</style>\n",
       "<table border=\"1\" class=\"dataframe\">\n",
       "  <thead>\n",
       "    <tr style=\"text-align: right;\">\n",
       "      <th></th>\n",
       "      <th>p</th>\n",
       "      <th>route</th>\n",
       "    </tr>\n",
       "  </thead>\n",
       "  <tbody>\n",
       "    <tr>\n",
       "      <th>0</th>\n",
       "      <td>0</td>\n",
       "      <td>[255054,455748,255055,255060,255063,248808,244...</td>\n",
       "    </tr>\n",
       "    <tr>\n",
       "      <th>1</th>\n",
       "      <td>1</td>\n",
       "      <td>[542642,250334,256799]</td>\n",
       "    </tr>\n",
       "    <tr>\n",
       "      <th>2</th>\n",
       "      <td>2</td>\n",
       "      <td>[]</td>\n",
       "    </tr>\n",
       "    <tr>\n",
       "      <th>3</th>\n",
       "      <td>3</td>\n",
       "      <td>[]</td>\n",
       "    </tr>\n",
       "    <tr>\n",
       "      <th>4</th>\n",
       "      <td>4</td>\n",
       "      <td>[259587,576661,502686,258933,256164,258939,258...</td>\n",
       "    </tr>\n",
       "  </tbody>\n",
       "</table>\n",
       "</div>"
      ],
      "text/plain": [
       "   p                                              route\n",
       "0  0  [255054,455748,255055,255060,255063,248808,244...\n",
       "1  1                             [542642,250334,256799]\n",
       "2  2                                                 []\n",
       "3  3                                                 []\n",
       "4  4  [259587,576661,502686,258933,256164,258939,258..."
      ]
     },
     "execution_count": 166,
     "metadata": {},
     "output_type": "execute_result"
    }
   ],
   "source": [
    "paths.head()"
   ]
  },
  {
   "cell_type": "code",
   "execution_count": 167,
   "metadata": {},
   "outputs": [],
   "source": [
    "paths['route'] = paths['route'].apply(literal_eval)\n",
    "paths['route'] = paths['route'].apply(lambda x: np.array(x))"
   ]
  },
  {
   "cell_type": "code",
   "execution_count": 168,
   "metadata": {},
   "outputs": [
    {
     "data": {
      "text/plain": [
       "numpy.ndarray"
      ]
     },
     "execution_count": 168,
     "metadata": {},
     "output_type": "execute_result"
    }
   ],
   "source": [
    "type(paths['route'][0])"
   ]
  },
  {
   "cell_type": "markdown",
   "metadata": {},
   "source": [
    "# Get the count of each edge across all routes"
   ]
  },
  {
   "cell_type": "code",
   "execution_count": 169,
   "metadata": {
    "nbpresent": {
     "id": "5588c773-009c-40c4-a4be-8ec512d71d20"
    }
   },
   "outputs": [],
   "source": [
    "some_list = paths['route']\n",
    "totals = Counter(i for i in list(itertools.chain.from_iterable(some_list)))"
   ]
  },
  {
   "cell_type": "code",
   "execution_count": 170,
   "metadata": {},
   "outputs": [],
   "source": [
    "edge_totals = pd.DataFrame.from_dict(totals, orient='index')"
   ]
  },
  {
   "cell_type": "code",
   "execution_count": 171,
   "metadata": {},
   "outputs": [],
   "source": [
    "edge_totals = edge_totals.rename(columns={'index':'edge', 0:'count'})"
   ]
  },
  {
   "cell_type": "code",
   "execution_count": 172,
   "metadata": {},
   "outputs": [],
   "source": [
    "edge_totals = edge_totals.sort_values(by=['count'], ascending=False)"
   ]
  },
  {
   "cell_type": "code",
   "execution_count": 173,
   "metadata": {},
   "outputs": [
    {
     "data": {
      "text/html": [
       "<div>\n",
       "<style scoped>\n",
       "    .dataframe tbody tr th:only-of-type {\n",
       "        vertical-align: middle;\n",
       "    }\n",
       "\n",
       "    .dataframe tbody tr th {\n",
       "        vertical-align: top;\n",
       "    }\n",
       "\n",
       "    .dataframe thead th {\n",
       "        text-align: right;\n",
       "    }\n",
       "</style>\n",
       "<table border=\"1\" class=\"dataframe\">\n",
       "  <thead>\n",
       "    <tr style=\"text-align: right;\">\n",
       "      <th></th>\n",
       "      <th>count</th>\n",
       "    </tr>\n",
       "  </thead>\n",
       "  <tbody>\n",
       "    <tr>\n",
       "      <th>253407</th>\n",
       "      <td>6810</td>\n",
       "    </tr>\n",
       "    <tr>\n",
       "      <th>510500</th>\n",
       "      <td>6689</td>\n",
       "    </tr>\n",
       "    <tr>\n",
       "      <th>425648</th>\n",
       "      <td>6685</td>\n",
       "    </tr>\n",
       "    <tr>\n",
       "      <th>563119</th>\n",
       "      <td>6622</td>\n",
       "    </tr>\n",
       "    <tr>\n",
       "      <th>564789</th>\n",
       "      <td>6622</td>\n",
       "    </tr>\n",
       "  </tbody>\n",
       "</table>\n",
       "</div>"
      ],
      "text/plain": [
       "        count\n",
       "253407   6810\n",
       "510500   6689\n",
       "425648   6685\n",
       "563119   6622\n",
       "564789   6622"
      ]
     },
     "execution_count": 173,
     "metadata": {},
     "output_type": "execute_result"
    }
   ],
   "source": [
    "edge_totals.head()"
   ]
  },
  {
   "cell_type": "markdown",
   "metadata": {},
   "source": [
    "# Histogram of edge count"
   ]
  },
  {
   "cell_type": "code",
   "execution_count": 174,
   "metadata": {},
   "outputs": [
    {
     "data": {
      "image/png": "[encoded data removed]",
      "text/plain": [
       "<Figure size 432x288 with 1 Axes>"
      ]
     },
     "metadata": {
      "needs_background": "light"
     },
     "output_type": "display_data"
    }
   ],
   "source": [
    "edge_totals.hist(column='count', bins=100)\n",
    "plt.xlabel('Vehicle count (volume)')\n",
    "plt.ylabel('# of edges')\n",
    "plt.title('Histogram of vehicle count (volume)')\n",
    "plt.grid(False)"
   ]
  },
  {
   "cell_type": "code",
   "execution_count": 175,
   "metadata": {},
   "outputs": [
    {
     "data": {
      "image/png": "[encoded data removed]",
      "text/plain": [
       "<Figure size 432x288 with 1 Axes>"
      ]
     },
     "metadata": {
      "needs_background": "light"
     },
     "output_type": "display_data"
    }
   ],
   "source": [
    "edge_totals['flow'] = edge_totals['count'] / 7\n",
    "edge_totals.hist(column='flow', range=[0,300], bins=100)\n",
    "plt.xlabel('Average vehicle flow (vehicles per hour)')\n",
    "plt.ylabel('# of edges')\n",
    "plt.title('Histogram of vehicle flow')\n",
    "plt.grid(False)"
   ]
  },
  {
   "cell_type": "markdown",
   "metadata": {},
   "source": [
    "# Get the average speeds of each person"
   ]
  },
  {
   "cell_type": "code",
   "execution_count": 176,
   "metadata": {},
   "outputs": [],
   "source": [
    "#person_data = pd.read_csv(\"newest_point_5/test_point_5_sec_people_time_range_7_hr_run_20.csv\")\n",
    "#person_data = pd.read_csv(\"new_point_5/0_people_1.csv\")\n",
    "#person_data = pd.read_csv(\"0_people_new_test.csv\")\n",
    "#person_data = pd.read_csv(\"0_people.csv\")\n",
    "person_data = pd.read_csv(\"people.csv\")"
   ]
  },
  {
   "cell_type": "code",
   "execution_count": 177,
   "metadata": {},
   "outputs": [
    {
     "data": {
      "text/plain": [
       "792910"
      ]
     },
     "execution_count": 177,
     "metadata": {},
     "output_type": "execute_result"
    }
   ],
   "source": [
    "person_data.shape[0]"
   ]
  },
  {
   "cell_type": "code",
   "execution_count": 178,
   "metadata": {},
   "outputs": [
    {
     "data": {
      "text/html": [
       "<div>\n",
       "<style scoped>\n",
       "    .dataframe tbody tr th:only-of-type {\n",
       "        vertical-align: middle;\n",
       "    }\n",
       "\n",
       "    .dataframe tbody tr th {\n",
       "        vertical-align: top;\n",
       "    }\n",
       "\n",
       "    .dataframe thead th {\n",
       "        text-align: right;\n",
       "    }\n",
       "</style>\n",
       "<table border=\"1\" class=\"dataframe\">\n",
       "  <thead>\n",
       "    <tr style=\"text-align: right;\">\n",
       "      <th></th>\n",
       "      <th>p</th>\n",
       "      <th>init_intersection</th>\n",
       "      <th>end_intersection</th>\n",
       "      <th>time_departure</th>\n",
       "      <th>num_steps</th>\n",
       "      <th>co</th>\n",
       "      <th>gas</th>\n",
       "      <th>distance</th>\n",
       "      <th>a</th>\n",
       "      <th>b</th>\n",
       "      <th>T</th>\n",
       "    </tr>\n",
       "  </thead>\n",
       "  <tbody>\n",
       "    <tr>\n",
       "      <th>0</th>\n",
       "      <td>0</td>\n",
       "      <td>65306804</td>\n",
       "      <td>260193613</td>\n",
       "      <td>30560.8</td>\n",
       "      <td>12639</td>\n",
       "      <td>7401.59</td>\n",
       "      <td>8423.35</td>\n",
       "      <td>2224.840</td>\n",
       "      <td>1.00047</td>\n",
       "      <td>1.79952</td>\n",
       "      <td>1.801530</td>\n",
       "    </tr>\n",
       "    <tr>\n",
       "      <th>1</th>\n",
       "      <td>1</td>\n",
       "      <td>65295278</td>\n",
       "      <td>65373362</td>\n",
       "      <td>29371.8</td>\n",
       "      <td>13828</td>\n",
       "      <td>8102.08</td>\n",
       "      <td>9208.98</td>\n",
       "      <td>253.819</td>\n",
       "      <td>1.22198</td>\n",
       "      <td>1.55240</td>\n",
       "      <td>1.082570</td>\n",
       "    </tr>\n",
       "    <tr>\n",
       "      <th>2</th>\n",
       "      <td>2</td>\n",
       "      <td>65372268</td>\n",
       "      <td>890045132</td>\n",
       "      <td>33505.3</td>\n",
       "      <td>0</td>\n",
       "      <td>0.00</td>\n",
       "      <td>0.00</td>\n",
       "      <td>0.000</td>\n",
       "      <td>1.44350</td>\n",
       "      <td>1.30578</td>\n",
       "      <td>1.564190</td>\n",
       "    </tr>\n",
       "    <tr>\n",
       "      <th>3</th>\n",
       "      <td>3</td>\n",
       "      <td>719116877</td>\n",
       "      <td>65317030</td>\n",
       "      <td>36936.0</td>\n",
       "      <td>0</td>\n",
       "      <td>0.00</td>\n",
       "      <td>0.00</td>\n",
       "      <td>0.000</td>\n",
       "      <td>1.66599</td>\n",
       "      <td>1.05866</td>\n",
       "      <td>0.845222</td>\n",
       "    </tr>\n",
       "    <tr>\n",
       "      <th>4</th>\n",
       "      <td>4</td>\n",
       "      <td>65300085</td>\n",
       "      <td>1723739266</td>\n",
       "      <td>26938.1</td>\n",
       "      <td>16262</td>\n",
       "      <td>9527.01</td>\n",
       "      <td>10835.10</td>\n",
       "      <td>2352.780</td>\n",
       "      <td>1.88750</td>\n",
       "      <td>1.81203</td>\n",
       "      <td>1.326260</td>\n",
       "    </tr>\n",
       "  </tbody>\n",
       "</table>\n",
       "</div>"
      ],
      "text/plain": [
       "   p  init_intersection  end_intersection  time_departure  num_steps       co  \\\n",
       "0  0           65306804         260193613         30560.8      12639  7401.59   \n",
       "1  1           65295278          65373362         29371.8      13828  8102.08   \n",
       "2  2           65372268         890045132         33505.3          0     0.00   \n",
       "3  3          719116877          65317030         36936.0          0     0.00   \n",
       "4  4           65300085        1723739266         26938.1      16262  9527.01   \n",
       "\n",
       "        gas  distance        a        b         T  \n",
       "0   8423.35  2224.840  1.00047  1.79952  1.801530  \n",
       "1   9208.98   253.819  1.22198  1.55240  1.082570  \n",
       "2      0.00     0.000  1.44350  1.30578  1.564190  \n",
       "3      0.00     0.000  1.66599  1.05866  0.845222  \n",
       "4  10835.10  2352.780  1.88750  1.81203  1.326260  "
      ]
     },
     "execution_count": 178,
     "metadata": {},
     "output_type": "execute_result"
    }
   ],
   "source": [
    "person_data.head()"
   ]
  },
  {
   "cell_type": "markdown",
   "metadata": {},
   "source": [
    "# Remove trips that did not have paths / no distances"
   ]
  },
  {
   "cell_type": "code",
   "execution_count": 179,
   "metadata": {},
   "outputs": [],
   "source": [
    "person_data = person_data[person_data.num_steps != 0]\n",
    "#person_data = person_data[person_data.distance != 0]\n",
    "#person_data = person_data.dropna()"
   ]
  },
  {
   "cell_type": "code",
   "execution_count": 180,
   "metadata": {},
   "outputs": [
    {
     "data": {
      "text/plain": [
       "679205"
      ]
     },
     "execution_count": 180,
     "metadata": {},
     "output_type": "execute_result"
    }
   ],
   "source": [
    "person_data.shape[0]"
   ]
  },
  {
   "cell_type": "code",
   "execution_count": 181,
   "metadata": {},
   "outputs": [
    {
     "data": {
      "text/html": [
       "<div>\n",
       "<style scoped>\n",
       "    .dataframe tbody tr th:only-of-type {\n",
       "        vertical-align: middle;\n",
       "    }\n",
       "\n",
       "    .dataframe tbody tr th {\n",
       "        vertical-align: top;\n",
       "    }\n",
       "\n",
       "    .dataframe thead th {\n",
       "        text-align: right;\n",
       "    }\n",
       "</style>\n",
       "<table border=\"1\" class=\"dataframe\">\n",
       "  <thead>\n",
       "    <tr style=\"text-align: right;\">\n",
       "      <th></th>\n",
       "      <th>p</th>\n",
       "      <th>init_intersection</th>\n",
       "      <th>end_intersection</th>\n",
       "      <th>time_departure</th>\n",
       "      <th>num_steps</th>\n",
       "      <th>co</th>\n",
       "      <th>gas</th>\n",
       "      <th>distance</th>\n",
       "      <th>a</th>\n",
       "      <th>b</th>\n",
       "      <th>T</th>\n",
       "    </tr>\n",
       "  </thead>\n",
       "  <tbody>\n",
       "    <tr>\n",
       "      <th>792904</th>\n",
       "      <td>792904</td>\n",
       "      <td>110421225</td>\n",
       "      <td>110436042</td>\n",
       "      <td>28438.6</td>\n",
       "      <td>14761</td>\n",
       "      <td>8648.76</td>\n",
       "      <td>9830.37</td>\n",
       "      <td>66256.90</td>\n",
       "      <td>1.31782</td>\n",
       "      <td>1.92846</td>\n",
       "      <td>1.85291</td>\n",
       "    </tr>\n",
       "    <tr>\n",
       "      <th>792905</th>\n",
       "      <td>792905</td>\n",
       "      <td>407087343</td>\n",
       "      <td>407087343</td>\n",
       "      <td>24661.7</td>\n",
       "      <td>18538</td>\n",
       "      <td>10841.50</td>\n",
       "      <td>12501.20</td>\n",
       "      <td>87803.30</td>\n",
       "      <td>1.53982</td>\n",
       "      <td>1.68183</td>\n",
       "      <td>1.13394</td>\n",
       "    </tr>\n",
       "    <tr>\n",
       "      <th>792906</th>\n",
       "      <td>792906</td>\n",
       "      <td>110423292</td>\n",
       "      <td>110402374</td>\n",
       "      <td>31186.6</td>\n",
       "      <td>12013</td>\n",
       "      <td>7038.60</td>\n",
       "      <td>8000.16</td>\n",
       "      <td>49811.20</td>\n",
       "      <td>1.76134</td>\n",
       "      <td>1.43472</td>\n",
       "      <td>1.61498</td>\n",
       "    </tr>\n",
       "    <tr>\n",
       "      <th>792907</th>\n",
       "      <td>792907</td>\n",
       "      <td>110392661</td>\n",
       "      <td>240481105</td>\n",
       "      <td>36344.3</td>\n",
       "      <td>6856</td>\n",
       "      <td>4014.93</td>\n",
       "      <td>4578.94</td>\n",
       "      <td>85851.00</td>\n",
       "      <td>1.98334</td>\n",
       "      <td>1.18760</td>\n",
       "      <td>0.89660</td>\n",
       "    </tr>\n",
       "    <tr>\n",
       "      <th>792909</th>\n",
       "      <td>792909</td>\n",
       "      <td>110406792</td>\n",
       "      <td>110421013</td>\n",
       "      <td>18751.0</td>\n",
       "      <td>24449</td>\n",
       "      <td>14322.60</td>\n",
       "      <td>16289.10</td>\n",
       "      <td>1734.65</td>\n",
       "      <td>1.42685</td>\n",
       "      <td>1.69386</td>\n",
       "      <td>1.85867</td>\n",
       "    </tr>\n",
       "  </tbody>\n",
       "</table>\n",
       "</div>"
      ],
      "text/plain": [
       "             p  init_intersection  end_intersection  time_departure  \\\n",
       "792904  792904          110421225         110436042         28438.6   \n",
       "792905  792905          407087343         407087343         24661.7   \n",
       "792906  792906          110423292         110402374         31186.6   \n",
       "792907  792907          110392661         240481105         36344.3   \n",
       "792909  792909          110406792         110421013         18751.0   \n",
       "\n",
       "        num_steps        co       gas  distance        a        b        T  \n",
       "792904      14761   8648.76   9830.37  66256.90  1.31782  1.92846  1.85291  \n",
       "792905      18538  10841.50  12501.20  87803.30  1.53982  1.68183  1.13394  \n",
       "792906      12013   7038.60   8000.16  49811.20  1.76134  1.43472  1.61498  \n",
       "792907       6856   4014.93   4578.94  85851.00  1.98334  1.18760  0.89660  \n",
       "792909      24449  14322.60  16289.10   1734.65  1.42685  1.69386  1.85867  "
      ]
     },
     "execution_count": 181,
     "metadata": {},
     "output_type": "execute_result"
    }
   ],
   "source": [
    "person_data.tail()"
   ]
  },
  {
   "cell_type": "markdown",
   "metadata": {},
   "source": [
    "# Histogram of num steps per traveler"
   ]
  },
  {
   "cell_type": "code",
   "execution_count": 182,
   "metadata": {},
   "outputs": [],
   "source": [
    "person_data['num_steps'] = person_data['num_steps'] / 60 #convert to minutes from seconds"
   ]
  },
  {
   "cell_type": "code",
   "execution_count": 183,
   "metadata": {},
   "outputs": [
    {
     "data": {
      "text/html": [
       "<div>\n",
       "<style scoped>\n",
       "    .dataframe tbody tr th:only-of-type {\n",
       "        vertical-align: middle;\n",
       "    }\n",
       "\n",
       "    .dataframe tbody tr th {\n",
       "        vertical-align: top;\n",
       "    }\n",
       "\n",
       "    .dataframe thead th {\n",
       "        text-align: right;\n",
       "    }\n",
       "</style>\n",
       "<table border=\"1\" class=\"dataframe\">\n",
       "  <thead>\n",
       "    <tr style=\"text-align: right;\">\n",
       "      <th></th>\n",
       "      <th>p</th>\n",
       "      <th>init_intersection</th>\n",
       "      <th>end_intersection</th>\n",
       "      <th>time_departure</th>\n",
       "      <th>num_steps</th>\n",
       "      <th>co</th>\n",
       "      <th>gas</th>\n",
       "      <th>distance</th>\n",
       "      <th>a</th>\n",
       "      <th>b</th>\n",
       "      <th>T</th>\n",
       "    </tr>\n",
       "  </thead>\n",
       "  <tbody>\n",
       "    <tr>\n",
       "      <th>0</th>\n",
       "      <td>0</td>\n",
       "      <td>65306804</td>\n",
       "      <td>260193613</td>\n",
       "      <td>30560.8</td>\n",
       "      <td>210.650000</td>\n",
       "      <td>7401.59</td>\n",
       "      <td>8423.35</td>\n",
       "      <td>2224.840</td>\n",
       "      <td>1.00047</td>\n",
       "      <td>1.79952</td>\n",
       "      <td>1.801530</td>\n",
       "    </tr>\n",
       "    <tr>\n",
       "      <th>1</th>\n",
       "      <td>1</td>\n",
       "      <td>65295278</td>\n",
       "      <td>65373362</td>\n",
       "      <td>29371.8</td>\n",
       "      <td>230.466667</td>\n",
       "      <td>8102.08</td>\n",
       "      <td>9208.98</td>\n",
       "      <td>253.819</td>\n",
       "      <td>1.22198</td>\n",
       "      <td>1.55240</td>\n",
       "      <td>1.082570</td>\n",
       "    </tr>\n",
       "    <tr>\n",
       "      <th>4</th>\n",
       "      <td>4</td>\n",
       "      <td>65300085</td>\n",
       "      <td>1723739266</td>\n",
       "      <td>26938.1</td>\n",
       "      <td>271.033333</td>\n",
       "      <td>9527.01</td>\n",
       "      <td>10835.10</td>\n",
       "      <td>2352.780</td>\n",
       "      <td>1.88750</td>\n",
       "      <td>1.81203</td>\n",
       "      <td>1.326260</td>\n",
       "    </tr>\n",
       "    <tr>\n",
       "      <th>8</th>\n",
       "      <td>8</td>\n",
       "      <td>65324849</td>\n",
       "      <td>1723739359</td>\n",
       "      <td>36192.7</td>\n",
       "      <td>116.783333</td>\n",
       "      <td>4103.11</td>\n",
       "      <td>4673.81</td>\n",
       "      <td>802.873</td>\n",
       "      <td>1.77453</td>\n",
       "      <td>1.82504</td>\n",
       "      <td>0.850984</td>\n",
       "    </tr>\n",
       "    <tr>\n",
       "      <th>9</th>\n",
       "      <td>9</td>\n",
       "      <td>1723739241</td>\n",
       "      <td>65352417</td>\n",
       "      <td>35589.3</td>\n",
       "      <td>126.850000</td>\n",
       "      <td>4458.49</td>\n",
       "      <td>5075.98</td>\n",
       "      <td>839.037</td>\n",
       "      <td>1.99653</td>\n",
       "      <td>1.57792</td>\n",
       "      <td>1.333190</td>\n",
       "    </tr>\n",
       "  </tbody>\n",
       "</table>\n",
       "</div>"
      ],
      "text/plain": [
       "   p  init_intersection  end_intersection  time_departure   num_steps  \\\n",
       "0  0           65306804         260193613         30560.8  210.650000   \n",
       "1  1           65295278          65373362         29371.8  230.466667   \n",
       "4  4           65300085        1723739266         26938.1  271.033333   \n",
       "8  8           65324849        1723739359         36192.7  116.783333   \n",
       "9  9         1723739241          65352417         35589.3  126.850000   \n",
       "\n",
       "        co       gas  distance        a        b         T  \n",
       "0  7401.59   8423.35  2224.840  1.00047  1.79952  1.801530  \n",
       "1  8102.08   9208.98   253.819  1.22198  1.55240  1.082570  \n",
       "4  9527.01  10835.10  2352.780  1.88750  1.81203  1.326260  \n",
       "8  4103.11   4673.81   802.873  1.77453  1.82504  0.850984  \n",
       "9  4458.49   5075.98   839.037  1.99653  1.57792  1.333190  "
      ]
     },
     "execution_count": 183,
     "metadata": {},
     "output_type": "execute_result"
    }
   ],
   "source": [
    "person_data.head()"
   ]
  },
  {
   "cell_type": "code",
   "execution_count": 184,
   "metadata": {},
   "outputs": [
    {
     "data": {
      "image/png": "[encoded data removed]",
      "text/plain": [
       "<Figure size 432x288 with 1 Axes>"
      ]
     },
     "metadata": {
      "needs_background": "light"
     },
     "output_type": "display_data"
    }
   ],
   "source": [
    "person_data.hist(column='num_steps', bins=20)\n",
    "plt.xlabel('Travel time (minutes)')\n",
    "plt.ylabel('# of trips')\n",
    "plt.title('Histogram of trip times')\n",
    "plt.grid(False)\n",
    "\n",
    "\n"
   ]
  },
  {
   "cell_type": "code",
   "execution_count": 185,
   "metadata": {},
   "outputs": [
    {
     "data": {
      "text/plain": [
       "420.0"
      ]
     },
     "execution_count": 185,
     "metadata": {},
     "output_type": "execute_result"
    }
   ],
   "source": [
    "max(person_data['num_steps'])"
   ]
  },
  {
   "cell_type": "code",
   "execution_count": 186,
   "metadata": {},
   "outputs": [
    {
     "data": {
      "text/plain": [
       "263.38980626860325"
      ]
     },
     "execution_count": 186,
     "metadata": {},
     "output_type": "execute_result"
    }
   ],
   "source": [
    "np.mean(person_data['num_steps'])"
   ]
  },
  {
   "cell_type": "code",
   "execution_count": 187,
   "metadata": {},
   "outputs": [
    {
     "data": {
      "text/plain": [
       "266.56666666666666"
      ]
     },
     "execution_count": 187,
     "metadata": {},
     "output_type": "execute_result"
    }
   ],
   "source": [
    "np.median(person_data['num_steps'])"
   ]
  },
  {
   "cell_type": "code",
   "execution_count": 188,
   "metadata": {},
   "outputs": [
    {
     "data": {
      "text/plain": [
       "79.68788434723618"
      ]
     },
     "execution_count": 188,
     "metadata": {},
     "output_type": "execute_result"
    }
   ],
   "source": [
    "np.std(person_data['num_steps'])"
   ]
  },
  {
   "cell_type": "markdown",
   "metadata": {},
   "source": [
    "# Histogram of distance traveled"
   ]
  },
  {
   "cell_type": "code",
   "execution_count": 189,
   "metadata": {},
   "outputs": [
    {
     "data": {
      "image/png": "[encoded data removed]",
      "text/plain": [
       "<Figure size 432x288 with 1 Axes>"
      ]
     },
     "metadata": {
      "needs_background": "light"
     },
     "output_type": "display_data"
    }
   ],
   "source": [
    "person_data['distance'] = person_data['distance'] / 1000\n",
    "person_data.hist(column='distance', bins=30)\n",
    "plt.xlabel('Distance (km)')\n",
    "plt.ylabel('# of trips')\n",
    "plt.title('Histogram of trip distances')\n",
    "plt.grid(False)"
   ]
  },
  {
   "cell_type": "code",
   "execution_count": 141,
   "metadata": {},
   "outputs": [
    {
     "data": {
      "text/plain": [
       "183.369"
      ]
     },
     "execution_count": 141,
     "metadata": {},
     "output_type": "execute_result"
    }
   ],
   "source": [
    "max(person_data['distance'])"
   ]
  },
  {
   "cell_type": "code",
   "execution_count": 142,
   "metadata": {},
   "outputs": [
    {
     "data": {
      "text/plain": [
       "10.347197747564818"
      ]
     },
     "execution_count": 142,
     "metadata": {},
     "output_type": "execute_result"
    }
   ],
   "source": [
    "np.mean(person_data['distance'])"
   ]
  },
  {
   "cell_type": "markdown",
   "metadata": {},
   "source": [
    "# Histogram of gas consumed"
   ]
  },
  {
   "cell_type": "code",
   "execution_count": 143,
   "metadata": {},
   "outputs": [
    {
     "data": {
      "text/plain": [
       "array([[<matplotlib.axes._subplots.AxesSubplot object at 0x13e8894a8>]],\n",
       "      dtype=object)"
      ]
     },
     "execution_count": 143,
     "metadata": {},
     "output_type": "execute_result"
    },
    {
     "data": {
      "image/png": "[encoded data removed]",
      "text/plain": [
       "<Figure size 432x288 with 1 Axes>"
      ]
     },
     "metadata": {
      "needs_background": "light"
     },
     "output_type": "display_data"
    }
   ],
   "source": [
    "person_data.hist(column='gas', bins=25)"
   ]
  },
  {
   "cell_type": "markdown",
   "metadata": {},
   "source": [
    "# Histogram of CO^2 emitted"
   ]
  },
  {
   "cell_type": "code",
   "execution_count": 144,
   "metadata": {},
   "outputs": [
    {
     "data": {
      "text/plain": [
       "array([[<matplotlib.axes._subplots.AxesSubplot object at 0x173a622b0>]],\n",
       "      dtype=object)"
      ]
     },
     "execution_count": 144,
     "metadata": {},
     "output_type": "execute_result"
    },
    {
     "data": {
      "image/png": "[encoded data removed]",
      "text/plain": [
       "<Figure size 432x288 with 1 Axes>"
      ]
     },
     "metadata": {
      "needs_background": "light"
     },
     "output_type": "display_data"
    }
   ],
   "source": [
    "person_data.hist(column='co', bins=50)"
   ]
  },
  {
   "cell_type": "markdown",
   "metadata": {},
   "source": [
    "# Histogram of departure times"
   ]
  },
  {
   "cell_type": "code",
   "execution_count": 145,
   "metadata": {},
   "outputs": [
    {
     "data": {
      "image/png": "[encoded data removed]",
      "text/plain": [
       "<Figure size 432x288 with 1 Axes>"
      ]
     },
     "metadata": {
      "needs_background": "light"
     },
     "output_type": "display_data"
    }
   ],
   "source": [
    "person_data['time_departure'] = person_data['time_departure'] / 3600\n",
    "person_data.hist(column='time_departure', bins=50)\n",
    "plt.xlabel('Time of departure (Hour [AM])')\n",
    "plt.ylabel('# of trips')\n",
    "plt.title('Histogram of departure times')\n",
    "plt.grid(False)"
   ]
  },
  {
   "cell_type": "markdown",
   "metadata": {},
   "source": [
    "# Histogram of average velocity"
   ]
  },
  {
   "cell_type": "code",
   "execution_count": 147,
   "metadata": {},
   "outputs": [
    {
     "data": {
      "image/png": "[encoded data removed]",
      "text/plain": [
       "<Figure size 432x288 with 1 Axes>"
      ]
     },
     "metadata": {
      "needs_background": "light"
     },
     "output_type": "display_data"
    }
   ],
   "source": [
    "person_data['avg_v_real_mph'] = person_data['avg_v(mph)'] * 3600 / 1609.34\n",
    "person_data.hist(column='avg_v(mph)', bins=75)\n",
    "plt.xlabel('Average velocity (mph)')\n",
    "plt.ylabel('# of travelers')\n",
    "plt.title('Histogram of average velocity')\n",
    "plt.grid(False)"
   ]
  },
  {
   "cell_type": "code",
   "execution_count": 148,
   "metadata": {},
   "outputs": [],
   "source": [
    "avg_vel = person_data['avg_v(mph)']"
   ]
  },
  {
   "cell_type": "code",
   "execution_count": 149,
   "metadata": {},
   "outputs": [
    {
     "data": {
      "text/plain": [
       "124.74700000000001"
      ]
     },
     "execution_count": 149,
     "metadata": {},
     "output_type": "execute_result"
    }
   ],
   "source": [
    "max(avg_vel)"
   ]
  },
  {
   "cell_type": "code",
   "execution_count": 150,
   "metadata": {},
   "outputs": [
    {
     "data": {
      "text/plain": [
       "0.0"
      ]
     },
     "execution_count": 150,
     "metadata": {},
     "output_type": "execute_result"
    }
   ],
   "source": [
    "min(avg_vel)"
   ]
  },
  {
   "cell_type": "code",
   "execution_count": 151,
   "metadata": {},
   "outputs": [
    {
     "data": {
      "text/plain": [
       "18.914983165090213"
      ]
     },
     "execution_count": 151,
     "metadata": {},
     "output_type": "execute_result"
    }
   ],
   "source": [
    "np.mean(avg_vel)"
   ]
  },
  {
   "cell_type": "code",
   "execution_count": 152,
   "metadata": {},
   "outputs": [
    {
     "data": {
      "text/plain": [
       "13    20.3077\n",
       "Name: avg_v(mph), dtype: float64"
      ]
     },
     "execution_count": 152,
     "metadata": {},
     "output_type": "execute_result"
    }
   ],
   "source": [
    "person_data[person_data['p']==13]['avg_v(mph)']"
   ]
  },
  {
   "cell_type": "markdown",
   "metadata": {},
   "source": [
    "# Plot histogram of number of time steps for all travelers"
   ]
  },
  {
   "cell_type": "code",
   "execution_count": 266,
   "metadata": {},
   "outputs": [
    {
     "name": "stdout",
     "output_type": "stream",
     "text": [
      "RUN 0\n",
      "\n",
      "2411514921\n",
      "RUN 1\n",
      "\n",
      "2479333617\n",
      "RUN 2\n",
      "\n",
      "2426797164\n",
      "RUN 3\n",
      "\n",
      "2386481853\n",
      "RUN 4\n",
      "\n",
      "2466999725\n",
      "RUN 5\n",
      "\n",
      "2477884827\n",
      "RUN 6\n",
      "\n",
      "2474595473\n",
      "RUN 7\n",
      "\n",
      "2474031319\n",
      "RUN 8\n",
      "\n",
      "2487242932\n",
      "RUN 9\n",
      "\n",
      "2469348107\n",
      "RUN 10\n",
      "\n",
      "2436311918\n",
      "RUN 11\n",
      "\n",
      "2461503284\n",
      "RUN 12\n",
      "\n",
      "2488911697\n",
      "RUN 13\n",
      "\n",
      "2438698585\n",
      "RUN 14\n",
      "\n",
      "2443111526\n",
      "RUN 15\n",
      "\n",
      "2465558619\n",
      "RUN 16\n",
      "\n",
      "2448208756\n",
      "RUN 17\n",
      "\n",
      "2448111524\n",
      "RUN 18\n",
      "\n",
      "2481956186\n",
      "RUN 19\n",
      "\n",
      "2433174902\n",
      "RUN 20\n",
      "\n",
      "2428922674\n",
      "RUN 21\n",
      "\n",
      "2443197512\n",
      "RUN 22\n",
      "\n",
      "2413586921\n",
      "RUN 23\n",
      "\n",
      "2449567676\n",
      "RUN 24\n",
      "\n",
      "2489336444\n",
      "RUN 25\n",
      "\n",
      "2480755458\n",
      "RUN 26\n",
      "\n",
      "2403042733\n",
      "RUN 27\n",
      "\n",
      "2466829559\n",
      "RUN 28\n",
      "\n",
      "2397758295\n",
      "RUN 29\n",
      "\n",
      "2420030289\n",
      "RUN 30\n",
      "\n",
      "2444710530\n",
      "RUN 31\n",
      "\n",
      "2471698152\n",
      "RUN 32\n",
      "\n",
      "2428815414\n",
      "RUN 33\n",
      "\n",
      "2459744469\n",
      "RUN 34\n",
      "\n",
      "2437597055\n",
      "RUN 35\n",
      "\n",
      "2431559054\n",
      "RUN 36\n",
      "\n",
      "2455328087\n",
      "RUN 37\n",
      "\n",
      "2434280103\n",
      "RUN 38\n",
      "\n",
      "2380099846\n",
      "RUN 39\n",
      "\n",
      "2522119072\n",
      "RUN 40\n",
      "\n",
      "2465426998\n",
      "RUN 41\n",
      "\n",
      "2403271913\n",
      "RUN 42\n",
      "\n",
      "2441867651\n",
      "RUN 43\n",
      "\n",
      "2460274883\n",
      "RUN 44\n",
      "\n",
      "2431707600\n",
      "RUN 45\n",
      "\n",
      "2456233355\n",
      "RUN 46\n",
      "\n",
      "2468056555\n",
      "RUN 47\n",
      "\n",
      "2486934252\n",
      "RUN 48\n",
      "\n",
      "2440668402\n",
      "RUN 49\n",
      "\n",
      "2453960652\n",
      "RUN 50\n",
      "\n",
      "2458052461\n",
      "RUN 51\n",
      "\n",
      "2444377693\n",
      "RUN 52\n",
      "\n",
      "2427671423\n",
      "RUN 53\n",
      "\n",
      "2503226633\n",
      "RUN 54\n",
      "\n",
      "2463647847\n",
      "RUN 55\n",
      "\n",
      "2454159224\n",
      "RUN 56\n",
      "\n",
      "2515244826\n",
      "RUN 57\n",
      "\n",
      "2463171948\n",
      "RUN 58\n",
      "\n",
      "2451877274\n",
      "RUN 59\n",
      "\n",
      "2456063285\n",
      "RUN 60\n",
      "\n",
      "2497306159\n",
      "RUN 61\n",
      "\n",
      "2416304429\n",
      "RUN 62\n",
      "\n",
      "2437916201\n",
      "RUN 63\n",
      "\n",
      "2468370376\n",
      "RUN 64\n",
      "\n",
      "2443285738\n",
      "RUN 65\n",
      "\n",
      "2419056450\n",
      "RUN 66\n",
      "\n",
      "2479790706\n",
      "RUN 67\n",
      "\n",
      "2440992974\n",
      "RUN 68\n",
      "\n",
      "2440162113\n",
      "RUN 69\n",
      "\n",
      "2424867733\n",
      "RUN 70\n",
      "\n",
      "2382928850\n",
      "RUN 71\n",
      "\n",
      "2383286185\n",
      "RUN 72\n",
      "\n",
      "2457822955\n",
      "RUN 73\n",
      "\n",
      "2455217468\n",
      "RUN 74\n",
      "\n",
      "2463379002\n",
      "RUN 75\n",
      "\n",
      "2480007935\n",
      "RUN 76\n",
      "\n",
      "2488326864\n",
      "RUN 77\n",
      "\n",
      "2428670418\n",
      "RUN 78\n",
      "\n",
      "2458230467\n",
      "RUN 79\n",
      "\n",
      "2418379180\n",
      "RUN 80\n",
      "\n",
      "2436625508\n",
      "RUN 81\n",
      "\n",
      "2460348357\n",
      "RUN 82\n",
      "\n",
      "2453768357\n",
      "RUN 83\n",
      "\n",
      "2412796148\n",
      "RUN 84\n",
      "\n",
      "2467060062\n",
      "RUN 85\n",
      "\n",
      "2392288109\n",
      "RUN 86\n",
      "\n",
      "2467635640\n",
      "RUN 87\n",
      "\n",
      "2437403394\n",
      "RUN 88\n",
      "\n",
      "2408688304\n",
      "RUN 89\n",
      "\n",
      "2423914675\n",
      "RUN 90\n",
      "\n",
      "2455351615\n",
      "RUN 91\n",
      "\n",
      "2478261974\n",
      "RUN 92\n",
      "\n",
      "2461029382\n",
      "RUN 93\n",
      "\n",
      "2490712042\n",
      "RUN 94\n",
      "\n",
      "2441853677\n",
      "RUN 95\n",
      "\n",
      "2423715773\n",
      "RUN 96\n",
      "\n",
      "2429265091\n",
      "RUN 97\n",
      "\n",
      "2444309363\n",
      "RUN 98\n",
      "\n",
      "2475357988\n",
      "RUN 99\n",
      "\n",
      "2436784250\n"
     ]
    }
   ],
   "source": [
    "output_list = []\n",
    "\n",
    "num_steps_list = []\n",
    "for run in range(100):\n",
    "    try:\n",
    "    #with open('new_point_5/test_point_5_sec_output_run_{}.csv'.format(run), 'r') as reader:\n",
    "        with open('newest_point_5/test_point_5_sec_num_steps_time_range_7_hr_run_{}.csv'.format(run), 'r') as reader:\n",
    "    # Read & print the entire file\n",
    "            print(\"RUN {}\\n\".format(run))\n",
    "            try:\n",
    "                #num_steps = int(reader.read().split(\"num steps\")[1].split(\"Avg\")[0]) #from the actual printed output\n",
    "                num_steps = int(reader.read()) #from num_steps.txt\n",
    "                print(num_steps)\n",
    "                num_steps_list += [num_steps,]\n",
    "            except:\n",
    "                print(\"Couldn't parse run {}\".format(run))\n",
    "    except:\n",
    "        print(\"Couldn't open file of run {}\".format(run))"
   ]
  },
  {
   "cell_type": "code",
   "execution_count": 276,
   "metadata": {},
   "outputs": [
    {
     "data": {
      "text/plain": [
       "680239.2307361113"
      ]
     },
     "execution_count": 276,
     "metadata": {},
     "output_type": "execute_result"
    }
   ],
   "source": [
    "#num_steps_array = np.array(num_steps_list) / 3600\n",
    "np.mean(num_steps_array)"
   ]
  },
  {
   "cell_type": "code",
   "execution_count": 268,
   "metadata": {},
   "outputs": [
    {
     "data": {
      "text/plain": [
       "0.057993986846818585"
      ]
     },
     "execution_count": 268,
     "metadata": {},
     "output_type": "execute_result"
    }
   ],
   "source": [
    "(max(num_steps_array) - min(num_steps_array)) / np.mean(num_steps_array)"
   ]
  },
  {
   "cell_type": "code",
   "execution_count": 269,
   "metadata": {},
   "outputs": [
    {
     "data": {
      "text/plain": [
       "39449.78500000003"
      ]
     },
     "execution_count": 269,
     "metadata": {},
     "output_type": "execute_result"
    }
   ],
   "source": [
    "(max(num_steps_array) - min(num_steps_array))"
   ]
  },
  {
   "cell_type": "code",
   "execution_count": 277,
   "metadata": {},
   "outputs": [
    {
     "data": {
      "text/plain": [
       "7955.093109020472"
      ]
     },
     "execution_count": 277,
     "metadata": {},
     "output_type": "execute_result"
    }
   ],
   "source": [
    "np.std(num_steps_array)"
   ]
  },
  {
   "cell_type": "code",
   "execution_count": 270,
   "metadata": {},
   "outputs": [
    {
     "data": {
      "text/plain": [
       "Text(0, 0.5, 'Number of runs')"
      ]
     },
     "execution_count": 270,
     "metadata": {},
     "output_type": "execute_result"
    },
    {
     "data": {
      "image/png": "[encoded data removed]",
      "text/plain": [
       "<Figure size 432x288 with 1 Axes>"
      ]
     },
     "metadata": {
      "needs_background": "light"
     },
     "output_type": "display_data"
    }
   ],
   "source": [
    "plt.hist(num_steps_array, bins=10)\n",
    "plt.title(\"Histogram of total system travel time vs. number of runs\")\n",
    "plt.xlabel(\"Total system travel time (in hours)\")\n",
    "plt.ylabel(\"Number of runs\")"
   ]
  },
  {
   "cell_type": "code",
   "execution_count": 271,
   "metadata": {},
   "outputs": [
    {
     "data": {
      "text/plain": [
       "[<matplotlib.lines.Line2D at 0x14aa2b898>]"
      ]
     },
     "execution_count": 271,
     "metadata": {},
     "output_type": "execute_result"
    },
    {
     "data": {
      "image/png": "[encoded data removed]",
      "text/plain": [
       "<Figure size 432x288 with 1 Axes>"
      ]
     },
     "metadata": {
      "needs_background": "light"
     },
     "output_type": "display_data"
    }
   ],
   "source": [
    "sorted_num_steps = np.sort(num_steps_array)\n",
    "normalized_num_steps = sorted_num_steps / max(sorted_num_steps)\n",
    "plt.plot(normalized_num_steps)"
   ]
  },
  {
   "cell_type": "markdown",
   "metadata": {},
   "source": [
    "# Look at all paths list and make sure the count of -1s is 792910"
   ]
  },
  {
   "cell_type": "code",
   "execution_count": 13,
   "metadata": {},
   "outputs": [],
   "source": [
    "all_paths = pd.read_csv('all_paths_incl_zeros.txt', sep=\" \", header=None)"
   ]
  },
  {
   "cell_type": "code",
   "execution_count": 14,
   "metadata": {},
   "outputs": [
    {
     "data": {
      "text/html": [
       "<div>\n",
       "<style scoped>\n",
       "    .dataframe tbody tr th:only-of-type {\n",
       "        vertical-align: middle;\n",
       "    }\n",
       "\n",
       "    .dataframe tbody tr th {\n",
       "        vertical-align: top;\n",
       "    }\n",
       "\n",
       "    .dataframe thead th {\n",
       "        text-align: right;\n",
       "    }\n",
       "</style>\n",
       "<table border=\"1\" class=\"dataframe\">\n",
       "  <thead>\n",
       "    <tr style=\"text-align: right;\">\n",
       "      <th></th>\n",
       "      <th>0</th>\n",
       "    </tr>\n",
       "  </thead>\n",
       "  <tbody>\n",
       "    <tr>\n",
       "      <th>0</th>\n",
       "      <td>-1</td>\n",
       "    </tr>\n",
       "    <tr>\n",
       "      <th>1</th>\n",
       "      <td>161950</td>\n",
       "    </tr>\n",
       "    <tr>\n",
       "      <th>2</th>\n",
       "      <td>403870</td>\n",
       "    </tr>\n",
       "    <tr>\n",
       "      <th>3</th>\n",
       "      <td>161959</td>\n",
       "    </tr>\n",
       "    <tr>\n",
       "      <th>4</th>\n",
       "      <td>161961</td>\n",
       "    </tr>\n",
       "  </tbody>\n",
       "</table>\n",
       "</div>"
      ],
      "text/plain": [
       "        0\n",
       "0      -1\n",
       "1  161950\n",
       "2  403870\n",
       "3  161959\n",
       "4  161961"
      ]
     },
     "execution_count": 14,
     "metadata": {},
     "output_type": "execute_result"
    }
   ],
   "source": [
    "all_paths.head()"
   ]
  },
  {
   "cell_type": "code",
   "execution_count": 15,
   "metadata": {},
   "outputs": [
    {
     "data": {
      "text/plain": [
       "-1         792910\n",
       " 160384      6810\n",
       " 19539       6689\n",
       " 403917      6685\n",
       " 163179      6622\n",
       "            ...  \n",
       " 275200         1\n",
       " 123324         1\n",
       " 209889         1\n",
       " 334714         1\n",
       " 323798         1\n",
       "Name: 0, Length: 188301, dtype: int64"
      ]
     },
     "execution_count": 15,
     "metadata": {},
     "output_type": "execute_result"
    }
   ],
   "source": [
    "all_paths[0].value_counts()"
   ]
  },
  {
   "cell_type": "markdown",
   "metadata": {},
   "source": [
    "# Compare num_steps across timesteps"
   ]
  },
  {
   "cell_type": "code",
   "execution_count": 2,
   "metadata": {},
   "outputs": [
    {
     "name": "stdout",
     "output_type": "stream",
     "text": [
      "479820441\n",
      "169747437\n",
      "112588051\n",
      "122596219\n",
      "20238877\n",
      "11200718\n",
      "48409741\n",
      "42219077\n",
      "7733363\n",
      "4279345627\n",
      "4259760115\n",
      "865597755\n",
      "409052696\n"
     ]
    }
   ],
   "source": [
    "time_steps = ['point_1', 'point_2', 'point_3', 'point_4', 'point_5', 'point_6', 'point_7', 'point_8', 'point_9', 1, 2, 10, 20] #in seconds\n",
    "num_steps_list = []\n",
    "for step in time_steps:\n",
    "    #with open('new_point_5/test_point_5_sec_output_run_{}.csv'.format(run), 'r') as reader:\n",
    "    with open('num_steps_per_timestep/test_{}_sec_num_steps_run_0.csv'.format(step), 'r') as reader:\n",
    "    # Read & print the entire file\n",
    "        try:\n",
    "            #num_steps = int(reader.read().split(\"num steps\")[1].split(\"Avg\")[0]) #from the actual printed output\n",
    "            num_steps = int(reader.read()) #from num_steps.txt\n",
    "            print(num_steps)\n",
    "            num_steps_list += [num_steps,]\n",
    "        except:\n",
    "            print(\"Couldn't parse run {}\".format(run))\n",
    "\n"
   ]
  },
  {
   "cell_type": "code",
   "execution_count": 3,
   "metadata": {},
   "outputs": [
    {
     "name": "stdout",
     "output_type": "stream",
     "text": [
      "[133283.45583333334, 47152.065833333334, 31274.45861111111, 34054.505277777775, 5621.910277777778, 3111.3105555555558, 13447.150277777779, 11727.521388888888, 2148.156388888889, 1188707.118611111, 1183266.6986111111, 240443.82083333333, 113625.74888888889]\n"
     ]
    },
    {
     "data": {
      "text/plain": [
       "Text(0, 0.5, 'Total system travel time (hours)')"
      ]
     },
     "execution_count": 3,
     "metadata": {},
     "output_type": "execute_result"
    },
    {
     "data": {
      "image/png": "[encoded data removed]",
      "text/plain": [
       "<Figure size 432x288 with 1 Axes>"
      ]
     },
     "metadata": {
      "needs_background": "light"
     },
     "output_type": "display_data"
    }
   ],
   "source": [
    "num_steps_list = [x / 3600 for x in num_steps_list] #in minutes\n",
    "num_steps_list = num_steps_list\n",
    "print(num_steps_list)\n",
    "\n",
    "time_steps = [.1, .2, .3, .4, .5, .6, .7, .8, .9, 1, 2, 10, 20] #in seconds\n",
    "plt.plot(time_steps, num_steps_list, label='Simulation')\n",
    "plt.title('Simulation timestep vs. Total system travel time')\n",
    "plt.xlabel(\"Time step (seconds)\")\n",
    "plt.ylabel(\"Total system travel time (hours)\")"
   ]
  },
  {
   "cell_type": "markdown",
   "metadata": {},
   "source": [
    "# Compare to CHTS trips data"
   ]
  },
  {
   "cell_type": "code",
   "execution_count": 196,
   "metadata": {},
   "outputs": [],
   "source": [
    "households = pd.read_csv(\"caltrans_full_survey/survey_households.csv\", low_memory=False)\n",
    "households_ba = households[households.home_county_id.isin([1, 13, 41, 55, 75, 81, 85, 95, 97])]\n"
   ]
  },
  {
   "cell_type": "code",
   "execution_count": 278,
   "metadata": {},
   "outputs": [
    {
     "data": {
      "text/html": [
       "<div>\n",
       "<style scoped>\n",
       "    .dataframe tbody tr th:only-of-type {\n",
       "        vertical-align: middle;\n",
       "    }\n",
       "\n",
       "    .dataframe tbody tr th {\n",
       "        vertical-align: top;\n",
       "    }\n",
       "\n",
       "    .dataframe thead th {\n",
       "        text-align: right;\n",
       "    }\n",
       "</style>\n",
       "<table border=\"1\" class=\"dataframe\">\n",
       "  <thead>\n",
       "    <tr style=\"text-align: right;\">\n",
       "      <th></th>\n",
       "      <th>sampno</th>\n",
       "      <th>assn</th>\n",
       "      <th>recruite_date</th>\n",
       "      <th>dow</th>\n",
       "      <th>home_block_id</th>\n",
       "      <th>home_tract_id</th>\n",
       "      <th>home_county_id</th>\n",
       "      <th>home_state_id</th>\n",
       "      <th>home_primarycity</th>\n",
       "      <th>home_city</th>\n",
       "      <th>...</th>\n",
       "      <th>noveh2</th>\n",
       "      <th>noveh3</th>\n",
       "      <th>noveh4</th>\n",
       "      <th>noveh5</th>\n",
       "      <th>noveh6</th>\n",
       "      <th>noveh7</th>\n",
       "      <th>noveh8</th>\n",
       "      <th>hhwgt</th>\n",
       "      <th>exphhwgt</th>\n",
       "      <th>geom</th>\n",
       "    </tr>\n",
       "  </thead>\n",
       "  <tbody>\n",
       "    <tr>\n",
       "      <th>17</th>\n",
       "      <td>2985298</td>\n",
       "      <td>12818.0</td>\n",
       "      <td>2012-11-28</td>\n",
       "      <td>2.0</td>\n",
       "      <td>REDACTED</td>\n",
       "      <td>6.085510e+09</td>\n",
       "      <td>85.0</td>\n",
       "      <td>6.0</td>\n",
       "      <td>MOUNTAIN VIEW</td>\n",
       "      <td>MOUNTAIN VIEW</td>\n",
       "      <td>...</td>\n",
       "      <td>NaN</td>\n",
       "      <td>NaN</td>\n",
       "      <td>NaN</td>\n",
       "      <td>NaN</td>\n",
       "      <td>NaN</td>\n",
       "      <td>NaN</td>\n",
       "      <td>NaN</td>\n",
       "      <td>0.942942</td>\n",
       "      <td>276.301960</td>\n",
       "      <td>REDACTED</td>\n",
       "    </tr>\n",
       "    <tr>\n",
       "      <th>18</th>\n",
       "      <td>2985550</td>\n",
       "      <td>12855.0</td>\n",
       "      <td>2012-12-31</td>\n",
       "      <td>4.0</td>\n",
       "      <td>REDACTED</td>\n",
       "      <td>6.085510e+09</td>\n",
       "      <td>85.0</td>\n",
       "      <td>6.0</td>\n",
       "      <td>MOUNTAIN VIEW</td>\n",
       "      <td>MOUNTAIN VIEW</td>\n",
       "      <td>...</td>\n",
       "      <td>NaN</td>\n",
       "      <td>NaN</td>\n",
       "      <td>NaN</td>\n",
       "      <td>NaN</td>\n",
       "      <td>NaN</td>\n",
       "      <td>NaN</td>\n",
       "      <td>NaN</td>\n",
       "      <td>0.942942</td>\n",
       "      <td>276.301960</td>\n",
       "      <td>REDACTED</td>\n",
       "    </tr>\n",
       "    <tr>\n",
       "      <th>19</th>\n",
       "      <td>2985904</td>\n",
       "      <td>12779.0</td>\n",
       "      <td>2012-10-18</td>\n",
       "      <td>5.0</td>\n",
       "      <td>REDACTED</td>\n",
       "      <td>6.085509e+09</td>\n",
       "      <td>85.0</td>\n",
       "      <td>6.0</td>\n",
       "      <td>SUNNYVALE</td>\n",
       "      <td>SUNNYVALE</td>\n",
       "      <td>...</td>\n",
       "      <td>NaN</td>\n",
       "      <td>NaN</td>\n",
       "      <td>NaN</td>\n",
       "      <td>NaN</td>\n",
       "      <td>NaN</td>\n",
       "      <td>NaN</td>\n",
       "      <td>NaN</td>\n",
       "      <td>1.360746</td>\n",
       "      <td>398.727274</td>\n",
       "      <td>REDACTED</td>\n",
       "    </tr>\n",
       "    <tr>\n",
       "      <th>20</th>\n",
       "      <td>2986280</td>\n",
       "      <td>12784.0</td>\n",
       "      <td>2012-10-20</td>\n",
       "      <td>3.0</td>\n",
       "      <td>REDACTED</td>\n",
       "      <td>6.085509e+09</td>\n",
       "      <td>85.0</td>\n",
       "      <td>6.0</td>\n",
       "      <td>SUNNYVALE</td>\n",
       "      <td>SUNNYVALE</td>\n",
       "      <td>...</td>\n",
       "      <td>NaN</td>\n",
       "      <td>NaN</td>\n",
       "      <td>NaN</td>\n",
       "      <td>NaN</td>\n",
       "      <td>NaN</td>\n",
       "      <td>NaN</td>\n",
       "      <td>NaN</td>\n",
       "      <td>1.151281</td>\n",
       "      <td>337.349614</td>\n",
       "      <td>REDACTED</td>\n",
       "    </tr>\n",
       "    <tr>\n",
       "      <th>21</th>\n",
       "      <td>2986316</td>\n",
       "      <td>12779.0</td>\n",
       "      <td>2012-11-04</td>\n",
       "      <td>5.0</td>\n",
       "      <td>REDACTED</td>\n",
       "      <td>6.085509e+09</td>\n",
       "      <td>85.0</td>\n",
       "      <td>6.0</td>\n",
       "      <td>SUNNYVALE</td>\n",
       "      <td>SUNNYVALE</td>\n",
       "      <td>...</td>\n",
       "      <td>NaN</td>\n",
       "      <td>NaN</td>\n",
       "      <td>NaN</td>\n",
       "      <td>NaN</td>\n",
       "      <td>NaN</td>\n",
       "      <td>NaN</td>\n",
       "      <td>NaN</td>\n",
       "      <td>0.852538</td>\n",
       "      <td>249.811708</td>\n",
       "      <td>REDACTED</td>\n",
       "    </tr>\n",
       "  </tbody>\n",
       "</table>\n",
       "<p>5 rows × 83 columns</p>\n",
       "</div>"
      ],
      "text/plain": [
       "     sampno     assn recruite_date  dow home_block_id  home_tract_id  \\\n",
       "17  2985298  12818.0    2012-11-28  2.0      REDACTED   6.085510e+09   \n",
       "18  2985550  12855.0    2012-12-31  4.0      REDACTED   6.085510e+09   \n",
       "19  2985904  12779.0    2012-10-18  5.0      REDACTED   6.085509e+09   \n",
       "20  2986280  12784.0    2012-10-20  3.0      REDACTED   6.085509e+09   \n",
       "21  2986316  12779.0    2012-11-04  5.0      REDACTED   6.085509e+09   \n",
       "\n",
       "    home_county_id  home_state_id home_primarycity      home_city  ... noveh2  \\\n",
       "17            85.0            6.0    MOUNTAIN VIEW  MOUNTAIN VIEW  ...    NaN   \n",
       "18            85.0            6.0    MOUNTAIN VIEW  MOUNTAIN VIEW  ...    NaN   \n",
       "19            85.0            6.0        SUNNYVALE      SUNNYVALE  ...    NaN   \n",
       "20            85.0            6.0        SUNNYVALE      SUNNYVALE  ...    NaN   \n",
       "21            85.0            6.0        SUNNYVALE      SUNNYVALE  ...    NaN   \n",
       "\n",
       "    noveh3 noveh4 noveh5  noveh6 noveh7 noveh8     hhwgt    exphhwgt      geom  \n",
       "17     NaN    NaN    NaN     NaN    NaN    NaN  0.942942  276.301960  REDACTED  \n",
       "18     NaN    NaN    NaN     NaN    NaN    NaN  0.942942  276.301960  REDACTED  \n",
       "19     NaN    NaN    NaN     NaN    NaN    NaN  1.360746  398.727274  REDACTED  \n",
       "20     NaN    NaN    NaN     NaN    NaN    NaN  1.151281  337.349614  REDACTED  \n",
       "21     NaN    NaN    NaN     NaN    NaN    NaN  0.852538  249.811708  REDACTED  \n",
       "\n",
       "[5 rows x 83 columns]"
      ]
     },
     "execution_count": 278,
     "metadata": {},
     "output_type": "execute_result"
    }
   ],
   "source": [
    "households_ba.head()"
   ]
  },
  {
   "cell_type": "code",
   "execution_count": 197,
   "metadata": {},
   "outputs": [
    {
     "data": {
      "text/plain": [
       "SAN FRANCISCO    1076\n",
       "SAN JOSE          939\n",
       "OAKLAND           459\n",
       "SANTA ROSA        321\n",
       "BERKELEY          251\n",
       "NAPA              228\n",
       "PALO ALTO         218\n",
       "SUNNYVALE         200\n",
       "SAN MATEO         197\n",
       "FREMONT           177\n",
       "WALNUT CREEK      173\n",
       "REDWOOD CITY      170\n",
       "FAIRFIELD         159\n",
       "CONCORD           158\n",
       "SAN RAFAEL        158\n",
       "Name: home_city, dtype: int64"
      ]
     },
     "execution_count": 197,
     "metadata": {},
     "output_type": "execute_result"
    }
   ],
   "source": [
    "households_ba.home_city.value_counts()[:15]"
   ]
  },
  {
   "cell_type": "code",
   "execution_count": 198,
   "metadata": {},
   "outputs": [],
   "source": [
    "places = pd.read_csv(\"caltrans_full_survey/survey_place.csv\", low_memory=False)"
   ]
  },
  {
   "cell_type": "code",
   "execution_count": 199,
   "metadata": {},
   "outputs": [
    {
     "data": {
      "text/plain": [
       "460524"
      ]
     },
     "execution_count": 199,
     "metadata": {},
     "output_type": "execute_result"
    }
   ],
   "source": [
    "len(places)"
   ]
  },
  {
   "cell_type": "code",
   "execution_count": 200,
   "metadata": {},
   "outputs": [
    {
     "data": {
      "text/plain": [
       "117345"
      ]
     },
     "execution_count": 200,
     "metadata": {},
     "output_type": "execute_result"
    }
   ],
   "source": [
    "#filter to Bay Area\n",
    "places_ba = places[places.sampno.isin(households_ba.sampno)]\n",
    "\n",
    "len(places_ba)"
   ]
  },
  {
   "cell_type": "code",
   "execution_count": 279,
   "metadata": {},
   "outputs": [
    {
     "data": {
      "text/html": [
       "<div>\n",
       "<style scoped>\n",
       "    .dataframe tbody tr th:only-of-type {\n",
       "        vertical-align: middle;\n",
       "    }\n",
       "\n",
       "    .dataframe tbody tr th {\n",
       "        vertical-align: top;\n",
       "    }\n",
       "\n",
       "    .dataframe thead th {\n",
       "        text-align: right;\n",
       "    }\n",
       "</style>\n",
       "<table border=\"1\" class=\"dataframe\">\n",
       "  <thead>\n",
       "    <tr style=\"text-align: right;\">\n",
       "      <th></th>\n",
       "      <th>sampno</th>\n",
       "      <th>perno</th>\n",
       "      <th>plano</th>\n",
       "      <th>vehno</th>\n",
       "      <th>tripno</th>\n",
       "      <th>place_name</th>\n",
       "      <th>travel_date</th>\n",
       "      <th>arr_time</th>\n",
       "      <th>dep_time</th>\n",
       "      <th>mode</th>\n",
       "      <th>...</th>\n",
       "      <th>lon</th>\n",
       "      <th>lat</th>\n",
       "      <th>non_hh_members</th>\n",
       "      <th>route</th>\n",
       "      <th>per1</th>\n",
       "      <th>per2</th>\n",
       "      <th>per3</th>\n",
       "      <th>per4</th>\n",
       "      <th>per5</th>\n",
       "      <th>geom</th>\n",
       "    </tr>\n",
       "  </thead>\n",
       "  <tbody>\n",
       "    <tr>\n",
       "      <th>0</th>\n",
       "      <td>1031985</td>\n",
       "      <td>1</td>\n",
       "      <td>1</td>\n",
       "      <td>NaN</td>\n",
       "      <td>NaN</td>\n",
       "      <td>REDACTED</td>\n",
       "      <td>2012-05-01</td>\n",
       "      <td>2019-09-13 03:00:00</td>\n",
       "      <td>2019-09-13 08:00:00</td>\n",
       "      <td>NaN</td>\n",
       "      <td>...</td>\n",
       "      <td>REDACTED</td>\n",
       "      <td>REDACTED</td>\n",
       "      <td>NaN</td>\n",
       "      <td>NaN</td>\n",
       "      <td>NaN</td>\n",
       "      <td>NaN</td>\n",
       "      <td>NaN</td>\n",
       "      <td>NaN</td>\n",
       "      <td>NaN</td>\n",
       "      <td>REDACTED</td>\n",
       "    </tr>\n",
       "    <tr>\n",
       "      <th>1</th>\n",
       "      <td>1031985</td>\n",
       "      <td>1</td>\n",
       "      <td>2</td>\n",
       "      <td>97.0</td>\n",
       "      <td>1.0</td>\n",
       "      <td>REDACTED</td>\n",
       "      <td>2012-05-01</td>\n",
       "      <td>2019-09-13 09:00:00</td>\n",
       "      <td>2019-09-13 12:00:00</td>\n",
       "      <td>6.0</td>\n",
       "      <td>...</td>\n",
       "      <td>REDACTED</td>\n",
       "      <td>REDACTED</td>\n",
       "      <td>1.0</td>\n",
       "      <td>NaN</td>\n",
       "      <td>NaN</td>\n",
       "      <td>NaN</td>\n",
       "      <td>NaN</td>\n",
       "      <td>NaN</td>\n",
       "      <td>NaN</td>\n",
       "      <td>REDACTED</td>\n",
       "    </tr>\n",
       "    <tr>\n",
       "      <th>2</th>\n",
       "      <td>1031985</td>\n",
       "      <td>1</td>\n",
       "      <td>3</td>\n",
       "      <td>97.0</td>\n",
       "      <td>2.0</td>\n",
       "      <td>REDACTED</td>\n",
       "      <td>2012-05-01</td>\n",
       "      <td>2019-09-13 13:00:00</td>\n",
       "      <td>2019-09-13 02:00:00</td>\n",
       "      <td>6.0</td>\n",
       "      <td>...</td>\n",
       "      <td>REDACTED</td>\n",
       "      <td>REDACTED</td>\n",
       "      <td>1.0</td>\n",
       "      <td>NaN</td>\n",
       "      <td>NaN</td>\n",
       "      <td>NaN</td>\n",
       "      <td>NaN</td>\n",
       "      <td>NaN</td>\n",
       "      <td>NaN</td>\n",
       "      <td>REDACTED</td>\n",
       "    </tr>\n",
       "    <tr>\n",
       "      <th>3</th>\n",
       "      <td>1031985</td>\n",
       "      <td>2</td>\n",
       "      <td>1</td>\n",
       "      <td>NaN</td>\n",
       "      <td>NaN</td>\n",
       "      <td>REDACTED</td>\n",
       "      <td>2012-05-01</td>\n",
       "      <td>2019-09-13 03:00:00</td>\n",
       "      <td>2019-09-13 09:00:00</td>\n",
       "      <td>NaN</td>\n",
       "      <td>...</td>\n",
       "      <td>REDACTED</td>\n",
       "      <td>REDACTED</td>\n",
       "      <td>NaN</td>\n",
       "      <td>NaN</td>\n",
       "      <td>NaN</td>\n",
       "      <td>NaN</td>\n",
       "      <td>NaN</td>\n",
       "      <td>NaN</td>\n",
       "      <td>NaN</td>\n",
       "      <td>REDACTED</td>\n",
       "    </tr>\n",
       "    <tr>\n",
       "      <th>4</th>\n",
       "      <td>1031985</td>\n",
       "      <td>2</td>\n",
       "      <td>2</td>\n",
       "      <td>1.0</td>\n",
       "      <td>1.0</td>\n",
       "      <td>REDACTED</td>\n",
       "      <td>2012-05-01</td>\n",
       "      <td>2019-09-13 09:00:00</td>\n",
       "      <td>2019-09-13 10:00:00</td>\n",
       "      <td>5.0</td>\n",
       "      <td>...</td>\n",
       "      <td>REDACTED</td>\n",
       "      <td>REDACTED</td>\n",
       "      <td>0.0</td>\n",
       "      <td>NaN</td>\n",
       "      <td>NaN</td>\n",
       "      <td>NaN</td>\n",
       "      <td>NaN</td>\n",
       "      <td>NaN</td>\n",
       "      <td>NaN</td>\n",
       "      <td>REDACTED</td>\n",
       "    </tr>\n",
       "  </tbody>\n",
       "</table>\n",
       "<p>5 rows × 54 columns</p>\n",
       "</div>"
      ],
      "text/plain": [
       "    sampno  perno  plano  vehno  tripno place_name travel_date  \\\n",
       "0  1031985      1      1    NaN     NaN   REDACTED  2012-05-01   \n",
       "1  1031985      1      2   97.0     1.0   REDACTED  2012-05-01   \n",
       "2  1031985      1      3   97.0     2.0   REDACTED  2012-05-01   \n",
       "3  1031985      2      1    NaN     NaN   REDACTED  2012-05-01   \n",
       "4  1031985      2      2    1.0     1.0   REDACTED  2012-05-01   \n",
       "\n",
       "             arr_time            dep_time  mode  ...       lon       lat  \\\n",
       "0 2019-09-13 03:00:00 2019-09-13 08:00:00   NaN  ...  REDACTED  REDACTED   \n",
       "1 2019-09-13 09:00:00 2019-09-13 12:00:00   6.0  ...  REDACTED  REDACTED   \n",
       "2 2019-09-13 13:00:00 2019-09-13 02:00:00   6.0  ...  REDACTED  REDACTED   \n",
       "3 2019-09-13 03:00:00 2019-09-13 09:00:00   NaN  ...  REDACTED  REDACTED   \n",
       "4 2019-09-13 09:00:00 2019-09-13 10:00:00   5.0  ...  REDACTED  REDACTED   \n",
       "\n",
       "   non_hh_members  route  per1  per2 per3  per4  per5      geom  \n",
       "0             NaN    NaN   NaN   NaN  NaN   NaN   NaN  REDACTED  \n",
       "1             1.0    NaN   NaN   NaN  NaN   NaN   NaN  REDACTED  \n",
       "2             1.0    NaN   NaN   NaN  NaN   NaN   NaN  REDACTED  \n",
       "3             NaN    NaN   NaN   NaN  NaN   NaN   NaN  REDACTED  \n",
       "4             0.0    NaN   NaN   NaN  NaN   NaN   NaN  REDACTED  \n",
       "\n",
       "[5 rows x 54 columns]"
      ]
     },
     "execution_count": 279,
     "metadata": {},
     "output_type": "execute_result"
    }
   ],
   "source": [
    "places_ba.head()"
   ]
  },
  {
   "cell_type": "code",
   "execution_count": 280,
   "metadata": {},
   "outputs": [
    {
     "name": "stdout",
     "output_type": "stream",
     "text": [
      "sampno\n",
      "perno\n",
      "plano\n",
      "vehno\n",
      "tripno\n",
      "place_name\n",
      "travel_date\n",
      "arr_time\n",
      "dep_time\n",
      "mode\n",
      "trip_distance_miles\n",
      "air_trip_distance_miles\n",
      "tripdistanceflag\n",
      "prev_trip_duration_min\n",
      "act_dur\n",
      "act_cnt\n",
      "block_id\n",
      "tract_id\n",
      "county_id\n",
      "state_id\n",
      "place_primarycity\n",
      "city\n",
      "zipcode\n",
      "state\n",
      "parked_loc_type\n",
      "parked_other_loc_type\n",
      "parked_address\n",
      "parked_minutes\n",
      "parked_payed\n",
      "parked_amount_payed\n",
      "parked_unit\n",
      "parked_pay_type\n",
      "parked_other_pay_type\n",
      "parked_paymen_ne\n",
      "got_out_vehicle\n",
      "transit_system\n",
      "transit_system_other\n",
      "perwgt\n",
      "expperwgt\n",
      "tcf\n",
      "tcfperwgt\n",
      "exptcfperwgt\n",
      "tottr\n",
      "hhmem\n",
      "lon\n",
      "lat\n",
      "non_hh_members\n",
      "route\n",
      "per1\n",
      "per2\n",
      "per3\n",
      "per4\n",
      "per5\n",
      "geom\n"
     ]
    }
   ],
   "source": [
    "for x in places_ba.columns:\n",
    "    print(x)"
   ]
  },
  {
   "cell_type": "code",
   "execution_count": 201,
   "metadata": {},
   "outputs": [
    {
     "data": {
      "text/plain": [
       "117345"
      ]
     },
     "execution_count": 201,
     "metadata": {},
     "output_type": "execute_result"
    }
   ],
   "source": [
    "len(places_ba.groupby(['sampno', 'perno', 'plano']))"
   ]
  },
  {
   "cell_type": "code",
   "execution_count": 202,
   "metadata": {},
   "outputs": [
    {
     "data": {
      "text/plain": [
       "93406"
      ]
     },
     "execution_count": 202,
     "metadata": {},
     "output_type": "execute_result"
    }
   ],
   "source": [
    "places_ba.tripno.count()"
   ]
  },
  {
   "cell_type": "code",
   "execution_count": 203,
   "metadata": {},
   "outputs": [
    {
     "data": {
      "text/plain": [
       "SAN FRANCISCO    15680\n",
       "SAN JOSE         11414\n",
       "OAKLAND           5455\n",
       "SANTA ROSA        3441\n",
       "BERKELEY          3185\n",
       "PALO ALTO         2664\n",
       "SUNNYVALE         2440\n",
       "SAN MATEO         2190\n",
       "NAPA              2160\n",
       "FREMONT           2126\n",
       "REDWOOD CITY      2067\n",
       "MOUNTAIN VIEW     1948\n",
       "WALNUT CREEK      1896\n",
       "SANTA CLARA       1816\n",
       "CONCORD           1800\n",
       "Name: city, dtype: int64"
      ]
     },
     "execution_count": 203,
     "metadata": {},
     "output_type": "execute_result"
    }
   ],
   "source": [
    "places_ba.city.value_counts().head(15)"
   ]
  },
  {
   "cell_type": "code",
   "execution_count": 445,
   "metadata": {},
   "outputs": [
    {
     "data": {
      "text/plain": [
       "0         REDACTED\n",
       "1         REDACTED\n",
       "2         REDACTED\n",
       "3         REDACTED\n",
       "4         REDACTED\n",
       "            ...   \n",
       "460291    REDACTED\n",
       "460292    REDACTED\n",
       "460293    REDACTED\n",
       "460294    REDACTED\n",
       "460295    REDACTED\n",
       "Name: geom, Length: 117345, dtype: object"
      ]
     },
     "execution_count": 445,
     "metadata": {},
     "output_type": "execute_result"
    }
   ],
   "source": [
    "places_ba."
   ]
  },
  {
   "cell_type": "code",
   "execution_count": 212,
   "metadata": {},
   "outputs": [
    {
     "name": "stderr",
     "output_type": "stream",
     "text": [
      "/anaconda3/envs/traffic_microsim/lib/python3.7/site-packages/ipykernel_launcher.py:1: SettingWithCopyWarning: \n",
      "A value is trying to be set on a copy of a slice from a DataFrame.\n",
      "Try using .loc[row_indexer,col_indexer] = value instead\n",
      "\n",
      "See the caveats in the documentation: http://pandas.pydata.org/pandas-docs/stable/user_guide/indexing.html#returning-a-view-versus-a-copy\n",
      "  \"\"\"Entry point for launching an IPython kernel.\n",
      "/anaconda3/envs/traffic_microsim/lib/python3.7/site-packages/ipykernel_launcher.py:2: SettingWithCopyWarning: \n",
      "A value is trying to be set on a copy of a slice from a DataFrame.\n",
      "Try using .loc[row_indexer,col_indexer] = value instead\n",
      "\n",
      "See the caveats in the documentation: http://pandas.pydata.org/pandas-docs/stable/user_guide/indexing.html#returning-a-view-versus-a-copy\n",
      "  \n"
     ]
    }
   ],
   "source": [
    "places_ba['arr_time'] = pd.to_datetime(places_ba['arr_time'])\n",
    "places_ba['dep_time'] = pd.to_datetime(places_ba['dep_time'])"
   ]
  },
  {
   "cell_type": "code",
   "execution_count": 281,
   "metadata": {},
   "outputs": [
    {
     "data": {
      "text/plain": [
       "2296"
      ]
     },
     "execution_count": 281,
     "metadata": {},
     "output_type": "execute_result"
    }
   ],
   "source": [
    "#how many different tracts are visited?\n",
    "places_ba.tract_id.unique().shape[0]"
   ]
  },
  {
   "cell_type": "code",
   "execution_count": 282,
   "metadata": {},
   "outputs": [
    {
     "data": {
      "text/plain": [
       "23939"
      ]
     },
     "execution_count": 282,
     "metadata": {},
     "output_type": "execute_result"
    }
   ],
   "source": [
    "#how many different people?\n",
    "len(places_ba.groupby(['sampno','perno']))"
   ]
  },
  {
   "cell_type": "code",
   "execution_count": 283,
   "metadata": {},
   "outputs": [
    {
     "name": "stdout",
     "output_type": "stream",
     "text": [
      "6912\n",
      "14388\n"
     ]
    }
   ],
   "source": [
    "# Is the mapping between census tracts and city names consistent? -- No\n",
    "\n",
    "print(places.tract_id.drop_duplicates().shape[0])\n",
    "print(places[['tract_id', 'city']].drop_duplicates().shape[0])"
   ]
  },
  {
   "cell_type": "code",
   "execution_count": 284,
   "metadata": {},
   "outputs": [
    {
     "name": "stderr",
     "output_type": "stream",
     "text": [
      "/anaconda3/envs/traffic_microsim/lib/python3.7/site-packages/ipykernel_launcher.py:12: FutureWarning: \n",
      ".ix is deprecated. Please use\n",
      ".loc for label based indexing or\n",
      ".iloc for positional indexing\n",
      "\n",
      "See the documentation here:\n",
      "http://pandas.pydata.org/pandas-docs/stable/user_guide/indexing.html#ix-indexer-is-deprecated\n",
      "  if sys.path[0] == '':\n"
     ]
    }
   ],
   "source": [
    "# How to deal with this? I think `tract_id` is an integer representation\n",
    "# of the 4-digit tract ID within the couty plus the 2 digit suffix. \n",
    "\n",
    "# So the full unique identifier is `state_id` + `county_id` (3 digits) + `tract_id` (6 digits)\n",
    "\n",
    "places['_full_tract_id'] = places.state_id * 1e9 + places.county_id * 1e6 + places.tract_id\n",
    "\n",
    "# Presumably the all-9 entries reflect missing data, but documentation doesn't specify\n",
    "\n",
    "places.ix[(places.tract_id == 999999) |\n",
    "          (places.county_id == 999) |\n",
    "          (places.state_id == 99), '_full_tract_id'] = np.nan"
   ]
  },
  {
   "cell_type": "code",
   "execution_count": 285,
   "metadata": {},
   "outputs": [
    {
     "name": "stdout",
     "output_type": "stream",
     "text": [
      "9098\n",
      "14194\n"
     ]
    }
   ],
   "source": [
    "print(places._full_tract_id.drop_duplicates().shape[0])\n",
    "print(places[['_full_tract_id', 'city']].drop_duplicates().shape[0])"
   ]
  },
  {
   "cell_type": "code",
   "execution_count": 286,
   "metadata": {},
   "outputs": [
    {
     "name": "stdout",
     "output_type": "stream",
     "text": [
      "                      city\n",
      "_full_tract_id            \n",
      "1.015001e+09      ANNISTON\n",
      "1.101002e+09    MONTGOMERY\n",
      "1.161400e+09       SEVILLA\n",
      "2.020001e+09     ANCHORAGE\n",
      "2.020001e+09     ANCHORAGE\n"
     ]
    }
   ],
   "source": [
    "# Map each tract to its most common corresponding city\n",
    "\n",
    "tracts = places[['_full_tract_id', 'city']].groupby('_full_tract_id').\\\n",
    "        agg(lambda x:x.value_counts().index[0])\n",
    "    \n",
    "print(tracts.head())"
   ]
  },
  {
   "cell_type": "code",
   "execution_count": 287,
   "metadata": {},
   "outputs": [
    {
     "data": {
      "text/plain": [
       "sampno   perno\n",
       "1031985  1         3\n",
       "         2         3\n",
       "1033944  1        16\n",
       "1035274  1         8\n",
       "         2         6\n",
       "1037952  1         3\n",
       "         2         1\n",
       "1039620  1         5\n",
       "         2         5\n",
       "1041076  1         4\n",
       "Name: plano, dtype: int64"
      ]
     },
     "execution_count": 287,
     "metadata": {},
     "output_type": "execute_result"
    }
   ],
   "source": [
    "places_ba.groupby(['sampno', 'perno']).plano.max().head(10)"
   ]
  },
  {
   "cell_type": "code",
   "execution_count": 288,
   "metadata": {},
   "outputs": [
    {
     "data": {
      "text/plain": [
       "count    19512.0\n",
       "mean         1.0\n",
       "std          0.0\n",
       "min          1.0\n",
       "25%          1.0\n",
       "50%          1.0\n",
       "75%          1.0\n",
       "max          1.0\n",
       "dtype: float64"
      ]
     },
     "execution_count": 288,
     "metadata": {},
     "output_type": "execute_result"
    }
   ],
   "source": [
    "# Do any respondents have multiple trip sequences? -- No!\n",
    "\n",
    "plano_counts = places_ba.groupby(['sampno', 'perno']).plano.max()\n",
    "tripno_counts = places_ba.groupby(['sampno', 'perno']).tripno.max()\n",
    "\n",
    "(plano_counts - tripno_counts).describe()"
   ]
  },
  {
   "cell_type": "code",
   "execution_count": 289,
   "metadata": {},
   "outputs": [
    {
     "data": {
      "text/html": [
       "<div>\n",
       "<style scoped>\n",
       "    .dataframe tbody tr th:only-of-type {\n",
       "        vertical-align: middle;\n",
       "    }\n",
       "\n",
       "    .dataframe tbody tr th {\n",
       "        vertical-align: top;\n",
       "    }\n",
       "\n",
       "    .dataframe thead th {\n",
       "        text-align: right;\n",
       "    }\n",
       "</style>\n",
       "<table border=\"1\" class=\"dataframe\">\n",
       "  <thead>\n",
       "    <tr style=\"text-align: right;\">\n",
       "      <th></th>\n",
       "      <th>travel_date</th>\n",
       "      <th>arr_time</th>\n",
       "      <th>dep_time</th>\n",
       "      <th>tract_id</th>\n",
       "      <th>city</th>\n",
       "      <th>mode</th>\n",
       "      <th>trip_distance_miles</th>\n",
       "      <th>prev_trip_duration_min</th>\n",
       "      <th>act_dur</th>\n",
       "    </tr>\n",
       "  </thead>\n",
       "  <tbody>\n",
       "    <tr>\n",
       "      <th>152</th>\n",
       "      <td>2012-07-17</td>\n",
       "      <td>2019-09-13 03:00:00</td>\n",
       "      <td>2019-09-13 10:00:00</td>\n",
       "      <td>509000.0</td>\n",
       "      <td>SUNNYVALE</td>\n",
       "      <td>NaN</td>\n",
       "      <td>NaN</td>\n",
       "      <td>NaN</td>\n",
       "      <td>425.0</td>\n",
       "    </tr>\n",
       "    <tr>\n",
       "      <th>153</th>\n",
       "      <td>2012-07-17</td>\n",
       "      <td>2019-09-13 10:00:00</td>\n",
       "      <td>2019-09-13 10:00:00</td>\n",
       "      <td>509000.0</td>\n",
       "      <td>SUNNYVALE</td>\n",
       "      <td>5.0</td>\n",
       "      <td>0.572830</td>\n",
       "      <td>10.0</td>\n",
       "      <td>30.0</td>\n",
       "    </tr>\n",
       "    <tr>\n",
       "      <th>154</th>\n",
       "      <td>2012-07-17</td>\n",
       "      <td>2019-09-13 11:00:00</td>\n",
       "      <td>2019-09-13 11:00:00</td>\n",
       "      <td>508504.0</td>\n",
       "      <td>SUNNYVALE</td>\n",
       "      <td>5.0</td>\n",
       "      <td>2.311855</td>\n",
       "      <td>15.0</td>\n",
       "      <td>1.0</td>\n",
       "    </tr>\n",
       "    <tr>\n",
       "      <th>155</th>\n",
       "      <td>2012-07-17</td>\n",
       "      <td>2019-09-13 11:00:00</td>\n",
       "      <td>2019-09-13 11:00:00</td>\n",
       "      <td>508504.0</td>\n",
       "      <td>SUNNYVALE</td>\n",
       "      <td>1.0</td>\n",
       "      <td>0.226491</td>\n",
       "      <td>5.0</td>\n",
       "      <td>9.0</td>\n",
       "    </tr>\n",
       "    <tr>\n",
       "      <th>156</th>\n",
       "      <td>2012-07-17</td>\n",
       "      <td>2019-09-13 11:00:00</td>\n",
       "      <td>2019-09-13 13:00:00</td>\n",
       "      <td>508504.0</td>\n",
       "      <td>SUNNYVALE</td>\n",
       "      <td>1.0</td>\n",
       "      <td>0.226491</td>\n",
       "      <td>5.0</td>\n",
       "      <td>105.0</td>\n",
       "    </tr>\n",
       "    <tr>\n",
       "      <th>157</th>\n",
       "      <td>2012-07-17</td>\n",
       "      <td>2019-09-13 13:00:00</td>\n",
       "      <td>2019-09-13 14:00:00</td>\n",
       "      <td>509000.0</td>\n",
       "      <td>SUNNYVALE</td>\n",
       "      <td>5.0</td>\n",
       "      <td>2.345337</td>\n",
       "      <td>10.0</td>\n",
       "      <td>60.0</td>\n",
       "    </tr>\n",
       "    <tr>\n",
       "      <th>158</th>\n",
       "      <td>2012-07-17</td>\n",
       "      <td>2019-09-13 14:00:00</td>\n",
       "      <td>2019-09-13 15:00:00</td>\n",
       "      <td>500100.0</td>\n",
       "      <td>SAN JOSE</td>\n",
       "      <td>5.0</td>\n",
       "      <td>8.289089</td>\n",
       "      <td>20.0</td>\n",
       "      <td>25.0</td>\n",
       "    </tr>\n",
       "    <tr>\n",
       "      <th>159</th>\n",
       "      <td>2012-07-17</td>\n",
       "      <td>2019-09-13 15:00:00</td>\n",
       "      <td>2019-09-13 02:00:00</td>\n",
       "      <td>509000.0</td>\n",
       "      <td>SUNNYVALE</td>\n",
       "      <td>5.0</td>\n",
       "      <td>8.587044</td>\n",
       "      <td>20.0</td>\n",
       "      <td>699.0</td>\n",
       "    </tr>\n",
       "  </tbody>\n",
       "</table>\n",
       "</div>"
      ],
      "text/plain": [
       "    travel_date            arr_time            dep_time  tract_id       city  \\\n",
       "152  2012-07-17 2019-09-13 03:00:00 2019-09-13 10:00:00  509000.0  SUNNYVALE   \n",
       "153  2012-07-17 2019-09-13 10:00:00 2019-09-13 10:00:00  509000.0  SUNNYVALE   \n",
       "154  2012-07-17 2019-09-13 11:00:00 2019-09-13 11:00:00  508504.0  SUNNYVALE   \n",
       "155  2012-07-17 2019-09-13 11:00:00 2019-09-13 11:00:00  508504.0  SUNNYVALE   \n",
       "156  2012-07-17 2019-09-13 11:00:00 2019-09-13 13:00:00  508504.0  SUNNYVALE   \n",
       "157  2012-07-17 2019-09-13 13:00:00 2019-09-13 14:00:00  509000.0  SUNNYVALE   \n",
       "158  2012-07-17 2019-09-13 14:00:00 2019-09-13 15:00:00  500100.0   SAN JOSE   \n",
       "159  2012-07-17 2019-09-13 15:00:00 2019-09-13 02:00:00  509000.0  SUNNYVALE   \n",
       "\n",
       "     mode  trip_distance_miles  prev_trip_duration_min  act_dur  \n",
       "152   NaN                  NaN                     NaN    425.0  \n",
       "153   5.0             0.572830                    10.0     30.0  \n",
       "154   5.0             2.311855                    15.0      1.0  \n",
       "155   1.0             0.226491                     5.0      9.0  \n",
       "156   1.0             0.226491                     5.0    105.0  \n",
       "157   5.0             2.345337                    10.0     60.0  \n",
       "158   5.0             8.289089                    20.0     25.0  \n",
       "159   5.0             8.587044                    20.0    699.0  "
      ]
     },
     "execution_count": 289,
     "metadata": {},
     "output_type": "execute_result"
    }
   ],
   "source": [
    "# What does a sequence of places look like?\n",
    "\n",
    "varlist = ['travel_date', 'arr_time', 'dep_time', 'tract_id', 'city', 'mode', \n",
    "           'trip_distance_miles', 'prev_trip_duration_min', 'act_dur']\n",
    "\n",
    "places_ba.loc[(places_ba.sampno == 1035274) & (places_ba.perno == 1), varlist]"
   ]
  },
  {
   "cell_type": "code",
   "execution_count": 292,
   "metadata": {},
   "outputs": [],
   "source": [
    "places_ba_cars = places_ba[(places_ba['mode'] >= 5) & (places_ba['mode'] <= 10)]"
   ]
  },
  {
   "cell_type": "code",
   "execution_count": 293,
   "metadata": {},
   "outputs": [
    {
     "data": {
      "text/html": [
       "<div>\n",
       "<style scoped>\n",
       "    .dataframe tbody tr th:only-of-type {\n",
       "        vertical-align: middle;\n",
       "    }\n",
       "\n",
       "    .dataframe tbody tr th {\n",
       "        vertical-align: top;\n",
       "    }\n",
       "\n",
       "    .dataframe thead th {\n",
       "        text-align: right;\n",
       "    }\n",
       "</style>\n",
       "<table border=\"1\" class=\"dataframe\">\n",
       "  <thead>\n",
       "    <tr style=\"text-align: right;\">\n",
       "      <th></th>\n",
       "      <th>sampno</th>\n",
       "      <th>perno</th>\n",
       "      <th>plano</th>\n",
       "      <th>vehno</th>\n",
       "      <th>tripno</th>\n",
       "      <th>place_name</th>\n",
       "      <th>travel_date</th>\n",
       "      <th>arr_time</th>\n",
       "      <th>dep_time</th>\n",
       "      <th>mode</th>\n",
       "      <th>...</th>\n",
       "      <th>lon</th>\n",
       "      <th>lat</th>\n",
       "      <th>non_hh_members</th>\n",
       "      <th>route</th>\n",
       "      <th>per1</th>\n",
       "      <th>per2</th>\n",
       "      <th>per3</th>\n",
       "      <th>per4</th>\n",
       "      <th>per5</th>\n",
       "      <th>geom</th>\n",
       "    </tr>\n",
       "  </thead>\n",
       "  <tbody>\n",
       "    <tr>\n",
       "      <th>1</th>\n",
       "      <td>1031985</td>\n",
       "      <td>1</td>\n",
       "      <td>2</td>\n",
       "      <td>97.0</td>\n",
       "      <td>1.0</td>\n",
       "      <td>REDACTED</td>\n",
       "      <td>2012-05-01</td>\n",
       "      <td>2019-09-13 09:00:00</td>\n",
       "      <td>2019-09-13 12:00:00</td>\n",
       "      <td>6.0</td>\n",
       "      <td>...</td>\n",
       "      <td>REDACTED</td>\n",
       "      <td>REDACTED</td>\n",
       "      <td>1.0</td>\n",
       "      <td>NaN</td>\n",
       "      <td>NaN</td>\n",
       "      <td>NaN</td>\n",
       "      <td>NaN</td>\n",
       "      <td>NaN</td>\n",
       "      <td>NaN</td>\n",
       "      <td>REDACTED</td>\n",
       "    </tr>\n",
       "    <tr>\n",
       "      <th>2</th>\n",
       "      <td>1031985</td>\n",
       "      <td>1</td>\n",
       "      <td>3</td>\n",
       "      <td>97.0</td>\n",
       "      <td>2.0</td>\n",
       "      <td>REDACTED</td>\n",
       "      <td>2012-05-01</td>\n",
       "      <td>2019-09-13 13:00:00</td>\n",
       "      <td>2019-09-13 02:00:00</td>\n",
       "      <td>6.0</td>\n",
       "      <td>...</td>\n",
       "      <td>REDACTED</td>\n",
       "      <td>REDACTED</td>\n",
       "      <td>1.0</td>\n",
       "      <td>NaN</td>\n",
       "      <td>NaN</td>\n",
       "      <td>NaN</td>\n",
       "      <td>NaN</td>\n",
       "      <td>NaN</td>\n",
       "      <td>NaN</td>\n",
       "      <td>REDACTED</td>\n",
       "    </tr>\n",
       "    <tr>\n",
       "      <th>4</th>\n",
       "      <td>1031985</td>\n",
       "      <td>2</td>\n",
       "      <td>2</td>\n",
       "      <td>1.0</td>\n",
       "      <td>1.0</td>\n",
       "      <td>REDACTED</td>\n",
       "      <td>2012-05-01</td>\n",
       "      <td>2019-09-13 09:00:00</td>\n",
       "      <td>2019-09-13 10:00:00</td>\n",
       "      <td>5.0</td>\n",
       "      <td>...</td>\n",
       "      <td>REDACTED</td>\n",
       "      <td>REDACTED</td>\n",
       "      <td>0.0</td>\n",
       "      <td>NaN</td>\n",
       "      <td>NaN</td>\n",
       "      <td>NaN</td>\n",
       "      <td>NaN</td>\n",
       "      <td>NaN</td>\n",
       "      <td>NaN</td>\n",
       "      <td>REDACTED</td>\n",
       "    </tr>\n",
       "    <tr>\n",
       "      <th>5</th>\n",
       "      <td>1031985</td>\n",
       "      <td>2</td>\n",
       "      <td>3</td>\n",
       "      <td>1.0</td>\n",
       "      <td>2.0</td>\n",
       "      <td>REDACTED</td>\n",
       "      <td>2012-05-01</td>\n",
       "      <td>2019-09-13 10:00:00</td>\n",
       "      <td>2019-09-13 02:00:00</td>\n",
       "      <td>5.0</td>\n",
       "      <td>...</td>\n",
       "      <td>REDACTED</td>\n",
       "      <td>REDACTED</td>\n",
       "      <td>0.0</td>\n",
       "      <td>NaN</td>\n",
       "      <td>NaN</td>\n",
       "      <td>NaN</td>\n",
       "      <td>NaN</td>\n",
       "      <td>NaN</td>\n",
       "      <td>NaN</td>\n",
       "      <td>REDACTED</td>\n",
       "    </tr>\n",
       "    <tr>\n",
       "      <th>127</th>\n",
       "      <td>1033944</td>\n",
       "      <td>1</td>\n",
       "      <td>10</td>\n",
       "      <td>97.0</td>\n",
       "      <td>9.0</td>\n",
       "      <td>REDACTED</td>\n",
       "      <td>2012-05-01</td>\n",
       "      <td>2019-09-13 18:00:00</td>\n",
       "      <td>2019-09-13 20:00:00</td>\n",
       "      <td>6.0</td>\n",
       "      <td>...</td>\n",
       "      <td>REDACTED</td>\n",
       "      <td>REDACTED</td>\n",
       "      <td>1.0</td>\n",
       "      <td>NaN</td>\n",
       "      <td>NaN</td>\n",
       "      <td>NaN</td>\n",
       "      <td>NaN</td>\n",
       "      <td>NaN</td>\n",
       "      <td>NaN</td>\n",
       "      <td>REDACTED</td>\n",
       "    </tr>\n",
       "  </tbody>\n",
       "</table>\n",
       "<p>5 rows × 54 columns</p>\n",
       "</div>"
      ],
      "text/plain": [
       "      sampno  perno  plano  vehno  tripno place_name travel_date  \\\n",
       "1    1031985      1      2   97.0     1.0   REDACTED  2012-05-01   \n",
       "2    1031985      1      3   97.0     2.0   REDACTED  2012-05-01   \n",
       "4    1031985      2      2    1.0     1.0   REDACTED  2012-05-01   \n",
       "5    1031985      2      3    1.0     2.0   REDACTED  2012-05-01   \n",
       "127  1033944      1     10   97.0     9.0   REDACTED  2012-05-01   \n",
       "\n",
       "               arr_time            dep_time  mode  ...       lon       lat  \\\n",
       "1   2019-09-13 09:00:00 2019-09-13 12:00:00   6.0  ...  REDACTED  REDACTED   \n",
       "2   2019-09-13 13:00:00 2019-09-13 02:00:00   6.0  ...  REDACTED  REDACTED   \n",
       "4   2019-09-13 09:00:00 2019-09-13 10:00:00   5.0  ...  REDACTED  REDACTED   \n",
       "5   2019-09-13 10:00:00 2019-09-13 02:00:00   5.0  ...  REDACTED  REDACTED   \n",
       "127 2019-09-13 18:00:00 2019-09-13 20:00:00   6.0  ...  REDACTED  REDACTED   \n",
       "\n",
       "     non_hh_members  route  per1  per2 per3  per4  per5      geom  \n",
       "1               1.0    NaN   NaN   NaN  NaN   NaN   NaN  REDACTED  \n",
       "2               1.0    NaN   NaN   NaN  NaN   NaN   NaN  REDACTED  \n",
       "4               0.0    NaN   NaN   NaN  NaN   NaN   NaN  REDACTED  \n",
       "5               0.0    NaN   NaN   NaN  NaN   NaN   NaN  REDACTED  \n",
       "127             1.0    NaN   NaN   NaN  NaN   NaN   NaN  REDACTED  \n",
       "\n",
       "[5 rows x 54 columns]"
      ]
     },
     "execution_count": 293,
     "metadata": {},
     "output_type": "execute_result"
    }
   ],
   "source": [
    "places_ba_cars.head()"
   ]
  },
  {
   "cell_type": "code",
   "execution_count": 294,
   "metadata": {},
   "outputs": [
    {
     "data": {
      "text/plain": [
       "69986"
      ]
     },
     "execution_count": 294,
     "metadata": {},
     "output_type": "execute_result"
    }
   ],
   "source": [
    "places_ba_cars.shape[0]"
   ]
  },
  {
   "cell_type": "code",
   "execution_count": 297,
   "metadata": {},
   "outputs": [],
   "source": [
    "places_ba_commute = places_ba_cars[(places_ba_cars['dep_time'] > '2019-09-13 05:00:00')\\\n",
    "                              & (places_ba_cars['dep_time'] < '2019-09-13 12:00:00')\\\n",
    "                              & (places_ba_cars['arr_time'] < '2019-09-13 12:00:00')\\\n",
    "                              & (places_ba_cars['arr_time'] > '2019-09-13 05:00:00')]\n"
   ]
  },
  {
   "cell_type": "code",
   "execution_count": 298,
   "metadata": {},
   "outputs": [
    {
     "data": {
      "text/plain": [
       "11515"
      ]
     },
     "execution_count": 298,
     "metadata": {},
     "output_type": "execute_result"
    }
   ],
   "source": [
    "places_ba_commute.shape[0]"
   ]
  },
  {
   "cell_type": "code",
   "execution_count": 299,
   "metadata": {},
   "outputs": [
    {
     "name": "stderr",
     "output_type": "stream",
     "text": [
      "/anaconda3/envs/traffic_microsim/lib/python3.7/site-packages/ipykernel_launcher.py:1: SettingWithCopyWarning: \n",
      "A value is trying to be set on a copy of a slice from a DataFrame.\n",
      "Try using .loc[row_indexer,col_indexer] = value instead\n",
      "\n",
      "See the caveats in the documentation: http://pandas.pydata.org/pandas-docs/stable/user_guide/indexing.html#returning-a-view-versus-a-copy\n",
      "  \"\"\"Entry point for launching an IPython kernel.\n"
     ]
    }
   ],
   "source": [
    "places_ba_commute['trip_distance_km'] = places_ba_commute['trip_distance_miles'] * 1.60934"
   ]
  },
  {
   "cell_type": "code",
   "execution_count": 350,
   "metadata": {},
   "outputs": [
    {
     "data": {
      "image/png": "[encoded data removed]",
      "text/plain": [
       "<Figure size 432x288 with 1 Axes>"
      ]
     },
     "metadata": {
      "needs_background": "light"
     },
     "output_type": "display_data"
    }
   ],
   "source": [
    "places_ba_commute.hist(column='trip_distance_km', bins=30)\n",
    "plt.title(\"Histogram of CHTS trip distances \\n(during commute time for cars/taxis/TNCs)\")\n",
    "plt.xlabel(\"Distance (km)\")\n",
    "plt.ylabel(\"# of trips\")\n",
    "plt.grid(False)"
   ]
  },
  {
   "cell_type": "code",
   "execution_count": 361,
   "metadata": {},
   "outputs": [
    {
     "data": {
      "text/plain": [
       "628.0137701309"
      ]
     },
     "execution_count": 361,
     "metadata": {},
     "output_type": "execute_result"
    }
   ],
   "source": [
    "max(places_ba_commute['trip_distance_km'])"
   ]
  },
  {
   "cell_type": "code",
   "execution_count": 362,
   "metadata": {},
   "outputs": [
    {
     "data": {
      "text/plain": [
       "9.981059904385257"
      ]
     },
     "execution_count": 362,
     "metadata": {},
     "output_type": "execute_result"
    }
   ],
   "source": [
    "np.mean(places_ba_commute['trip_distance_km'])"
   ]
  },
  {
   "cell_type": "code",
   "execution_count": 306,
   "metadata": {},
   "outputs": [],
   "source": [
    "#places_ba_commute['trip_time'] = places_ba_commute['arr_time'] - places_ba_commute['dep_time']\n",
    "#places_ba_commute['trip_time']= places_ba_commute['trip_time']/np.timedelta64(1,'h')\n",
    "\n"
   ]
  },
  {
   "cell_type": "code",
   "execution_count": 307,
   "metadata": {},
   "outputs": [],
   "source": [
    "#places_ba_commute['trip_time'].apply(lambda x: x + 24 if x < 0)\n",
    "#places_ba_commute['trip_time_pos'] = places_ba_commute['trip_time']\n",
    "#places_ba_commute.loc[places_ba_commute.trip_time < 0, 'trip_time_pos'] = places_ba_commute.trip_time + 24"
   ]
  },
  {
   "cell_type": "code",
   "execution_count": 302,
   "metadata": {
    "scrolled": true
   },
   "outputs": [
    {
     "data": {
      "text/html": [
       "<div>\n",
       "<style scoped>\n",
       "    .dataframe tbody tr th:only-of-type {\n",
       "        vertical-align: middle;\n",
       "    }\n",
       "\n",
       "    .dataframe tbody tr th {\n",
       "        vertical-align: top;\n",
       "    }\n",
       "\n",
       "    .dataframe thead th {\n",
       "        text-align: right;\n",
       "    }\n",
       "</style>\n",
       "<table border=\"1\" class=\"dataframe\">\n",
       "  <thead>\n",
       "    <tr style=\"text-align: right;\">\n",
       "      <th></th>\n",
       "      <th>sampno</th>\n",
       "      <th>perno</th>\n",
       "      <th>plano</th>\n",
       "      <th>vehno</th>\n",
       "      <th>tripno</th>\n",
       "      <th>place_name</th>\n",
       "      <th>travel_date</th>\n",
       "      <th>arr_time</th>\n",
       "      <th>dep_time</th>\n",
       "      <th>mode</th>\n",
       "      <th>...</th>\n",
       "      <th>non_hh_members</th>\n",
       "      <th>route</th>\n",
       "      <th>per1</th>\n",
       "      <th>per2</th>\n",
       "      <th>per3</th>\n",
       "      <th>per4</th>\n",
       "      <th>per5</th>\n",
       "      <th>geom</th>\n",
       "      <th>trip_distance_km</th>\n",
       "      <th>trip_time</th>\n",
       "    </tr>\n",
       "  </thead>\n",
       "  <tbody>\n",
       "    <tr>\n",
       "      <th>460272</th>\n",
       "      <td>7211560</td>\n",
       "      <td>1</td>\n",
       "      <td>2</td>\n",
       "      <td>1.0</td>\n",
       "      <td>1.0</td>\n",
       "      <td>REDACTED</td>\n",
       "      <td>2013-01-30</td>\n",
       "      <td>2019-09-13 08:00:00</td>\n",
       "      <td>2019-09-13 08:00:00</td>\n",
       "      <td>5.0</td>\n",
       "      <td>...</td>\n",
       "      <td>0.0</td>\n",
       "      <td>NaN</td>\n",
       "      <td>4.0</td>\n",
       "      <td>NaN</td>\n",
       "      <td>NaN</td>\n",
       "      <td>NaN</td>\n",
       "      <td>NaN</td>\n",
       "      <td>REDACTED</td>\n",
       "      <td>20.887189</td>\n",
       "      <td>0.0</td>\n",
       "    </tr>\n",
       "    <tr>\n",
       "      <th>460273</th>\n",
       "      <td>7211560</td>\n",
       "      <td>1</td>\n",
       "      <td>3</td>\n",
       "      <td>1.0</td>\n",
       "      <td>2.0</td>\n",
       "      <td>REDACTED</td>\n",
       "      <td>2013-01-30</td>\n",
       "      <td>2019-09-13 09:00:00</td>\n",
       "      <td>2019-09-13 11:00:00</td>\n",
       "      <td>5.0</td>\n",
       "      <td>...</td>\n",
       "      <td>0.0</td>\n",
       "      <td>NaN</td>\n",
       "      <td>NaN</td>\n",
       "      <td>NaN</td>\n",
       "      <td>NaN</td>\n",
       "      <td>NaN</td>\n",
       "      <td>NaN</td>\n",
       "      <td>REDACTED</td>\n",
       "      <td>22.133609</td>\n",
       "      <td>-2.0</td>\n",
       "    </tr>\n",
       "    <tr>\n",
       "      <th>460282</th>\n",
       "      <td>7211560</td>\n",
       "      <td>2</td>\n",
       "      <td>3</td>\n",
       "      <td>97.0</td>\n",
       "      <td>2.0</td>\n",
       "      <td>REDACTED</td>\n",
       "      <td>2013-01-30</td>\n",
       "      <td>2019-09-13 08:00:00</td>\n",
       "      <td>2019-09-13 09:00:00</td>\n",
       "      <td>5.0</td>\n",
       "      <td>...</td>\n",
       "      <td>0.0</td>\n",
       "      <td>NaN</td>\n",
       "      <td>NaN</td>\n",
       "      <td>NaN</td>\n",
       "      <td>NaN</td>\n",
       "      <td>NaN</td>\n",
       "      <td>NaN</td>\n",
       "      <td>REDACTED</td>\n",
       "      <td>7.745461</td>\n",
       "      <td>-1.0</td>\n",
       "    </tr>\n",
       "    <tr>\n",
       "      <th>460283</th>\n",
       "      <td>7211560</td>\n",
       "      <td>2</td>\n",
       "      <td>4</td>\n",
       "      <td>97.0</td>\n",
       "      <td>3.0</td>\n",
       "      <td>REDACTED</td>\n",
       "      <td>2013-01-30</td>\n",
       "      <td>2019-09-13 09:00:00</td>\n",
       "      <td>2019-09-13 11:00:00</td>\n",
       "      <td>5.0</td>\n",
       "      <td>...</td>\n",
       "      <td>0.0</td>\n",
       "      <td>NaN</td>\n",
       "      <td>NaN</td>\n",
       "      <td>NaN</td>\n",
       "      <td>NaN</td>\n",
       "      <td>NaN</td>\n",
       "      <td>NaN</td>\n",
       "      <td>REDACTED</td>\n",
       "      <td>0.263335</td>\n",
       "      <td>-2.0</td>\n",
       "    </tr>\n",
       "    <tr>\n",
       "      <th>460284</th>\n",
       "      <td>7211560</td>\n",
       "      <td>2</td>\n",
       "      <td>5</td>\n",
       "      <td>97.0</td>\n",
       "      <td>4.0</td>\n",
       "      <td>REDACTED</td>\n",
       "      <td>2013-01-30</td>\n",
       "      <td>2019-09-13 11:00:00</td>\n",
       "      <td>2019-09-13 11:00:00</td>\n",
       "      <td>5.0</td>\n",
       "      <td>...</td>\n",
       "      <td>0.0</td>\n",
       "      <td>NaN</td>\n",
       "      <td>NaN</td>\n",
       "      <td>NaN</td>\n",
       "      <td>NaN</td>\n",
       "      <td>NaN</td>\n",
       "      <td>NaN</td>\n",
       "      <td>REDACTED</td>\n",
       "      <td>11.754909</td>\n",
       "      <td>0.0</td>\n",
       "    </tr>\n",
       "  </tbody>\n",
       "</table>\n",
       "<p>5 rows × 56 columns</p>\n",
       "</div>"
      ],
      "text/plain": [
       "         sampno  perno  plano  vehno  tripno place_name travel_date  \\\n",
       "460272  7211560      1      2    1.0     1.0   REDACTED  2013-01-30   \n",
       "460273  7211560      1      3    1.0     2.0   REDACTED  2013-01-30   \n",
       "460282  7211560      2      3   97.0     2.0   REDACTED  2013-01-30   \n",
       "460283  7211560      2      4   97.0     3.0   REDACTED  2013-01-30   \n",
       "460284  7211560      2      5   97.0     4.0   REDACTED  2013-01-30   \n",
       "\n",
       "                  arr_time            dep_time  mode  ...  non_hh_members  \\\n",
       "460272 2019-09-13 08:00:00 2019-09-13 08:00:00   5.0  ...             0.0   \n",
       "460273 2019-09-13 09:00:00 2019-09-13 11:00:00   5.0  ...             0.0   \n",
       "460282 2019-09-13 08:00:00 2019-09-13 09:00:00   5.0  ...             0.0   \n",
       "460283 2019-09-13 09:00:00 2019-09-13 11:00:00   5.0  ...             0.0   \n",
       "460284 2019-09-13 11:00:00 2019-09-13 11:00:00   5.0  ...             0.0   \n",
       "\n",
       "        route  per1  per2  per3  per4 per5      geom  trip_distance_km  \\\n",
       "460272    NaN   4.0   NaN   NaN   NaN  NaN  REDACTED         20.887189   \n",
       "460273    NaN   NaN   NaN   NaN   NaN  NaN  REDACTED         22.133609   \n",
       "460282    NaN   NaN   NaN   NaN   NaN  NaN  REDACTED          7.745461   \n",
       "460283    NaN   NaN   NaN   NaN   NaN  NaN  REDACTED          0.263335   \n",
       "460284    NaN   NaN   NaN   NaN   NaN  NaN  REDACTED         11.754909   \n",
       "\n",
       "        trip_time  \n",
       "460272        0.0  \n",
       "460273       -2.0  \n",
       "460282       -1.0  \n",
       "460283       -2.0  \n",
       "460284        0.0  \n",
       "\n",
       "[5 rows x 56 columns]"
      ]
     },
     "execution_count": 302,
     "metadata": {},
     "output_type": "execute_result"
    }
   ],
   "source": [
    "places_ba_commute.tail()"
   ]
  },
  {
   "cell_type": "code",
   "execution_count": 303,
   "metadata": {},
   "outputs": [
    {
     "name": "stderr",
     "output_type": "stream",
     "text": [
      "/anaconda3/envs/traffic_microsim/lib/python3.7/site-packages/ipykernel_launcher.py:2: SettingWithCopyWarning: \n",
      "A value is trying to be set on a copy of a slice from a DataFrame.\n",
      "Try using .loc[row_indexer,col_indexer] = value instead\n",
      "\n",
      "See the caveats in the documentation: http://pandas.pydata.org/pandas-docs/stable/user_guide/indexing.html#returning-a-view-versus-a-copy\n",
      "  \n"
     ]
    }
   ],
   "source": [
    "#places_ba_commute['trip_time'].apply(lambda x: x + 24 if x < 0)\n",
    "places_ba_commute['trip_time_pos'] = places_ba_commute['trip_time']\n",
    "places_ba_commute.loc[places_ba_commute.trip_time < 0, 'trip_time_pos'] = places_ba_commute.trip_time + 24"
   ]
  },
  {
   "cell_type": "code",
   "execution_count": 309,
   "metadata": {},
   "outputs": [
    {
     "data": {
      "text/plain": [
       "11515"
      ]
     },
     "execution_count": 309,
     "metadata": {},
     "output_type": "execute_result"
    }
   ],
   "source": [
    "places_ba_commute.shape[0]"
   ]
  },
  {
   "cell_type": "code",
   "execution_count": 317,
   "metadata": {},
   "outputs": [
    {
     "data": {
      "text/plain": [
       "Text(0, 0.5, 'Number of trips')"
      ]
     },
     "execution_count": 317,
     "metadata": {},
     "output_type": "execute_result"
    },
    {
     "data": {
      "image/png": "[encoded data removed]",
      "text/plain": [
       "<Figure size 432x288 with 1 Axes>"
      ]
     },
     "metadata": {
      "needs_background": "light"
     },
     "output_type": "display_data"
    }
   ],
   "source": [
    "places_ba_commute.hist(column='act_dur', bins=20, range=[0,320])\n",
    "plt.grid(False)\n",
    "plt.title(\"Histogram of CHTS trip duration vs number of trips\\n(during commute time for cars/taxis/TNCs)\")\n",
    "plt.xlabel(\"Trip duration (in minutes)\")\n",
    "plt.ylabel(\"Number of trips\")"
   ]
  },
  {
   "cell_type": "code",
   "execution_count": 366,
   "metadata": {},
   "outputs": [
    {
     "data": {
      "text/plain": [
       "328.0"
      ]
     },
     "execution_count": 366,
     "metadata": {},
     "output_type": "execute_result"
    }
   ],
   "source": [
    "max(places_ba_commute['act_dur'])"
   ]
  },
  {
   "cell_type": "code",
   "execution_count": 367,
   "metadata": {},
   "outputs": [
    {
     "data": {
      "text/plain": [
       "39.66183239253148"
      ]
     },
     "execution_count": 367,
     "metadata": {},
     "output_type": "execute_result"
    }
   ],
   "source": [
    "np.mean(places_ba_commute['act_dur'])"
   ]
  },
  {
   "cell_type": "code",
   "execution_count": 443,
   "metadata": {},
   "outputs": [
    {
     "data": {
      "text/plain": [
       "16.0"
      ]
     },
     "execution_count": 443,
     "metadata": {},
     "output_type": "execute_result"
    }
   ],
   "source": [
    "np.median(places_ba_commute['act_dur'])"
   ]
  },
  {
   "cell_type": "code",
   "execution_count": 361,
   "metadata": {},
   "outputs": [
    {
     "data": {
      "text/plain": [
       "628.0137701309"
      ]
     },
     "execution_count": 361,
     "metadata": {},
     "output_type": "execute_result"
    }
   ],
   "source": [
    "max(places_ba_commute['trip_distance_km'])"
   ]
  },
  {
   "cell_type": "code",
   "execution_count": 410,
   "metadata": {},
   "outputs": [
    {
     "data": {
      "text/plain": [
       "22.14903427665679"
      ]
     },
     "execution_count": 410,
     "metadata": {},
     "output_type": "execute_result"
    }
   ],
   "source": [
    "np.std(places_ba_commute['trip_distance_km'])"
   ]
  },
  {
   "cell_type": "markdown",
   "metadata": {},
   "source": [
    "# UNUSED STUFF"
   ]
  },
  {
   "cell_type": "markdown",
   "metadata": {},
   "source": [
    "# Plot the above centrality on the street graph"
   ]
  },
  {
   "cell_type": "code",
   "execution_count": 42,
   "metadata": {},
   "outputs": [],
   "source": [
    "input_graphml_file = 'full_network_simplified.graphml'\n",
    "\n",
    "G = ox.load_graphml(input_graphml_file)"
   ]
  },
  {
   "cell_type": "code",
   "execution_count": 46,
   "metadata": {},
   "outputs": [
    {
     "data": {
      "image/png": "[encoded data removed]",
      "text/plain": [
       "<Figure size 502.563x432 with 1 Axes>"
      ]
     },
     "metadata": {},
     "output_type": "display_data"
    }
   ],
   "source": [
    "# list of edge values for the orginal graph\n",
    "#ev = [edge_totals[edge] for edge in G.edges()]\n",
    "ev = list(edge_totals['flow'])\n",
    "\n",
    "# color scale converted to list of colors for graph edges\n",
    "norm = colors.Normalize(vmin=min(ev)*0.8, vmax=max(ev))\n",
    "cmap = cm.ScalarMappable(norm=norm, cmap=cm.inferno)\n",
    "ec = [cmap.to_rgba(cl) for cl in ev]\n",
    "\n",
    "# color the edges in the original graph with closeness centralities in the line graph\n",
    "fig, ax = ox.plot_graph(G, bgcolor='k', axis_off=True, node_size=0, node_color='w', node_edgecolor='gray', node_zorder=2,\n",
    "                        edge_color=ec, edge_linewidth=1.5, edge_alpha=1)\n",
    "\n",
    "#ev"
   ]
  },
  {
   "cell_type": "markdown",
   "metadata": {},
   "source": [
    "# Plot figure ground around particular area"
   ]
  },
  {
   "cell_type": "code",
   "execution_count": 150,
   "metadata": {},
   "outputs": [],
   "source": [
    "size = 240\n",
    "dpi = 40\n",
    "point = (37.75, -122.5)\n",
    "fig, ax = ox.plot_figure_ground(point=point, network_type='all', default_width=3.3, dpi=dpi)"
   ]
  },
  {
   "cell_type": "markdown",
   "metadata": {},
   "source": [
    "# Plot the shapefile of the Bay Area"
   ]
  },
  {
   "cell_type": "code",
   "execution_count": 34,
   "metadata": {},
   "outputs": [],
   "source": [
    "bay_area_streets = gpd.read_file(\"urbanized_areas2000.shp\")"
   ]
  },
  {
   "cell_type": "code",
   "execution_count": 49,
   "metadata": {},
   "outputs": [
    {
     "data": {
      "text/plain": [
       "<matplotlib.axes._subplots.AxesSubplot at 0x12c15c9b0>"
      ]
     },
     "execution_count": 49,
     "metadata": {},
     "output_type": "execute_result"
    },
    {
     "data": {
      "image/png": "[encoded data removed]",
      "text/plain": [
       "<Figure size 1080x1080 with 1 Axes>"
      ]
     },
     "metadata": {
      "needs_background": "light"
     },
     "output_type": "display_data"
    }
   ],
   "source": [
    "fig, ax = plt.subplots(figsize=[15,15])\n",
    "bay_area_streets.plot(ax = ax, alpha = .4, color = 'grey', figsize=[15,15])"
   ]
  },
  {
   "cell_type": "markdown",
   "metadata": {},
   "source": [
    "# Get the min and max lat and long so we can plot the bounding box"
   ]
  },
  {
   "cell_type": "code",
   "execution_count": 12,
   "metadata": {},
   "outputs": [],
   "source": [
    "nodes = pd.read_csv(\"nodes.csv\")"
   ]
  },
  {
   "cell_type": "code",
   "execution_count": 13,
   "metadata": {},
   "outputs": [
    {
     "data": {
      "text/html": [
       "<div>\n",
       "<style scoped>\n",
       "    .dataframe tbody tr th:only-of-type {\n",
       "        vertical-align: middle;\n",
       "    }\n",
       "\n",
       "    .dataframe tbody tr th {\n",
       "        vertical-align: top;\n",
       "    }\n",
       "\n",
       "    .dataframe thead th {\n",
       "        text-align: right;\n",
       "    }\n",
       "</style>\n",
       "<table border=\"1\" class=\"dataframe\">\n",
       "  <thead>\n",
       "    <tr style=\"text-align: right;\">\n",
       "      <th></th>\n",
       "      <th>osmid</th>\n",
       "      <th>x</th>\n",
       "      <th>y</th>\n",
       "      <th>ref</th>\n",
       "      <th>highway</th>\n",
       "    </tr>\n",
       "  </thead>\n",
       "  <tbody>\n",
       "    <tr>\n",
       "      <th>0</th>\n",
       "      <td>309330024</td>\n",
       "      <td>-122.354382</td>\n",
       "      <td>37.587447</td>\n",
       "      <td>NaN</td>\n",
       "      <td>NaN</td>\n",
       "    </tr>\n",
       "    <tr>\n",
       "      <th>1</th>\n",
       "      <td>247385811</td>\n",
       "      <td>-122.014259</td>\n",
       "      <td>37.337711</td>\n",
       "      <td>NaN</td>\n",
       "      <td>traffic_signals</td>\n",
       "    </tr>\n",
       "    <tr>\n",
       "      <th>2</th>\n",
       "      <td>247385814</td>\n",
       "      <td>-122.015335</td>\n",
       "      <td>37.335105</td>\n",
       "      <td>NaN</td>\n",
       "      <td>NaN</td>\n",
       "    </tr>\n",
       "    <tr>\n",
       "      <th>3</th>\n",
       "      <td>4353687911</td>\n",
       "      <td>-122.445425</td>\n",
       "      <td>37.731519</td>\n",
       "      <td>NaN</td>\n",
       "      <td>NaN</td>\n",
       "    </tr>\n",
       "    <tr>\n",
       "      <th>4</th>\n",
       "      <td>4353687912</td>\n",
       "      <td>-122.445424</td>\n",
       "      <td>37.731608</td>\n",
       "      <td>NaN</td>\n",
       "      <td>NaN</td>\n",
       "    </tr>\n",
       "  </tbody>\n",
       "</table>\n",
       "</div>"
      ],
      "text/plain": [
       "        osmid           x          y  ref          highway\n",
       "0   309330024 -122.354382  37.587447  NaN              NaN\n",
       "1   247385811 -122.014259  37.337711  NaN  traffic_signals\n",
       "2   247385814 -122.015335  37.335105  NaN              NaN\n",
       "3  4353687911 -122.445425  37.731519  NaN              NaN\n",
       "4  4353687912 -122.445424  37.731608  NaN              NaN"
      ]
     },
     "execution_count": 13,
     "metadata": {},
     "output_type": "execute_result"
    }
   ],
   "source": [
    "nodes.head()"
   ]
  },
  {
   "cell_type": "code",
   "execution_count": 14,
   "metadata": {},
   "outputs": [
    {
     "data": {
      "text/plain": [
       "(-123.543742, 36.880457, -121.273774, 38.87769)"
      ]
     },
     "execution_count": 14,
     "metadata": {},
     "output_type": "execute_result"
    }
   ],
   "source": [
    "min_x = min(nodes['x'])\n",
    "min_y = min(nodes['y'])\n",
    "\n",
    "max_x = max(nodes['x'])\n",
    "max_y = max(nodes['y'])\n",
    "\n",
    "min_x, min_y, max_x, max_y"
   ]
  },
  {
   "cell_type": "markdown",
   "metadata": {},
   "source": [
    "# Map the bounding box"
   ]
  },
  {
   "cell_type": "code",
   "execution_count": 15,
   "metadata": {},
   "outputs": [
    {
     "ename": "NameError",
     "evalue": "name 'ox' is not defined",
     "output_type": "error",
     "traceback": [
      "\u001b[0;31m---------------------------------------------------------------------------\u001b[0m",
      "\u001b[0;31mNameError\u001b[0m                                 Traceback (most recent call last)",
      "\u001b[0;32m<ipython-input-15-ecf262791fc5>\u001b[0m in \u001b[0;36m<module>\u001b[0;34m()\u001b[0m\n\u001b[0;32m----> 1\u001b[0;31m \u001b[0mG\u001b[0m \u001b[0;34m=\u001b[0m \u001b[0mox\u001b[0m\u001b[0;34m.\u001b[0m\u001b[0mgraph_from_bbox\u001b[0m\u001b[0;34m(\u001b[0m\u001b[0mmax_y\u001b[0m\u001b[0;34m,\u001b[0m \u001b[0mmin_y\u001b[0m\u001b[0;34m,\u001b[0m \u001b[0mmax_x\u001b[0m\u001b[0;34m,\u001b[0m \u001b[0mmin_x\u001b[0m\u001b[0;34m,\u001b[0m \u001b[0mnetwork_type\u001b[0m\u001b[0;34m=\u001b[0m\u001b[0;34m'drive'\u001b[0m\u001b[0;34m)\u001b[0m\u001b[0;34m\u001b[0m\u001b[0m\n\u001b[0m\u001b[1;32m      2\u001b[0m \u001b[0mG_projected\u001b[0m \u001b[0;34m=\u001b[0m \u001b[0mox\u001b[0m\u001b[0;34m.\u001b[0m\u001b[0mproject_graph\u001b[0m\u001b[0;34m(\u001b[0m\u001b[0mG\u001b[0m\u001b[0;34m)\u001b[0m\u001b[0;34m\u001b[0m\u001b[0m\n\u001b[1;32m      3\u001b[0m \u001b[0mox\u001b[0m\u001b[0;34m.\u001b[0m\u001b[0mplot_graph\u001b[0m\u001b[0;34m(\u001b[0m\u001b[0mG_projected\u001b[0m\u001b[0;34m)\u001b[0m\u001b[0;34m\u001b[0m\u001b[0m\n",
      "\u001b[0;31mNameError\u001b[0m: name 'ox' is not defined"
     ]
    }
   ],
   "source": [
    "G = ox.graph_from_bbox(max_y, min_y, max_x, min_x, network_type='drive')\n",
    "G_projected = ox.project_graph(G)\n",
    "ox.plot_graph(G_projected)"
   ]
  },
  {
   "cell_type": "markdown",
   "metadata": {},
   "source": [
    "# Map all nodes using geopandas"
   ]
  },
  {
   "cell_type": "code",
   "execution_count": 25,
   "metadata": {
    "nbpresent": {
     "id": "fab6d9a8-e7a5-46a2-ab8f-c5797905a3cf"
    }
   },
   "outputs": [],
   "source": [
    "#plot lat-longs on map\n",
    "def make_point(row):\n",
    "    return Point(row.x, row.y)\n",
    "\n",
    "# Go through every row, and make a point out of its lat and lon\n",
    "points = nodes.apply(make_point, axis=1)\n",
    "\n",
    "# Make a new GeoDataFrame\n",
    "# using the data from our old df\n",
    "# but also adding in the geometry we just made\n",
    "nodes_map = gpd.GeoDataFrame(nodes, geometry=points)\n",
    "\n",
    "# It doesn't come with a CRS because it's a CSV, so let's\n",
    "# say \"hey, let's use the standard shape of the earth etc\"\n",
    "nodes_map.crs = {'init': 'epsg:4326'}"
   ]
  },
  {
   "cell_type": "code",
   "execution_count": 24,
   "metadata": {},
   "outputs": [
    {
     "data": {
      "text/html": [
       "<div>\n",
       "<style scoped>\n",
       "    .dataframe tbody tr th:only-of-type {\n",
       "        vertical-align: middle;\n",
       "    }\n",
       "\n",
       "    .dataframe tbody tr th {\n",
       "        vertical-align: top;\n",
       "    }\n",
       "\n",
       "    .dataframe thead th {\n",
       "        text-align: right;\n",
       "    }\n",
       "</style>\n",
       "<table border=\"1\" class=\"dataframe\">\n",
       "  <thead>\n",
       "    <tr style=\"text-align: right;\">\n",
       "      <th></th>\n",
       "      <th>osmid</th>\n",
       "      <th>x</th>\n",
       "      <th>y</th>\n",
       "      <th>ref</th>\n",
       "      <th>highway</th>\n",
       "      <th>geometry</th>\n",
       "    </tr>\n",
       "  </thead>\n",
       "  <tbody>\n",
       "    <tr>\n",
       "      <th>0</th>\n",
       "      <td>309330024</td>\n",
       "      <td>-122.354382</td>\n",
       "      <td>37.587447</td>\n",
       "      <td>NaN</td>\n",
       "      <td>NaN</td>\n",
       "      <td>POINT (-122.3543825 37.5874468)</td>\n",
       "    </tr>\n",
       "    <tr>\n",
       "      <th>1</th>\n",
       "      <td>247385811</td>\n",
       "      <td>-122.014259</td>\n",
       "      <td>37.337711</td>\n",
       "      <td>NaN</td>\n",
       "      <td>traffic_signals</td>\n",
       "      <td>POINT (-122.0142588 37.337711)</td>\n",
       "    </tr>\n",
       "    <tr>\n",
       "      <th>2</th>\n",
       "      <td>247385814</td>\n",
       "      <td>-122.015335</td>\n",
       "      <td>37.335105</td>\n",
       "      <td>NaN</td>\n",
       "      <td>NaN</td>\n",
       "      <td>POINT (-122.0153351 37.3351054)</td>\n",
       "    </tr>\n",
       "    <tr>\n",
       "      <th>3</th>\n",
       "      <td>4353687911</td>\n",
       "      <td>-122.445425</td>\n",
       "      <td>37.731519</td>\n",
       "      <td>NaN</td>\n",
       "      <td>NaN</td>\n",
       "      <td>POINT (-122.4454249 37.7315189)</td>\n",
       "    </tr>\n",
       "    <tr>\n",
       "      <th>4</th>\n",
       "      <td>4353687912</td>\n",
       "      <td>-122.445424</td>\n",
       "      <td>37.731608</td>\n",
       "      <td>NaN</td>\n",
       "      <td>NaN</td>\n",
       "      <td>POINT (-122.4454242 37.7316082)</td>\n",
       "    </tr>\n",
       "  </tbody>\n",
       "</table>\n",
       "</div>"
      ],
      "text/plain": [
       "        osmid           x          y  ref          highway  \\\n",
       "0   309330024 -122.354382  37.587447  NaN              NaN   \n",
       "1   247385811 -122.014259  37.337711  NaN  traffic_signals   \n",
       "2   247385814 -122.015335  37.335105  NaN              NaN   \n",
       "3  4353687911 -122.445425  37.731519  NaN              NaN   \n",
       "4  4353687912 -122.445424  37.731608  NaN              NaN   \n",
       "\n",
       "                          geometry  \n",
       "0  POINT (-122.3543825 37.5874468)  \n",
       "1   POINT (-122.0142588 37.337711)  \n",
       "2  POINT (-122.0153351 37.3351054)  \n",
       "3  POINT (-122.4454249 37.7315189)  \n",
       "4  POINT (-122.4454242 37.7316082)  "
      ]
     },
     "execution_count": 24,
     "metadata": {},
     "output_type": "execute_result"
    }
   ],
   "source": [
    "#look at the first few\n",
    "nodes_map.head()"
   ]
  },
  {
   "cell_type": "code",
   "execution_count": 56,
   "metadata": {
    "nbpresent": {
     "id": "12307250-3179-4710-9ec1-d0a92859dd17"
    },
    "scrolled": false
   },
   "outputs": [
    {
     "data": {
      "text/plain": [
       "<matplotlib.axes._subplots.AxesSubplot at 0x12dcc06a0>"
      ]
     },
     "execution_count": 56,
     "metadata": {},
     "output_type": "execute_result"
    },
    {
     "data": {
      "image/png": "[encoded data removed]",
      "text/plain": [
       "<Figure size 1080x1080 with 1 Axes>"
      ]
     },
     "metadata": {
      "needs_background": "light"
     },
     "output_type": "display_data"
    }
   ],
   "source": [
    "#plot nodes lat-long\n",
    "fig, ax = plt.subplots(figsize=[15,15])\n",
    "nodes_map.plot(ax=ax, markersize=20, color='green')\n",
    "#bay_area_streets.plot(ax = ax, alpha = .4, color = 'grey')\n",
    "#plt.legend(prop={'size': 15})\n",
    "#ax.axis('on')"
   ]
  }
 ],
 "metadata": {
  "kernelspec": {
   "display_name": "Python 3",
   "language": "python",
   "name": "python3"
  },
  "language_info": {
   "codemirror_mode": {
    "name": "ipython",
    "version": 3
   },
   "file_extension": ".py",
   "mimetype": "text/x-python",
   "name": "python",
   "nbconvert_exporter": "python",
   "pygments_lexer": "ipython3",
   "version": "3.7.3"
  }
 },
 "nbformat": 4,
 "nbformat_minor": 2
}
